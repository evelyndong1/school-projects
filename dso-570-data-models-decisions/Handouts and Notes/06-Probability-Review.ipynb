{
 "cells": [
  {
   "cell_type": "markdown",
   "metadata": {},
   "source": [
    "# Session 6: Probability Review I\n",
    "\n",
    "**Q1:** We toss a coin three times. Each time a coin is tossed, the outcome is H (heads) with probability 1/2 and T (tails) with probability 1/2. The tosses are independent of one another.\n",
    "\n",
    "**a)** What is the probability of the outcome \"HHT\"?\n",
    "\n",
    "**b)** What is the probability of the event \"The first two tosses resulted in heads\"?\n",
    "\n",
    "**c)** What is the probability of the event \"There were two heads in a row among the three tosses\"?\n",
    "\n",
    "**d)** What is the probability of the event \"The first and the third toss have equal outcome\"?\n",
    "\n",
    "**e)** What is the expected number of total heads?\n",
    "\n",
    "**f)** What is the expected number of total occurrences of \"HH\"?"
   ]
  },
  {
   "cell_type": "markdown",
   "metadata": {},
   "source": [
    "**Q2:** Suppose that there are 80 students in a class, with demographic information given below.\n",
    "\n",
    "| # | Work experience | No work experience |\n",
    "|--|--|--|\n",
    "|Domestic | 10 | 20 |\n",
    "|International | 10 | 40 | \n",
    "\n",
    "Denote the events:\n",
    "\n",
    "- $W$: a student has work experience. ($W'$ denotes no work experience.)\n",
    "- $D$: a student is domestic. ($D'$ denotes international.)\n",
    "\n",
    "\n",
    "**a)** What is the probability $P(W)$ that a randomly chosen student has work experience?\n",
    "\n",
    "**b)** What is the probability $P(W|D)$ that a randomly chosen domestic student has work experience?\n",
    "\n",
    "**c)** Interpret and compute the following probabilities: $P(D)$, $P(W')$, $P(D')$.\n",
    "\n",
    "**d)** Interpret and compute the following probabilities: $P(W|D')$, $P(W'|D)$, $P(W'|D')$. \n",
    "\n",
    "**e)** Interpret and compute the following probabilities: $P(D|W)$, $P(D'|W)$, $P(D|W')$, $P(D'|W')$."
   ]
  },
  {
   "cell_type": "markdown",
   "metadata": {},
   "source": [
    "**Q3:** Suppose that the baseline probability of a certain cancer in the population is 0.1\\%. There is a test for this cancer, which yields a positive result with 99\\% probability if you have the cancer. However, the test would yield a (erroneous) positive result with 1\\% probability even if you do not have the cancer. Suppose you test positive on the test, what is the chance that you have cancer?"
   ]
  },
  {
   "cell_type": "markdown",
   "metadata": {},
   "source": [
    "**Q4:** An entrepreneur would like to decide whether to conduct a market survey. Without performing the survey, she estimates that there is a 40\\% chance that the market is strong and a 60\\% chance that the market is weak. If the market is strong, then her product would earn a profit of 18 million dollars. But if the market is weak, she would not earn a profit but will incur a loss of 8 million dollars. \n",
    "\n",
    "Past results indicate that if the market is weak, then there is a 90\\% chance that the survey would yield a negative result (meaning that with 10\\% chance, the survey result would be misleading). If the market is strong, there is a 80\\% chance that the survey would yield a positive result (meaning that with 20\\% chance, the survey would be wrong). \n",
    "\n",
    "**a)** Without completing the survey, what's her expected profit with the product?\n",
    "\n",
    "**b)** Suppose the survey result is positive, what's her expected profit?\n",
    "\n",
    "**c)** Suppose the survey result is negative, what's her expected profit for going ahead with the product? What should she do in this case?\n",
    "\n",
    "**d)** How much should she be willing to pay for the market survey?"
   ]
  },
  {
   "cell_type": "markdown",
   "metadata": {},
   "source": [
    "**(Bonus 1)** A lady has exactly two children, at least one of whom is a boy. What's the chance she has two boys? (Assume that boys and girls are equally likely and the gender of each child is independent of the other.)"
   ]
  },
  {
   "cell_type": "markdown",
   "metadata": {},
   "source": [
    "**(Bonus 2)** On a game show, there are three identical looking doors, one of which leads to a prize, and the other two lead to nothing. Every time this show is played, the host would ask you, the participant, to choose a door. After you have indicated your choice, the host would always open one of the three doors you have not chosen and show that it leads to nothing. After seeing this new information, you have the opportunity to change your choice to the other unopened door. Should you change or not?"
   ]
  }
 ],
 "metadata": {
  "kernelspec": {
   "display_name": "Python 3",
   "language": "python",
   "name": "python3"
  },
  "language_info": {
   "codemirror_mode": {
    "name": "ipython",
    "version": 3
   },
   "file_extension": ".py",
   "mimetype": "text/x-python",
   "name": "python",
   "nbconvert_exporter": "python",
   "pygments_lexer": "ipython3",
   "version": "3.7.2"
  }
 },
 "nbformat": 4,
 "nbformat_minor": 2
}
