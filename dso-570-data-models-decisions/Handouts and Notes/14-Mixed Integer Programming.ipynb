{
 "cells": [
  {
   "cell_type": "markdown",
   "metadata": {},
   "source": [
    "# Session 14: Mixed Integer Optimization"
   ]
  },
  {
   "cell_type": "markdown",
   "metadata": {},
   "source": [
    "## 0. Review of LP Geometry\n",
    "\n",
    "Recall the LP from Q1 of last session: \n",
    "$$\\begin{aligned}\n",
    "\\text{Maximize} && 100X+200Y \\\\\n",
    "\\text{subject to:} \\\\\n",
    "\\text{(Steel)} && 4X+Y & \\le 60 \\\\\n",
    "\\text{(Plastic)} && 2Y & \\le 48 \\\\\n",
    "\\text{(Labor)} && X+Y & \\le 30 \\\\\n",
    "\\text{(Non-negativity)}&& X,Y & \\ge 0 \\\\\n",
    "\\end{aligned}$$\n",
    "\n",
    "![Diagram from last session](13-Q1.png)\n",
    "\n",
    "Here are the solutions and shadow prices obtained from Gurobi:\n",
    "\n",
    "|` ` | Optimal Value |\n",
    "|--|--|\n",
    "| Profit | $5400$ | \n",
    "| Production Plan $(X,Y)$ | $(6,24)$ |\n",
    "\n",
    "| Constraint | Shadow Price | Current RHS | Valid Range for the RHS |\n",
    "|--|--| --| --|\n",
    "|Steel | $0$ | 60 | 48 to infinity |\n",
    "|Plastic | $50$ | 48 |40 to 60 |\n",
    "|Labor | $100$ | 30 | 24 to 33|\n",
    "\n",
    "## Q0: Interpreting Results \n",
    "\n",
    "**a)** Recall that a constraint is binding (a.k.a. active) if its (Left Hand Side)=(Right Hand Side) at the optimal solution. Which constraints are binding?\n",
    "\n",
    "**b)** How much more money can we make with 10 additional units of plastic?\n",
    "\n",
    "**c)** What is the change in the optimal profit if the supply of labor reduces by 6 hours?\n",
    "\n",
    "**d)** How much money should we be willing to pay a new part-time worker who can contribute 3 hours of additional labor?\n",
    "\n",
    "**e)** If another company is willing to buy steel for 80 dollars per unit, are we willing to sell them 12 units? Are we willing to sell them all of our steel?\n",
    "\n",
    "**f)** Would gaining 20 units of plastic gain us exactly 1000 dollars? Would losing 10 units of labor lose us exactly 1000 dollars? Why or why not?\n",
    "\n",
    "**g)** Can we say based on the shadow price information that 1 additional unit of both labor and plastic would help us gain 150 dollars?\n",
    "\n",
    "\n",
    "## 1. Geometry of Discrete Optimization (Do not use Computer in this Part)\n",
    "\n",
    "Consider modifications of the above optimization problem with additional business constraints.\n",
    "\n",
    "\n",
    "\n",
    "## Q1. Discrete Batch Size\n",
    "\n",
    "Suppose that both $X$ and $Y$ have to be integer multiples of 10. \n",
    "\n",
    "**a)** Draw the feasible region of the LP and mark all the points $(X,Y)$ in this region for which both $X$ and $Y$ are integer multiples of $10$. \n",
    "\n",
    "**b)** Identify the optimal production plan under this business constraint.\n",
    "\n",
    "**c)** What would be the value of a single additional unit of steel, plastic and of labor?"
   ]
  },
  {
   "cell_type": "markdown",
   "metadata": {},
   "source": [
    "## Q2. Fixed Costs\n",
    "\n",
    "Suppose that $X$ and $Y$ do not have to be multiples of 10, but there is a fixed cost of 1000 for using any amount of plastic. If we pay this cost, then we have 48 units of plastic at our disposal, otherwise we cannot use any plastic. \n",
    "\n",
    "What is the optimal profit and corresponding production plan?  (Hint: graphically solve a new LP in which the right hand side of the plastic constraint is zero. Compare the solution to the original LP, and penalize the profit of the original LP by the fixed cost.)\n"
   ]
  },
  {
   "cell_type": "markdown",
   "metadata": {},
   "source": [
    "## 2. Mixed Integer Programs (MIPs)\n",
    "\n",
    "**A MIP is a linear program in which certain variables are constrained to be integers.** The optimization in Q1 can be formulated as the following MIP:\n",
    "\n",
    "**Decision Variables:**\n",
    "\n",
    "- Let $X$ and $Y$ be the amount of each product to produce. (Continuous)\n",
    "- Let $Z_X$ and $Z_Y$ be integers, corresponding to the number of batches of 10 to produce.\n",
    "\n",
    "**Objective and Constraints:**\n",
    "\n",
    "$$\\begin{aligned}\n",
    "\\text{Maximize} && 100X+200Y \\\\\n",
    "\\text{subject to:} \\\\\n",
    "\\text{(Steel)} && 4X+Y & \\le 60 \\\\\n",
    "\\text{(Plastic)} && 2Y & \\le 48 \\\\\n",
    "\\text{(Labor)} && X+Y & \\le 30 \\\\\n",
    "\\text{(X multiple of 10)} && X &= 10Z_X \\\\\n",
    "\\text{(Y multiple of 10)} && Y &= 10Z_Y \\\\\n",
    "\\text{(Non-negativity)}&& X,Y & \\ge 0 \\\\\n",
    "\\text{(Integer)} && Z_X, Z_Y & \\in \\mathbb{Z}\n",
    "\\end{aligned}$$\n",
    "\n",
    "The optimization in Q2 can be formulated as the following MIP:\n",
    "\n",
    "**Decision Variables:**\n",
    "\n",
    "- Let $X$ and $Y$ be the amount of each product to produce. (Continuous)\n",
    "- Let $P$ be a binary variable corresponding to whether we use plastic at all. \n",
    "\n",
    "**Objective and Constraints:**\n",
    "\n",
    "$$\\begin{aligned}\n",
    "\\text{Maximize} && 100X+200Y-1000P \\\\\n",
    "\\text{subject to:} \\\\\n",
    "\\text{(Steel)} && 4X+Y & \\le 60 \\\\\n",
    "\\text{(Plastic)} && 2Y & \\le 48P \\\\\n",
    "\\text{(Labor)} && X+Y & \\le 30 \\\\\n",
    "\\text{(Non-negativity)}&& X,Y & \\ge 0 \\\\\n",
    "\\text{(Binary)} && P & \\in \\{0,1\\}\n",
    "\\end{aligned}$$"
   ]
  },
  {
   "cell_type": "markdown",
   "metadata": {},
   "source": [
    "## 3. Solving MIPs using Gurobi\n",
    "\n",
    "MIPs can be solved using Gurobi similar to LPs, with two important differences.\n",
    "\n",
    "**Difference 1:** The variable types must be specified as integer or binary. (Default variable type is continuous.) \n",
    "\n",
    "```python\n",
    "from gurobipy import Model,GRB\n",
    "mod=Model()\n",
    "Z_X=mod.addVar(vtype=GRB.INTEGER)\n",
    "P=mod.addVar(vtype=GRB.BINARY)\n",
    "```\n",
    "**Difference 2:** There is no longer a notion of shadow price, so you can no longer use `.pi` or `.sarhslow` or `.sarhsup` for sensitivity analysis. \n",
    "\n",
    "## Q3. Use Gurobi to solve Q1 and Q2."
   ]
  },
  {
   "cell_type": "code",
   "execution_count": 2,
   "metadata": {},
   "outputs": [
    {
     "name": "stdout",
     "output_type": "stream",
     "text": [
      "Solution to Q1.\n",
      "Optimal objective value: 5000.0\n",
      "\tOptimal X: 10.0\n",
      "\tOptimal Y: 20.0\n"
     ]
    }
   ],
   "source": []
  },
  {
   "cell_type": "code",
   "execution_count": 3,
   "metadata": {},
   "outputs": [
    {
     "name": "stdout",
     "output_type": "stream",
     "text": [
      "Solution to Q2.\n",
      "Optimal objective value: 4400.0\n",
      "\tOptimal X: 6.0\n",
      "\tOptimal Y: 24.0\n"
     ]
    }
   ],
   "source": []
  }
 ],
 "metadata": {
  "kernelspec": {
   "display_name": "Python 3",
   "language": "python",
   "name": "python3"
  },
  "language_info": {
   "codemirror_mode": {
    "name": "ipython",
    "version": 3
   },
   "file_extension": ".py",
   "mimetype": "text/x-python",
   "name": "python",
   "nbconvert_exporter": "python",
   "pygments_lexer": "ipython3",
   "version": "3.7.6"
  }
 },
 "nbformat": 4,
 "nbformat_minor": 2
}
