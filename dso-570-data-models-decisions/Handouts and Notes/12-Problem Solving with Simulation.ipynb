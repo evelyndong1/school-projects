{
 "cells": [
  {
   "cell_type": "markdown",
   "metadata": {},
   "source": [
    "# Session 12: Problem Solving with Simulation\n",
    "\n",
    "## Performance Comparisons"
   ]
  },
  {
   "cell_type": "code",
   "execution_count": 1,
   "metadata": {},
   "outputs": [
    {
     "name": "stdout",
     "output_type": "stream",
     "text": [
      "516 µs ± 13.8 µs per loop (mean ± std. dev. of 7 runs, 1000 loops each)\n"
     ]
    }
   ],
   "source": [
    "from scipy.stats import binom\n",
    "import numpy as np\n",
    "%timeit binom(100000,0.05).rvs()"
   ]
  },
  {
   "cell_type": "code",
   "execution_count": 2,
   "metadata": {},
   "outputs": [
    {
     "name": "stdout",
     "output_type": "stream",
     "text": [
      "33.8 µs ± 1.12 µs per loop (mean ± std. dev. of 7 runs, 10000 loops each)\n"
     ]
    }
   ],
   "source": [
    "dist=binom(100000,0.05)\n",
    "%timeit dist.rvs()"
   ]
  },
  {
   "cell_type": "code",
   "execution_count": 3,
   "metadata": {},
   "outputs": [
    {
     "name": "stdout",
     "output_type": "stream",
     "text": [
      "1.26 µs ± 27.8 ns per loop (mean ± std. dev. of 7 runs, 1000000 loops each)\n"
     ]
    }
   ],
   "source": [
    "%timeit np.random.binomial(100000,0.05)"
   ]
  },
  {
   "cell_type": "markdown",
   "metadata": {},
   "source": [
    "## Q1. Forecasting the Spread of a New Virus\n",
    "A new virus has broken out in a city and has an incubation period of $d=14$ days. Starting from $a=2$ days after infection to the last day of the incubation period, each infected patient has close contact with $n=6$ uninfected people, and infects each of them with probability $p=0.05$ independently from others. At the end of the last day of incubation, each infected person reports to the hospital and enters isolation, which means that they stop infecting others. Suppose that there is exactly 1 infected person on Day 0, create a function that simulates the number of patients who report to the hospital at the end of Day 1 through Day $m$. \n",
    "\n",
    "The function should be called `simulateNewCases` and has the following arguments:\n",
    "\n",
    "- `m`: the number of days to simulate.\n",
    "- `a` (default value 2): the minimum day after infection when a patient becomes contagious.\n",
    "- `d` (default value 14): the day after infection in which symptoms begin.\n",
    "- `n` (default value 6): the number of uninfected individuals a person contacts each day.\n",
    "- `p` (default value 0.05): the probability of infecting a close contact each day. \n",
    "\n",
    "The function should return a list of $m$ integers, representing the number of infected individuals who exit incubation and report to the hospital at the end of Day 1 through Day $m$. \n",
    "\n",
    "To illustrate the timeline. Suppose that a person is infected on Day 5, then the person becomes contagious on Day $5+a=7$ and starting on that day, has the capacity to infect up to $n$ people per day. At the end Day $5+d=19$, after possibly infecting new people on that day, the patient reports to the hospital and enters into isolation."
   ]
  },
  {
   "cell_type": "code",
   "execution_count": 4,
   "metadata": {},
   "outputs": [],
   "source": []
  },
  {
   "cell_type": "code",
   "execution_count": 14,
   "metadata": {},
   "outputs": [
    {
     "data": {
      "text/plain": [
       "<matplotlib.axes._subplots.AxesSubplot at 0x7f795fb89b38>"
      ]
     },
     "execution_count": 14,
     "metadata": {},
     "output_type": "execute_result"
    },
    {
     "data": {
      "image/png": "[encoded data removed]",
      "text/plain": [
       "<Figure size 432x288 with 1 Axes>"
      ]
     },
     "metadata": {
      "needs_background": "light"
     },
     "output_type": "display_data"
    }
   ],
   "source": [
    "import pandas as pd\n",
    "import matplotlib.pyplot as plt\n",
    "m=60\n",
    "s=pd.Series(simulateNewCases(m),index=range(1,m+1))\n",
    "plt.xlabel('Day')\n",
    "plt.ylabel('Number of reported cases per day')\n",
    "plt.title('Possible disease trajectory')\n",
    "s.plot(logy=True)"
   ]
  },
  {
   "cell_type": "code",
   "execution_count": 6,
   "metadata": {},
   "outputs": [],
   "source": [
    "total=pd.Series([sum(simulateNewCases(60)) for i in range(1000)])"
   ]
  },
  {
   "cell_type": "code",
   "execution_count": 7,
   "metadata": {},
   "outputs": [
    {
     "name": "stdout",
     "output_type": "stream",
     "text": [
      "Number of total cases in 60 days.\n",
      "  Forecast mean: 11720\n",
      "  Forecast standard deviation: 9101\n"
     ]
    }
   ],
   "source": [
    "print('Number of total cases in 60 days.')\n",
    "print(f'  Forecast mean: {total.mean():.0f}')\n",
    "print(f'  Forecast standard deviation: {total.std():.0f}')"
   ]
  },
  {
   "cell_type": "code",
   "execution_count": 8,
   "metadata": {},
   "outputs": [
    {
     "data": {
      "text/plain": [
       "<matplotlib.axes._subplots.AxesSubplot at 0x7f795fed5a58>"
      ]
     },
     "execution_count": 8,
     "metadata": {},
     "output_type": "execute_result"
    },
    {
     "data": {
      "image/png": "[encoded data removed]",
      "text/plain": [
       "<Figure size 432x288 with 1 Axes>"
      ]
     },
     "metadata": {
      "needs_background": "light"
     },
     "output_type": "display_data"
    }
   ],
   "source": [
    "plt.xlabel('Number of total cases')\n",
    "plt.ylabel('Probability')\n",
    "plt.title('Empirical CDF of Number of Cases in 60 Days')\n",
    "total.hist(bins=100,density=True,cumulative=True)"
   ]
  },
  {
   "cell_type": "markdown",
   "metadata": {},
   "source": [
    "## Q2. Discussion\n",
    "\n",
    "**a)** What other interesting questions might be answered using the simulation model in Q1?\n",
    "\n",
    "**b)** Pick one or more questions from part a), what would be your analysis plan for studying this question? \n",
    "\n",
    "## Q3. Self-Directed Exploration\n",
    "\n",
    "Implement on or more of your analysis plans from Q2."
   ]
  }
 ],
 "metadata": {
  "kernelspec": {
   "display_name": "Python 3",
   "language": "python",
   "name": "python3"
  },
  "language_info": {
   "codemirror_mode": {
    "name": "ipython",
    "version": 3
   },
   "file_extension": ".py",
   "mimetype": "text/x-python",
   "name": "python",
   "nbconvert_exporter": "python",
   "pygments_lexer": "ipython3",
   "version": "3.7.2"
  }
 },
 "nbformat": 4,
 "nbformat_minor": 2
}
