{
 "cells": [
  {
   "cell_type": "markdown",
   "metadata": {},
   "source": [
    "# Session 14: Mixed Integer Optimization (with Solutions)"
   ]
  },
  {
   "cell_type": "markdown",
   "metadata": {},
   "source": [
    "## 0. Review of LP Geometry\n",
    "\n",
    "Recall the LP from Q1 of last session: \n",
    "$$\\begin{aligned}\n",
    "\\text{Maximize} && 100X+200Y \\\\\n",
    "\\text{subject to:} \\\\\n",
    "\\text{(Steel)} && 4X+Y & \\le 60 \\\\\n",
    "\\text{(Plastic)} && 2Y & \\le 48 \\\\\n",
    "\\text{(Labor)} && X+Y & \\le 30 \\\\\n",
    "\\text{(Non-negativity)}&& X,Y & \\ge 0 \\\\\n",
    "\\end{aligned}$$\n",
    "\n",
    "![Diagram from last session](13-Q1.png)\n",
    "\n",
    "Here are the solutions and shadow prices obtained from Gurobi:\n",
    "\n",
    "|` ` | Optimal Value |\n",
    "|--|--|\n",
    "| Profit | $5400$ | \n",
    "| Production Plan $(X,Y)$ | $(6,24)$ |\n",
    "\n",
    "| Constraint | Shadow Price | Current RHS | Valid Range for the RHS |\n",
    "|--|--| --| --|\n",
    "|Steel | $0$ | 60 | 48 to infinity |\n",
    "|Plastic | $50$ | 48 |40 to 60 |\n",
    "|Labor | $100$ | 30 | 24 to 33|\n",
    "\n",
    "## Q0: Interpreting Results \n",
    "\n",
    "**a)** Recall that a constraint is binding (a.k.a. active) if its (Left Hand Side)=(Right Hand Side) at the optimal solution. Which constraints are binding?\n",
    "\n",
    "**b)** How much more money can we make with 10 additional units of plastic?\n",
    "\n",
    "**c)** What is the change in the optimal profit if the supply of labor reduces by 6 hours?\n",
    "\n",
    "**d)** How much money should we be willing to pay a new part-time worker who can contribute 3 hours of additional labor?\n",
    "\n",
    "**e)** If another company is willing to buy steel for 80 dollars per unit, are we willing to sell them 12 units? Are we willing to sell them all of our steel?\n",
    "\n",
    "**f)** Would gaining 20 units of plastic gain us exactly 1000 dollars? Would losing 10 units of labor lose us exactly 1000 dollars? Why or why not?\n",
    "\n",
    "**g)** Can we say based on the shadow price information that 1 additional unit of both labor and plastic would help us gain 150 dollars?\n",
    "\n",
    "\n",
    "## Solutions to Q0.\n",
    "\n",
    "**a)** The binding constraints are Labor and Plastic, since with $(X,Y)=(6,24)$, $X+Y=30$ and $2Y=48$. However, the Steel constraint is not binding as $4X+Y=48<60$. One can also see this from the picture as the optimal point does not touch the boundary of the steel constraint.\n",
    "\n",
    "**b)** Based on the shadow price, 10 additional units of plastic is worth 500. Note that we can use the shadow price for this because $48+10=58$, which is in the range $[40,60]$.\n",
    "\n",
    "**c)** Similarly, reducing the supply of labor by 6 hours would change the profit by $(100)(-6)=-600$. Note that $30-6=24 \\in [24,33]$. \n",
    "\n",
    "**d)** We should be willing to pay $(100)(3)=300$ dollars for the part time worker. Note that $30+3=33 \\in [24,33]$. \n",
    "\n",
    "**e)** Note that Steel has 0 shadow price as long as we have at least 48 units, so 12 units of steel is worthless to us. We should definitely sell it. However, we cannot use shadow price information if we lose more than 12 units of steel. However, since we cannot produce anything without steel, we should not be willing to pay less than 5400 for all of our steel, and $5400>80*60=4800$. So we should not sell all of our steel. The price at which we would sell all of our steel is $5400/60=90$. \n",
    "\n",
    "**f)** Although $(50)(20)=1000$ and $(100)(10)=1000$, we cannot conclude these things because the shadow price of 50 for Plastic and 100 for steel are invalid when the RHS of plastic becomes $48+20=68$ and of labor becomes $30-10=20$. \n",
    "\n",
    "**g)** We cannot use shadow price to argue about what happens with two simultaneous changes, as shadow prices are only for changing one constraint while holding everything else fixed.\n",
    "\n",
    "\n",
    "## 1. Geometry of Discrete Optimization (Do not use Computer in this Part)\n",
    "\n",
    "Consider modifications of the above optimization problem with additional business constraints.\n",
    "\n",
    "\n",
    "\n",
    "## Q1. Discrete Batch Size\n",
    "\n",
    "Suppose that both $X$ and $Y$ have to be integer multiples of 10. \n",
    "\n",
    "**a)** Draw the feasible region of the LP and mark all the points $(X,Y)$ in this region for which both $X$ and $Y$ are integer multiples of $10$. \n",
    "\n",
    "**b)** Identify the optimal production plan under this business constraint.\n",
    "\n",
    "**c)** What would be the value of a single additional unit of steel, plastic and of labor?"
   ]
  },
  {
   "cell_type": "markdown",
   "metadata": {},
   "source": [
    "## Solution to Q1.\n",
    "\n",
    "As with Session 13, ignore the Python code generating the plot, as you are only expected to draw it using paper."
   ]
  },
  {
   "cell_type": "code",
   "execution_count": 4,
   "metadata": {},
   "outputs": [
    {
     "data": {
      "image/png": "[encoded data removed]",
      "text/plain": [
       "<Figure size 432x432 with 1 Axes>"
      ]
     },
     "metadata": {
      "needs_background": "light"
     },
     "output_type": "display_data"
    }
   ],
   "source": [
    "from pylab import *\n",
    "figure(figsize=(6,6))\n",
    "axisMin,axisMax=-5,35\n",
    "ylim(axisMin,axisMax)\n",
    "xlim(axisMin,axisMax)\n",
    "hlines(0,axisMin,axisMax,color='k')\n",
    "vlines(0,axisMin,axisMax,color='k')\n",
    "grid(True)\n",
    "xlabel(r'$X$')\n",
    "ylabel(r'$Y$')\n",
    "x=linspace(axisMin,axisMax,1000)\n",
    "y1=60-4*x\n",
    "y2=24\n",
    "y3=30-x\n",
    "hlines(y2,axisMin,axisMax,'g')\n",
    "plot(x,y1,'g')\n",
    "plot(x,y3,'g')\n",
    "#fill_between(x,0, np.minimum(y1,np.minimum(y2,y3)),where=(y1>=0)&(x>=0))\n",
    "plot([0,0,0,10,10,10],[0,10,20,0,10,20],'bo')\n",
    "plot([10],[20],'ro',markersize=10)\n",
    "arrow(10,20,5,10,head_width=1, head_length=1,color='r',width=0.1)\n",
    "plot([4,10,15],[20+5/2,20,20-5/2],'k--')\n",
    "show()"
   ]
  },
  {
   "cell_type": "markdown",
   "metadata": {},
   "source": [
    "As can be seen the, optimal point is $(X,Y)=(10,20)$. \n",
    "\n",
    "For part c), note that one additional unit of any resource would only shift the green lines out marginally, and would not add any more feasible production plans. (We would more than one units of additional resources in order to produce another batch of X or Y.) Hence, the value of a single additional unit of any resource is zero."
   ]
  },
  {
   "cell_type": "markdown",
   "metadata": {},
   "source": [
    "## Q2. Fixed Costs\n",
    "\n",
    "Suppose that $X$ and $Y$ do not have to be multiples of 10, but there is a fixed cost of 1000 for using any amount of plastic. If we pay this cost, then we have 48 units of plastic at our disposal, otherwise we cannot use any plastic. \n",
    "\n",
    "What is the optimal profit and corresponding production plan?  (Hint: graphically solve a new LP in which the right hand side of the plastic constraint is zero. Compare the solution to the original LP, and penalize the profit of the original LP by the fixed cost.)\n"
   ]
  },
  {
   "cell_type": "markdown",
   "metadata": {},
   "source": [
    "## Solution to Q2.\n",
    "\n",
    "Without using plastic, we can only produce product X. The bottleneck is the steel constraint, and the maximum amount of X we can produce is $15$, yielding a total profit of $1500$. If we use plastic, then the optimal profit accounting for the fixed cost is $5400-1000=4400>1500$. Hence, the optimal production plan is the same as before, being $(X,Y)=(6,24)$.\n"
   ]
  },
  {
   "cell_type": "markdown",
   "metadata": {},
   "source": [
    "## 2. Mixed Integer Programs (MIPs)\n",
    "\n",
    "**A MIP is a linear program in which certain variables are constrained to be integers.** The optimization in Q1 can be formulated as the following MIP:\n",
    "\n",
    "**Decision Variables:**\n",
    "\n",
    "- Let $X$ and $Y$ be the amount of each product to produce. (Continuous)\n",
    "- Let $Z_X$ and $Z_Y$ be integers, corresponding to the number of batches of 10 to produce.\n",
    "\n",
    "**Objective and Constraints:**\n",
    "\n",
    "$$\\begin{aligned}\n",
    "\\text{Maximize} && 100X+200Y \\\\\n",
    "\\text{subject to:} \\\\\n",
    "\\text{(Steel)} && 4X+Y & \\le 60 \\\\\n",
    "\\text{(Plastic)} && 2Y & \\le 48 \\\\\n",
    "\\text{(Labor)} && X+Y & \\le 30 \\\\\n",
    "\\text{(X multiple of 10)} && X &= 10Z_X \\\\\n",
    "\\text{(Y multiple of 10)} && Y &= 10Z_Y \\\\\n",
    "\\text{(Non-negativity)}&& X,Y & \\ge 0 \\\\\n",
    "\\text{(Integer)} && Z_X, Z_Y & \\in \\mathbb{Z}\n",
    "\\end{aligned}$$\n",
    "\n",
    "The optimization in Q2 can be formulated as the following MIP:\n",
    "\n",
    "**Decision Variables:**\n",
    "\n",
    "- Let $X$ and $Y$ be the amount of each product to produce. (Continuous)\n",
    "- Let $P$ be a binary variable corresponding to whether we use plastic at all. \n",
    "\n",
    "**Objective and Constraints:**\n",
    "\n",
    "$$\\begin{aligned}\n",
    "\\text{Maximize} && 100X+200Y-1000P \\\\\n",
    "\\text{subject to:} \\\\\n",
    "\\text{(Steel)} && 4X+Y & \\le 60 \\\\\n",
    "\\text{(Plastic)} && 2Y & \\le 48P \\\\\n",
    "\\text{(Labor)} && X+Y & \\le 30 \\\\\n",
    "\\text{(Non-negativity)}&& X,Y & \\ge 0 \\\\\n",
    "\\text{(Binary)} && P & \\in \\{0,1\\}\n",
    "\\end{aligned}$$"
   ]
  },
  {
   "cell_type": "markdown",
   "metadata": {},
   "source": [
    "## 3. Solving MIPs using Gurobi\n",
    "\n",
    "MIPs can be solved using Gurobi similar to LPs, with two important differences.\n",
    "\n",
    "**Difference 1:** The variable types must be specified as integer or binary. (Default variable type is continuous.) \n",
    "\n",
    "```python\n",
    "from gurobipy import Model,GRB\n",
    "mod=Model()\n",
    "Z_X=mod.addVar(vtype=GRB.INTEGER)\n",
    "P=mod.addVar(vtype=GRB.BINARY)\n",
    "```\n",
    "**Difference 2:** There is no longer a notion of shadow price, so you can no longer use `.pi` or `.sarhslow` or `.sarhsup` for sensitivity analysis. \n",
    "\n",
    "Instead, you can do the following for sensitivity analysis of right hand side constants.\n",
    "```python\n",
    "steel=mod.addConstr(4*X+Y<=60)\n",
    "mod.optimize()\n",
    "oldObjective=mod.objVal\n",
    "\n",
    "steel.RHS=61\n",
    "mod.optimize()\n",
    "newObjective=mod.objVal\n",
    "valueOfAdditionalSteel=newObjective-oldObjective\n",
    "```\n",
    "\n",
    "Sensitivity analysis of variable coefficients:\n",
    "\n",
    "```python\n",
    "plastic=mod.addConstr(2*Y<=48*P)\n",
    "mod.optimize()\n",
    "oldObjective=mod.objVal\n",
    "\n",
    "mod.chgCoeff(plastic,P,-49)\n",
    "mod.optimize()\n",
    "newObjective=mod.objVal\n",
    "valueOfAdditionalPlastic=newObjective-oldObjective\n",
    "```\n",
    "\n",
    "## Q3. Use Gurobi to solve Q1 and Q2."
   ]
  },
  {
   "cell_type": "code",
   "execution_count": 2,
   "metadata": {},
   "outputs": [
    {
     "name": "stdout",
     "output_type": "stream",
     "text": [
      "Solution to Q1.\n",
      "Optimal objective value: 5000.0\n",
      "\tOptimal X: 10.0\n",
      "\tOptimal Y: 20.0\n"
     ]
    }
   ],
   "source": [
    "from gurobipy import Model, GRB\n",
    "\n",
    "mod=Model()\n",
    "X=mod.addVar()\n",
    "Y=mod.addVar()\n",
    "Z_X=mod.addVar(vtype=GRB.INTEGER)\n",
    "Z_Y=mod.addVar(vtype=GRB.INTEGER)\n",
    "\n",
    "mod.setObjective(100*X+200*Y,sense=GRB.MAXIMIZE)\n",
    "mod.addConstr(4*X+Y <=60)\n",
    "mod.addConstr(2*Y<=48)\n",
    "mod.addConstr(X+Y<=30)\n",
    "mod.addConstr(X==10*Z_X)\n",
    "mod.addConstr(Y==10*Z_Y)\n",
    "\n",
    "mod.setParam('outputflag',False)\n",
    "mod.optimize()\n",
    "print('Solution to Q1.')\n",
    "print('Optimal objective value:', mod.objval)\n",
    "print('\\tOptimal X:',X.x)\n",
    "print('\\tOptimal Y:',Y.x)"
   ]
  },
  {
   "cell_type": "code",
   "execution_count": 3,
   "metadata": {},
   "outputs": [
    {
     "name": "stdout",
     "output_type": "stream",
     "text": [
      "Solution to Q2.\n",
      "Optimal objective value: 4400.0\n",
      "\tOptimal X: 6.0\n",
      "\tOptimal Y: 24.0\n"
     ]
    }
   ],
   "source": [
    "from gurobipy import Model, GRB\n",
    "\n",
    "mod=Model()\n",
    "X=mod.addVar()\n",
    "Y=mod.addVar()\n",
    "P=mod.addVar(vtype=GRB.BINARY)\n",
    "\n",
    "mod.setObjective(100*X+200*Y-1000*P,sense=GRB.MAXIMIZE)\n",
    "mod.addConstr(4*X+Y <=60)\n",
    "mod.addConstr(2*Y<=48*P)\n",
    "mod.addConstr(X+Y<=30)\n",
    "\n",
    "mod.setParam('outputflag',False)\n",
    "mod.optimize()\n",
    "print('Solution to Q2.')\n",
    "print('Optimal objective value:', mod.objval)\n",
    "print('\\tOptimal X:',X.x)\n",
    "print('\\tOptimal Y:',Y.x)"
   ]
  }
 ],
 "metadata": {
  "kernelspec": {
   "display_name": "Python 3",
   "language": "python",
   "name": "python3"
  },
  "language_info": {
   "codemirror_mode": {
    "name": "ipython",
    "version": 3
   },
   "file_extension": ".py",
   "mimetype": "text/x-python",
   "name": "python",
   "nbconvert_exporter": "python",
   "pygments_lexer": "ipython3",
   "version": "3.7.6"
  },
  "toc": {
   "base_numbering": 1,
   "nav_menu": {},
   "number_sections": true,
   "sideBar": true,
   "skip_h1_title": false,
   "title_cell": "Table of Contents",
   "title_sidebar": "Contents",
   "toc_cell": false,
   "toc_position": {},
   "toc_section_display": true,
   "toc_window_display": false
  }
 },
 "nbformat": 4,
 "nbformat_minor": 2
}
