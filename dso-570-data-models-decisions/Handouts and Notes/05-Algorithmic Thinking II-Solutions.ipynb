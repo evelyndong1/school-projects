{
 "cells": [
  {
   "cell_type": "markdown",
   "metadata": {},
   "source": [
    "# Session 5: Algorithmic Thinking II (with Solutions)\n",
    "\n",
    "## 0. Review of steps for solving a complex problem\n",
    "\n",
    "**1) Describe** the task succintly and precisely.\n",
    "\n",
    "**2) Decompose** the task into components and describe how to do each in English.\n",
    "\n",
    "**3) Translate** each component into code and test them independently.\n",
    "\n",
    "**4) Combine** together and test.\n",
    "\n",
    "\n",
    "## 1. Paper Coding Exercise (20 minutes)\n",
    "\n",
    "**Q1:** Without using a computer, hand write Python code that implements the following logic: Given a list named `curVal`, representing the valuation (willingness to pay) of a customer for two products, as well as list named `priceVector`, representing the price of the two products, print `\"Purchase product 0\"` if the customer purchases the first product; print `\"Purchase product 1\"` if the customer purchases the second product; print `\"Purchase nothing\"` if the customer purchases neither. \n",
    "\n",
    "**Assumptions:** If the customer's valuations for both products are greater than or equal to the corresponding prices, then the customer will purchase the product in which his/her valuation minus the price is the largest. If there is a tie, then the customer will purchase the first product. \n",
    "\n",
    "For example, if the valuation of a customer is `[9,8]` then\n",
    "\n",
    "- If `priceVector=[6,4]`, then the customer will purchase the second product because $8-4>9-6$.\n",
    "- If `priceVector=[5,4]`, then the customer will purchase the first product because $9-5 \\ge 8-4$.\n",
    "- If `priceVector=[10,8]`, then the constumer will purchase the second product.\n",
    "- If `priceVector=[10,10]`, then the customer will purchase neither products."
   ]
  },
  {
   "cell_type": "code",
   "execution_count": 1,
   "metadata": {},
   "outputs": [],
   "source": [
    "# Input\n",
    "curVal=[25,15]\n",
    "priceVector=[25,10]\n",
    "\n",
    "# Write your code below\n",
    "\n",
    "\n",
    "\n",
    "\n",
    "\n",
    "\n",
    "\n",
    "\n",
    "\n",
    "\n",
    "\n",
    "\n",
    "\n",
    "\n",
    "\n",
    "\n"
   ]
  },
  {
   "cell_type": "markdown",
   "metadata": {},
   "source": [
    "After you are done, trace through your code several times with different values of `curVal` and `priceVector` and check for syntax or logical errors. \n",
    "\n",
    "**Q2:** Exchange your code with a neighbor and help one another check for errors. If you find an error, explain it to your neighbor with concrete inputs."
   ]
  },
  {
   "cell_type": "markdown",
   "metadata": {},
   "source": [
    "**(Optional exercise if you finish early):** Modify your code to work when `curVal` and `priceVector` are lists of arbitrary length. (Still do this on a piece of paper without the help of a computer.)"
   ]
  },
  {
   "cell_type": "markdown",
   "metadata": {},
   "source": [
    "## Case 8: Demand Estimation for Substitutable Products\n",
    "\n",
    "Write a function named `demand` with two input arguments:\n",
    "\n",
    "- `priceVector`: a list of length 2 containing two positive numbers, corresponding to the proposed prices for the two products.\n",
    "- `values`: a list in which each element is a list of length 2, corresponding to the valuation of a customer for the two products.\n",
    "\n",
    "\n",
    "The function should return a list of two numbers, representing the number of customers purchasing each product. Assume the same customer behavior as in the paper coding exercise.\n",
    "\n",
    "```python\n",
    "values=[[25,15],[18,18],[30,20],[30,30]]\n",
    "priceVector=[25,20]\n",
    "demand(priceVector,values)\n",
    "```\n",
    "\n",
    "```\n",
    "[2, 1]\n",
    "```"
   ]
  },
  {
   "cell_type": "markdown",
   "metadata": {},
   "source": [
    "**I.  Describe**:\n",
    "\n",
    "For each customer, figure out which of the products will he/she purchase, if any. Keep track of the total number of customers purchasing each product.\n",
    "\n",
    "**II. Decompose**:\n",
    "\n",
    "**A.** Loop through the customers.\n",
    "\n",
    "**B.** Figure out which product will a given customer purchase, if any. (Paper coding exercise)\n",
    "\n",
    "**C.** Keep track of the total number of customers purchasing each product: define a variable for each product tracking the number of customers purchasing that product so far, and incrementing this by one when needed.\n",
    "\n",
    "**III. Translate**: "
   ]
  },
  {
   "cell_type": "code",
   "execution_count": 2,
   "metadata": {},
   "outputs": [
    {
     "name": "stdout",
     "output_type": "stream",
     "text": [
      "25 15\n",
      "18 18\n",
      "30 20\n",
      "30 30\n"
     ]
    }
   ],
   "source": [
    "# A. Loop through...\n",
    "\n",
    "values=[[25,15],[18,18],[30,20],[30,30]]\n",
    "for curVal in values:\n",
    "    v1=curVal[0]\n",
    "    v2=curVal[1]\n",
    "    print(v1,v2)"
   ]
  },
  {
   "cell_type": "code",
   "execution_count": 1,
   "metadata": {},
   "outputs": [
    {
     "name": "stdout",
     "output_type": "stream",
     "text": [
      "Purchase product 1\n"
     ]
    }
   ],
   "source": [
    "# B. Figure out... (Paper coding exercise solution)\n",
    "\n",
    "curVal=[25,15]\n",
    "priceVector=[25,10]\n",
    "\n",
    "if curVal[0]<priceVector[0] and curVal[1]<priceVector[1]:\n",
    "    print('Purchase nothing')\n",
    "elif curVal[0]>=priceVector[0] and curVal[1]<priceVector[1]:\n",
    "    print('Purchase product 0')\n",
    "elif curVal[0]<priceVector[0] and curVal[1]>=priceVector[1]:\n",
    "    print('Purchase product 1')\n",
    "else:\n",
    "    diff0=curVal[0]-priceVector[0]\n",
    "    diff1=curVal[1]-priceVector[1]\n",
    "    if diff0>=diff1:\n",
    "        print('Purchase product 0')\n",
    "    else:\n",
    "        print('Purchase product 1')"
   ]
  },
  {
   "cell_type": "code",
   "execution_count": 2,
   "metadata": {},
   "outputs": [
    {
     "name": "stdout",
     "output_type": "stream",
     "text": [
      "Purchase product 1\n"
     ]
    }
   ],
   "source": [
    "# Alternative logic for B.\n",
    "curVal=[25,15]\n",
    "priceVector=[25,10]\n",
    "diff0=curVal[0]-priceVector[0]\n",
    "diff1=curVal[1]-priceVector[1]\n",
    "if diff0<0 and diff1<0:\n",
    "    print('Purchase nothing')\n",
    "elif diff0>=diff1:\n",
    "    print('Purchase product 0')\n",
    "else:\n",
    "    print('Purchase product 1')"
   ]
  },
  {
   "cell_type": "code",
   "execution_count": 5,
   "metadata": {},
   "outputs": [
    {
     "name": "stdout",
     "output_type": "stream",
     "text": [
      "[2, 1]\n"
     ]
    }
   ],
   "source": [
    "# C. Keep track...\n",
    "count=[0,0]\n",
    "count[0]+=1\n",
    "count[0]+=1\n",
    "count[1]+=1\n",
    "print(count)"
   ]
  },
  {
   "cell_type": "markdown",
   "metadata": {},
   "source": [
    "**IV. Combine**"
   ]
  },
  {
   "cell_type": "code",
   "execution_count": 4,
   "metadata": {},
   "outputs": [
    {
     "name": "stdout",
     "output_type": "stream",
     "text": [
      "Current value vector: [25, 15]\n",
      "\tDifference of valuation and prices 0 -5\n",
      "\tPurchase product 0\n",
      "\tCount: [1, 0]\n",
      "Current value vector: [18, 18]\n",
      "\tDifference of valuation and prices -7 -2\n",
      "\tPurchase nothing\n",
      "Current value vector: [30, 20]\n",
      "\tDifference of valuation and prices 5 0\n",
      "\tPurchase product 0\n",
      "\tCount: [2, 0]\n",
      "Current value vector: [30, 30]\n",
      "\tDifference of valuation and prices 5 10\n",
      "\tPurchase product 1\n",
      "\tCount: [2, 1]\n"
     ]
    }
   ],
   "source": [
    "# Intermediate version with print outputs and no function encapsulation\n",
    "values=[[25,15],[18,18],[30,20],[30,30]]\n",
    "priceVector=[25,20]\n",
    "count=[0,0]\n",
    "for curVal in values:\n",
    "    print('Current value vector:',curVal)\n",
    "    diff0=curVal[0]-priceVector[0]\n",
    "    diff1=curVal[1]-priceVector[1]\n",
    "    print('\\tDifference of valuation and prices',diff0,diff1)\n",
    "    if diff0<0 and diff1<0:\n",
    "        print('\\tPurchase nothing')\n",
    "        continue\n",
    "    elif diff0>=diff1:\n",
    "        print('\\tPurchase product 0')\n",
    "        count[0]+=1\n",
    "    else:\n",
    "        print('\\tPurchase product 1')\n",
    "        count[1]+=1\n",
    "    print('\\tCount:',count)"
   ]
  },
  {
   "cell_type": "code",
   "execution_count": 7,
   "metadata": {},
   "outputs": [
    {
     "data": {
      "text/plain": [
       "[2, 1]"
      ]
     },
     "execution_count": 7,
     "metadata": {},
     "output_type": "execute_result"
    }
   ],
   "source": [
    "# Final solution\n",
    "def demand(priceVector, values):\n",
    "    count=[0,0]\n",
    "    for curVal in values:\n",
    "        diff0=curVal[0]-priceVector[0]\n",
    "        diff1=curVal[1]-priceVector[1]\n",
    "        if diff0<0 and diff1<0:\n",
    "            continue\n",
    "        elif diff0>=diff1:\n",
    "            count[0]+=1\n",
    "        else:\n",
    "            count[1]+=1\n",
    "    return count\n",
    "    \n",
    "values=[[25,15],[18,18],[30,20],[30,30]]\n",
    "priceVector=[25,20]\n",
    "demand(priceVector,values)"
   ]
  },
  {
   "cell_type": "markdown",
   "metadata": {},
   "source": [
    "## Case 9. Queuing Analysis\n",
    "\n",
    "A popular fast food restaurant is planning to open a branch in a new location and wants to decide how many servers to hire. To help them, write a function `queueLength` with two input parameters:\n",
    "\n",
    "- `k`: the number of customers that can be served in a minute. (assumed to be integer)\n",
    "- `demand`: a list of integers specifying how many customers arrive each minute. (For simplicity, assume that customers arrive at the beginning of each minute and up to k customers can be served instantly.)\n",
    "\n",
    "Let $T$ be the length of the list. The function should return the average queue length at the end of the given $T$ minutes. \n",
    "\n",
    "For example, if `k=3` and `demand=[2,3,6,8,10,2,1,0,1,0]`, the following table summarizes the evolution of the queue.\n",
    "\n",
    "| Minute | \\# of Arrivals | \\# Served | Queue Length at End of Minute | \n",
    "| -- | -- | -- | -- |\n",
    "| 0  | -- | -- | 0  |\n",
    "| 1  | 2  | 2  | 0  |\n",
    "| 2  | 3  | 3  | 0  |\n",
    "| 3  | 6  | 3  | 3  |\n",
    "| 4  | 8  | 3  | 8  |\n",
    "| 5  | 10 | 3  | 15 |\n",
    "| 6  | 2  | 3  | 14 |\n",
    "| 7  | 1  | 3  | 12 | \n",
    "| 8  | 0  | 3  | 9  |\n",
    "| 9  | 1  | 3  | 7  |\n",
    "| 10 | 0  | 3  | 4  |\n",
    "| **Average** | 3.3 | -- | **7.2** |\n",
    "\n",
    "To illustrate why this function is useful, according to a mathematical result known as Little's Law, the average queuing time of customers is \n",
    "\n",
    "$$\\frac{\\text{Average Queue Length}}{\\text{Average Arrival Rate}}=\\frac{7.2}{3.3} \\approx 2.2 \\text{ minutes.}$$"
   ]
  },
  {
   "cell_type": "markdown",
   "metadata": {},
   "source": [
    "**I: Describe**\n",
    "\n",
    "Simulate the queue dynamics according to the example table.\n",
    "\n",
    "**II: Decompose**\n",
    "\n",
    "**A.** Loop throught the customers.\n",
    "\n",
    "**B.** Keep track of current queue length. For each row of the table, perform the following operations: \n",
    "\n",
    "- Customers join queue: add the \\# of arrivals to the queue.\n",
    "- Up to $k$ customers are served: \\# served is minimum of k and queue length.\n",
    "- Update queue: subtract the served customers from the queue.\n",
    "- Add queue length at end of minute to running total.\n",
    "\n",
    "**III-IV: Translate and Combine**"
   ]
  },
  {
   "cell_type": "code",
   "execution_count": 8,
   "metadata": {},
   "outputs": [],
   "source": [
    "def queueLength(k,demand):\n",
    "    T=len(demand)\n",
    "    curQueue=0\n",
    "    totalQueue=0\n",
    "    for arrival in demand:\n",
    "        curQueue+=arrival\n",
    "        served=min(curQueue,k)\n",
    "        curQueue-=served\n",
    "        totalQueue+=curQueue\n",
    "    return totalQueue/T"
   ]
  },
  {
   "cell_type": "markdown",
   "metadata": {},
   "source": [
    "Having this function allows the company to run the following analysis:"
   ]
  },
  {
   "cell_type": "code",
   "execution_count": 9,
   "metadata": {},
   "outputs": [
    {
     "name": "stdout",
     "output_type": "stream",
     "text": [
      "Average queue length is 7.2 customers.\n"
     ]
    }
   ],
   "source": [
    "k=3\n",
    "demand=[2,3,6,8,10,2,1,0,1,0]\n",
    "print(f'Average queue length is {queueLength(k,demand)} customers.')"
   ]
  },
  {
   "cell_type": "code",
   "execution_count": 10,
   "metadata": {},
   "outputs": [
    {
     "name": "stdout",
     "output_type": "stream",
     "text": [
      "Average queuing time is 2.2 minutes.\n"
     ]
    }
   ],
   "source": [
    "import numpy as np\n",
    "print(f'Average queuing time is {queueLength(k,demand)/np.average(demand):.1f} minutes.')"
   ]
  },
  {
   "cell_type": "code",
   "execution_count": 11,
   "metadata": {},
   "outputs": [
    {
     "name": "stdout",
     "output_type": "stream",
     "text": [
      "Service rate needed to keep waiting time below 1.5 minutes: k=4.\n"
     ]
    }
   ],
   "source": [
    "# Find the k needed to keep average waiting time at or below 1.5 minutes.\n",
    "demand=[2,3,6,8,10,2,1,0,1,0]\n",
    "k=1\n",
    "while (queueLength(k,demand)/np.average(demand)>1.5):\n",
    "    k+=1\n",
    "print(f'Service rate needed to keep waiting time below 1.5 minutes: k={k}.')"
   ]
  }
 ],
 "metadata": {
  "kernelspec": {
   "display_name": "Python 3",
   "language": "python",
   "name": "python3"
  },
  "language_info": {
   "codemirror_mode": {
    "name": "ipython",
    "version": 3
   },
   "file_extension": ".py",
   "mimetype": "text/x-python",
   "name": "python",
   "nbconvert_exporter": "python",
   "pygments_lexer": "ipython3",
   "version": "3.7.2"
  }
 },
 "nbformat": 4,
 "nbformat_minor": 2
}
