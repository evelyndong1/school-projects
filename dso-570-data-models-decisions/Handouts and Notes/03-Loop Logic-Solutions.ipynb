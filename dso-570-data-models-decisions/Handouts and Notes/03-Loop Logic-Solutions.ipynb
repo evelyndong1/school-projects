{
 "cells": [
  {
   "cell_type": "markdown",
   "metadata": {},
   "source": [
    "# Session 3: Loop Logic (with Solutions)\n",
    "\n",
    "## Discussion Question: Referral Marketing\n",
    "\n",
    "A start-up's marketing team is trying to predict the growth of a new product launch. Assuming that each person who buys the product will refer a friend (who hasn't seen the product before) in the next month, as well as two months after the sale, but will stop referring after that. Each referred friend will buy the product upon hearing about it and follow the same pattern of referral. \n",
    "\n",
    "**a)** Assuming that there is one person who buys the product in month zero. How many people would have bought the product in month 12, assuming the only buyers are those referred?\n",
    "\n",
    "**b)** What is the first month in which the monthly sales exceeds 100?\n",
    "\n",
    "## Loop Examples: Counting Permutations\n",
    "\n",
    "For loops are used for iterating through a given collection of items. The following for loop is used to calculate $n! = 1 \\times 2 \\times \\cdots \\times n$, which is the number of ways to arrange $n$ distinct items in order."
   ]
  },
  {
   "cell_type": "code",
   "execution_count": 1,
   "metadata": {},
   "outputs": [
    {
     "name": "stdout",
     "output_type": "stream",
     "text": [
      "5! is equal to 120.\n"
     ]
    }
   ],
   "source": [
    "n=5\n",
    "factorial=1\n",
    "for i in range(1,n+1):\n",
    "    factorial=factorial*i\n",
    "print(f'{n}! is equal to {factorial}.')"
   ]
  },
  {
   "cell_type": "markdown",
   "metadata": {},
   "source": [
    "It is often helpful to use auxiliary print statements to illustrate what's going on in each iteration of a loop, as follows:"
   ]
  },
  {
   "cell_type": "code",
   "execution_count": 2,
   "metadata": {},
   "outputs": [
    {
     "name": "stdout",
     "output_type": "stream",
     "text": [
      "i\tfactorial\n",
      "-\t1\n",
      "1\t1\n",
      "2\t2\n",
      "3\t6\n",
      "4\t24\n",
      "5\t120\n",
      "\n",
      "5! is equal to 120.\n"
     ]
    }
   ],
   "source": [
    "n=5\n",
    "factorial=1\n",
    "print('i\\tfactorial')\n",
    "print(f'-\\t{factorial}')\n",
    "for i in range(1,n+1):\n",
    "    factorial=factorial*i\n",
    "    print(f'{i}\\t{factorial}')\n",
    "print(f'\\n{n}! is equal to {factorial}.')"
   ]
  },
  {
   "cell_type": "markdown",
   "metadata": {},
   "source": [
    "While loops are used to iterate as long as a given condition is met. The following while loop finds the smallest $n$ such that $n!$ is at least 1000."
   ]
  },
  {
   "cell_type": "code",
   "execution_count": 3,
   "metadata": {},
   "outputs": [
    {
     "name": "stdout",
     "output_type": "stream",
     "text": [
      "7!>=1000.\n"
     ]
    }
   ],
   "source": [
    "factorial=1\n",
    "i=1\n",
    "while factorial<1000:\n",
    "    i=i+1\n",
    "    factorial=factorial*i\n",
    "n=i\n",
    "print (f'{n}!>=1000.')"
   ]
  },
  {
   "cell_type": "markdown",
   "metadata": {},
   "source": [
    "Adding auxiliary print statements reveals what is going on in each iteration."
   ]
  },
  {
   "cell_type": "code",
   "execution_count": 4,
   "metadata": {},
   "outputs": [
    {
     "name": "stdout",
     "output_type": "stream",
     "text": [
      "i\tfactorial\tfactorial<1000?\n",
      "1\t1\t\tTrue\n",
      "2\t2\t\tTrue\n",
      "3\t6\t\tTrue\n",
      "4\t24\t\tTrue\n",
      "5\t120\t\tTrue\n",
      "6\t720\t\tTrue\n",
      "7\t5040\t\tFalse\n",
      "7!>=1000.\n"
     ]
    }
   ],
   "source": [
    "factorial=1\n",
    "i=1\n",
    "print('i\\tfactorial\\tfactorial<1000?')\n",
    "print(f'{i}\\t{factorial}\\t\\t{factorial<1000}')\n",
    "while factorial<1000:\n",
    "    i=i+1\n",
    "    factorial=factorial*i\n",
    "    print(f'{i}\\t{factorial}\\t\\t{factorial<1000}')\n",
    "n=i\n",
    "print (f'{n}!>=1000.')"
   ]
  },
  {
   "cell_type": "markdown",
   "metadata": {},
   "source": [
    "For loops and while loops are to a certain extent interchangeable, although one is usually more convenient than the other depending on the circumstance. The following examples replicate the above using the other kind of loop."
   ]
  },
  {
   "cell_type": "code",
   "execution_count": 5,
   "metadata": {},
   "outputs": [
    {
     "name": "stdout",
     "output_type": "stream",
     "text": [
      "5! is equal to 120.\n"
     ]
    }
   ],
   "source": [
    "n=5\n",
    "factorial=1\n",
    "i=1\n",
    "while i<=n:\n",
    "    factorial=factorial*i\n",
    "    i+=1\n",
    "print(f'{n}! is equal to {factorial}.')"
   ]
  },
  {
   "cell_type": "code",
   "execution_count": 6,
   "metadata": {},
   "outputs": [
    {
     "name": "stdout",
     "output_type": "stream",
     "text": [
      "7!>=1000.\n"
     ]
    }
   ],
   "source": [
    "factorial=1\n",
    "for i in range(1,9999999):\n",
    "    factorial=factorial*i\n",
    "    if factorial>=1000:\n",
    "        break\n",
    "n=i\n",
    "print (f'{n}!>=1000.')"
   ]
  },
  {
   "cell_type": "markdown",
   "metadata": {},
   "source": [
    "## Case 4. Referral Marketing\n",
    "\n",
    "**Solve the discussion question using for or while loops.** In each case, denote the numerical inputs (12, 100, and 100) by a variable so that your code would work with any other input. In particular, find the monthly sale in month 36, and number of months before monthly sale exceeds 1 million. **Hint:** Use a list to store the sales for each month."
   ]
  },
  {
   "cell_type": "code",
   "execution_count": 7,
   "metadata": {},
   "outputs": [
    {
     "name": "stdout",
     "output_type": "stream",
     "text": [
      "The number of items sold in month 36 is 24157817.\n"
     ]
    }
   ],
   "source": [
    "# Solution to Case 4a)\n",
    "n=36\n",
    "sales=[1,1]\n",
    "for month in range(2,n+1):\n",
    "    curSale=sales[-1]+sales[-2]\n",
    "    sales.append(curSale)\n",
    "print(f'The number of items sold in month {n} is {sales[n]}.')"
   ]
  },
  {
   "cell_type": "code",
   "execution_count": 8,
   "metadata": {},
   "outputs": [
    {
     "name": "stdout",
     "output_type": "stream",
     "text": [
      "month\tsales\n",
      "2\t[1, 1, 2]\n",
      "3\t[1, 1, 2, 3]\n",
      "4\t[1, 1, 2, 3, 5]\n",
      "5\t[1, 1, 2, 3, 5, 8]\n",
      "6\t[1, 1, 2, 3, 5, 8, 13]\n",
      "7\t[1, 1, 2, 3, 5, 8, 13, 21]\n",
      "8\t[1, 1, 2, 3, 5, 8, 13, 21, 34]\n",
      "9\t[1, 1, 2, 3, 5, 8, 13, 21, 34, 55]\n",
      "10\t[1, 1, 2, 3, 5, 8, 13, 21, 34, 55, 89]\n",
      "11\t[1, 1, 2, 3, 5, 8, 13, 21, 34, 55, 89, 144]\n",
      "12\t[1, 1, 2, 3, 5, 8, 13, 21, 34, 55, 89, 144, 233]\n",
      "The number of items sold in month 12 is 233.\n"
     ]
    }
   ],
   "source": [
    "# Illustration of the above\n",
    "n=12\n",
    "sales=[1,1]\n",
    "print('month\\tsales')\n",
    "for month in range(2,n+1):\n",
    "    curSale=sales[-1]+sales[-2]\n",
    "    sales.append(curSale)\n",
    "    print(f'{month}\\t{sales}')\n",
    "print(f'The number of items sold in month {n} is {sales[n]}.')"
   ]
  },
  {
   "cell_type": "code",
   "execution_count": 9,
   "metadata": {},
   "outputs": [
    {
     "name": "stdout",
     "output_type": "stream",
     "text": [
      "The number of items sold in month 36 is 24157817.\n"
     ]
    }
   ],
   "source": [
    "# Alternative solution to Case 4a) that only stores last two months\n",
    "n=36\n",
    "oldSale=0\n",
    "sale=1\n",
    "for month in range(n):\n",
    "    newSale=sale+oldSale\n",
    "    oldSale=sale\n",
    "    sale=newSale\n",
    "print(f'The number of items sold in month {n} is {sale}.')"
   ]
  },
  {
   "cell_type": "code",
   "execution_count": 10,
   "metadata": {},
   "outputs": [
    {
     "name": "stdout",
     "output_type": "stream",
     "text": [
      "month\tsale\toldSale\n",
      "0\t1\t0\n",
      "1\t1\t1\n",
      "2\t2\t1\n",
      "3\t3\t2\n",
      "4\t5\t3\n",
      "5\t8\t5\n",
      "6\t13\t8\n",
      "7\t21\t13\n",
      "8\t34\t21\n",
      "9\t55\t34\n",
      "10\t89\t55\n",
      "11\t144\t89\n",
      "12\t233\t144\n",
      "The number of items sold in month 12 is 233.\n"
     ]
    }
   ],
   "source": [
    "# Illustration of the above\n",
    "n=12\n",
    "oldSale=0\n",
    "sale=1\n",
    "print('month\\tsale\\toldSale')\n",
    "print(f'0\\t{sale}\\t{oldSale}')\n",
    "for month in range(n):\n",
    "    newSale=sale+oldSale\n",
    "    oldSale=sale\n",
    "    sale=newSale\n",
    "    print(f'{month+1}\\t{sale}\\t{oldSale}')\n",
    "print(f'The number of items sold in month {n} is {sale}.')"
   ]
  },
  {
   "cell_type": "code",
   "execution_count": 11,
   "metadata": {},
   "outputs": [
    {
     "name": "stdout",
     "output_type": "stream",
     "text": [
      "In month 30, the sales is 1346269, which exceeds 1000000.\n"
     ]
    }
   ],
   "source": [
    "# Solution to Case 4b)\n",
    "threshold=1000000\n",
    "sales=[1,1]\n",
    "while sales[-1]<=threshold:\n",
    "    sales.append(sales[-1]+sales[-2])\n",
    "n=len(sales)-1\n",
    "print(f'In month {n}, the sales is {sales[n]}, which exceeds {threshold}.')"
   ]
  },
  {
   "cell_type": "code",
   "execution_count": 12,
   "metadata": {},
   "outputs": [
    {
     "name": "stdout",
     "output_type": "stream",
     "text": [
      "sales[-1]<=threshold?\tsales\n",
      "True\t\t\t[1, 1, 2]\n",
      "True\t\t\t[1, 1, 2, 3]\n",
      "True\t\t\t[1, 1, 2, 3, 5]\n",
      "True\t\t\t[1, 1, 2, 3, 5, 8]\n",
      "True\t\t\t[1, 1, 2, 3, 5, 8, 13]\n",
      "True\t\t\t[1, 1, 2, 3, 5, 8, 13, 21]\n",
      "True\t\t\t[1, 1, 2, 3, 5, 8, 13, 21, 34]\n",
      "True\t\t\t[1, 1, 2, 3, 5, 8, 13, 21, 34, 55]\n",
      "True\t\t\t[1, 1, 2, 3, 5, 8, 13, 21, 34, 55, 89]\n",
      "False\t\t\t[1, 1, 2, 3, 5, 8, 13, 21, 34, 55, 89, 144]\n",
      "In month 11, the sales is 144, which exceeds 100.\n"
     ]
    }
   ],
   "source": [
    "# Illustration of the above\n",
    "threshold=100\n",
    "sales=[1,1]\n",
    "print('sales[-1]<=threshold?\\tsales')\n",
    "while sales[-1]<=threshold:\n",
    "    sales.append(sales[-1]+sales[-2])\n",
    "    print(f'{sales[-1]<=threshold}\\t\\t\\t{sales}')\n",
    "n=len(sales)-1\n",
    "print(f'In month {n}, the sales is {sales[n]}, which exceeds {threshold}.')"
   ]
  },
  {
   "cell_type": "code",
   "execution_count": 13,
   "metadata": {},
   "outputs": [
    {
     "name": "stdout",
     "output_type": "stream",
     "text": [
      "In month 11, the sales is 144, which exceeds 100.\n"
     ]
    }
   ],
   "source": [
    "# Alternative Solution to Case 4b) that only stores last two months\n",
    "threshold=100\n",
    "oldSale=0\n",
    "n=0\n",
    "sale=1\n",
    "while sale<=threshold:\n",
    "    newSale=sale+oldSale\n",
    "    oldSale=sale\n",
    "    sale=newSale\n",
    "    n+=1\n",
    "print(f'In month {n}, the sales is {sale}, which exceeds {threshold}.')"
   ]
  },
  {
   "cell_type": "code",
   "execution_count": 14,
   "metadata": {},
   "outputs": [
    {
     "name": "stdout",
     "output_type": "stream",
     "text": [
      "month\tsale\toldSale\tsale<=threshold?\n",
      "1\t1\t1\tTrue\n",
      "2\t2\t1\tTrue\n",
      "3\t3\t2\tTrue\n",
      "4\t5\t3\tTrue\n",
      "5\t8\t5\tTrue\n",
      "6\t13\t8\tTrue\n",
      "7\t21\t13\tTrue\n",
      "8\t34\t21\tTrue\n",
      "9\t55\t34\tTrue\n",
      "10\t89\t55\tTrue\n",
      "11\t144\t89\tFalse\n",
      "In month 11, the sales is 144, which exceeds 100.\n"
     ]
    }
   ],
   "source": [
    "# Illustration of the above\n",
    "threshold=100\n",
    "oldSale=0\n",
    "n=0\n",
    "sale=1\n",
    "print('month\\tsale\\toldSale\\tsale<=threshold?')\n",
    "while sale<=threshold:\n",
    "    newSale=sale+oldSale\n",
    "    oldSale=sale\n",
    "    sale=newSale\n",
    "    n+=1\n",
    "    print(f'{n}\\t{sale}\\t{oldSale}\\t{sale<=threshold}')\n",
    "print(f'In month {n}, the sales is {sale}, which exceeds {threshold}.')"
   ]
  },
  {
   "cell_type": "markdown",
   "metadata": {},
   "source": [
    "## Case 5. Hospital Capacity Planning\n",
    "\n",
    "A hospital is applying for funding to expand its number of beds. Given a list of estimated number of arrivals each day, and assuming each patient stays 3 days, how many beds does the hospital need so as to be able to not turn away anyone?\n",
    "\n",
    "`demand=[5,8,3,10,7,4,9,5,8]`"
   ]
  },
  {
   "cell_type": "code",
   "execution_count": 16,
   "metadata": {},
   "outputs": [
    {
     "name": "stdout",
     "output_type": "stream",
     "text": [
      "The number of beds needed to accommodate demand is 22.\n"
     ]
    }
   ],
   "source": [
    "demand=[5,8,3,10,7,4,9,5,8]\n",
    "worstNeed=0\n",
    "for day in range(2,len(demand)):\n",
    "    recentDemand=demand[day-2:day+1]\n",
    "    need=sum(recentDemand)\n",
    "    if need>worstNeed:\n",
    "        worstNeed=need\n",
    "print(f'The number of beds needed to accommodate demand is {worstNeed}.')"
   ]
  },
  {
   "cell_type": "markdown",
   "metadata": {},
   "source": [
    "Here's the same code with intermediate outputs to show what is going on each iteration."
   ]
  },
  {
   "cell_type": "code",
   "execution_count": 15,
   "metadata": {},
   "outputs": [
    {
     "name": "stdout",
     "output_type": "stream",
     "text": [
      "day\tarrivals last 3 days\tneed\t{worstNeed}\n",
      "2\t[5, 8, 3]\t\t16\t16\n",
      "3\t[8, 3, 10]\t\t21\t21\n",
      "4\t[3, 10, 7]\t\t20\t21\n",
      "5\t[10, 7, 4]\t\t21\t21\n",
      "6\t[7, 4, 9]\t\t20\t21\n",
      "7\t[4, 9, 5]\t\t18\t21\n",
      "8\t[9, 5, 8]\t\t22\t22\n",
      "The number of beds needed to accommodate demand is 22.\n"
     ]
    }
   ],
   "source": [
    "demand=[5,8,3,10,7,4,9,5,8]\n",
    "print('day\\tarrivals last 3 days\\tneed\\t{worstNeed}')\n",
    "worstNeed=0\n",
    "for day in range(2,len(demand)):\n",
    "    recentDemand=demand[day-2:day+1]\n",
    "    need=sum(recentDemand)\n",
    "    if need>worstNeed:\n",
    "        worstNeed=need\n",
    "    print(f'{day}\\t{recentDemand}\\t\\t{need}\\t{worstNeed}')\n",
    "print(f'The number of beds needed to accommodate demand is {worstNeed}.')"
   ]
  }
 ],
 "metadata": {
  "kernelspec": {
   "display_name": "Python 3",
   "language": "python",
   "name": "python3"
  },
  "language_info": {
   "codemirror_mode": {
    "name": "ipython",
    "version": 3
   },
   "file_extension": ".py",
   "mimetype": "text/x-python",
   "name": "python",
   "nbconvert_exporter": "python",
   "pygments_lexer": "ipython3",
   "version": "3.7.2"
  }
 },
 "nbformat": 4,
 "nbformat_minor": 2
}
