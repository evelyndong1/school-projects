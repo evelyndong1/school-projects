{
 "cells": [
  {
   "cell_type": "markdown",
   "metadata": {},
   "source": [
    "# Session 1: Review of Basic Python\n",
    "## A. Type of object"
   ]
  },
  {
   "cell_type": "code",
   "execution_count": 1,
   "metadata": {},
   "outputs": [
    {
     "data": {
      "text/plain": [
       "int"
      ]
     },
     "execution_count": 1,
     "metadata": {},
     "output_type": "execute_result"
    }
   ],
   "source": [
    "type(3)"
   ]
  },
  {
   "cell_type": "markdown",
   "metadata": {},
   "source": [
    "**Q1:** What are the types of the following objects? a) `3.1` b) `3.0` c) `'3'` d) `True` e) `print`"
   ]
  },
  {
   "cell_type": "markdown",
   "metadata": {},
   "source": [
    "## B. Operators"
   ]
  },
  {
   "cell_type": "code",
   "execution_count": 2,
   "metadata": {},
   "outputs": [
    {
     "data": {
      "text/plain": [
       "27"
      ]
     },
     "execution_count": 2,
     "metadata": {},
     "output_type": "execute_result"
    }
   ],
   "source": [
    "2+5*5"
   ]
  },
  {
   "cell_type": "markdown",
   "metadata": {},
   "source": [
    "**Q2:** What do the following operators do when used with numbers? a) `*` b) `/` c) `//` d) `**` e) `==` f) `!=` g) `>=`\n",
    "\n",
    "**Q3:** What do the following operators do when used with strings? a) `+` b) `==` c) `!=` d) `>` e) `>=`\n",
    "\n",
    "**Q4:** Predict the output of the following expressions: a) `3**2+5` b) `5+(6>3)*2` c)`4*(5+2-1)+(6==1)` d) `6//4` e) `'3'+'2'` f) `'3'+2`"
   ]
  },
  {
   "cell_type": "markdown",
   "metadata": {},
   "source": [
    "## C. A Simple Program"
   ]
  },
  {
   "cell_type": "code",
   "execution_count": 7,
   "metadata": {},
   "outputs": [
    {
     "name": "stdout",
     "output_type": "stream",
     "text": [
      "Input quantity sold:5\n",
      "Input the profit of each unit:3.5\n",
      "Total profit with quantity 3.5 and price $ 5 is $ 17.5 .\n"
     ]
    }
   ],
   "source": [
    "q=int(input('Input quantity sold:'))\n",
    "p=float(input('Input the profit of each unit:'))\n",
    "print('Total profit with quantity',p,'and price $',q,'is $',p*q,'.')"
   ]
  },
  {
   "cell_type": "code",
   "execution_count": 8,
   "metadata": {},
   "outputs": [
    {
     "name": "stdout",
     "output_type": "stream",
     "text": [
      "Total profit with quantity 3.5 and price $5 is $17.5.\n"
     ]
    }
   ],
   "source": [
    "print(f'Total profit with quantity {p} and price ${q} is ${p*q}.')"
   ]
  },
  {
   "cell_type": "markdown",
   "metadata": {},
   "source": [
    "## D. Conditional Execution\n",
    "\n",
    "The following program asks for the user's systolic and diastolic blood pressure, and output one of `LOW`, `IDEAL`, `PRE-HIGH` or `HIGH` according to this chart:\n",
    "\n",
    "![Blood pressure chart](blood_chart.png)"
   ]
  },
  {
   "cell_type": "code",
   "execution_count": 4,
   "metadata": {},
   "outputs": [
    {
     "name": "stdout",
     "output_type": "stream",
     "text": [
      "Systolic blood pressure:100\n",
      "Diastolic blood pressure:70\n",
      "Your blood pressure is IDEAL\n"
     ]
    }
   ],
   "source": [
    "high=float(input('Systolic blood pressure:'))\n",
    "low=float(input('Diastolic blood pressure:'))\n",
    "if low<=60 and high<=90:\n",
    "    answer='LOW'\n",
    "elif low<=80 and high<=120:\n",
    "    answer='IDEAL'\n",
    "elif low<=90 and high<=140:\n",
    "    answer='PRE-HIGH'\n",
    "else:\n",
    "    answer='HIGH'\n",
    "    \n",
    "print('Your blood pressure is',answer)"
   ]
  },
  {
   "cell_type": "markdown",
   "metadata": {},
   "source": [
    "## E. Defining and Calling your Own Functions"
   ]
  },
  {
   "cell_type": "code",
   "execution_count": 5,
   "metadata": {},
   "outputs": [
    {
     "name": "stdout",
     "output_type": "stream",
     "text": [
      "Help on function calculateWage in module __main__:\n",
      "\n",
      "calculateWage(hours, base=10, bonus=0.5)\n",
      "    Calculates weekly wage\n",
      "\n",
      "Pay for 42 hours with default base and bonus: 430.0\n",
      "Pay for 42 hours with base 12/hour and default bonus: 516.0\n",
      "Pay for 42 hours with base 12/hour and bonus 60%: 518.4\n",
      "Pay for 42 hours with default base and bonus 50%: 432.0\n"
     ]
    }
   ],
   "source": [
    "def calculateWage(hours,base=10,bonus=.5):\n",
    "    ''' Calculates weekly wage '''\n",
    "    if hours<=40:\n",
    "        pay=hours*base\n",
    "    else:\n",
    "        pay=hours*base+(hours-40)*base*bonus\n",
    "    return pay\n",
    "\n",
    "help(calculateWage)\n",
    "print('Pay for 42 hours with default base and bonus:',calculateWage(42))\n",
    "print('Pay for 42 hours with base 12/hour and default bonus:',calculateWage(42,12))\n",
    "print('Pay for 42 hours with base 12/hour and bonus 60%:', calculateWage(42,12,.6))\n",
    "print('Pay for 42 hours with default base and bonus 50%:',calculateWage(42,bonus=0.6))"
   ]
  },
  {
   "cell_type": "markdown",
   "metadata": {},
   "source": [
    "## Case 1. Basestock Policy in Inventory Management\n",
    "Write a function named `orderQuantity` that takes two input arguments, `inventory` and `basestock`. If `inventory` is at least equal to `basestock`, then return 0. Otherwise, return the difference between `basestock` and `inventory`. Set the default value for `inventory` to be 0 and for `basestock` to be 100. Include an appropriate docstring to explain what the function does."
   ]
  },
  {
   "cell_type": "code",
   "execution_count": 6,
   "metadata": {},
   "outputs": [],
   "source": []
  },
  {
   "cell_type": "code",
   "execution_count": 7,
   "metadata": {},
   "outputs": [
    {
     "name": "stdout",
     "output_type": "stream",
     "text": [
      "Help on function orderQuantity in module __main__:\n",
      "\n",
      "orderQuantity(inventory=0, basestock=100)\n",
      "    Calculates order quantity given inventory level and basestock level\n",
      "\n",
      "100\n",
      "75\n",
      "0\n",
      "200\n",
      "20\n"
     ]
    }
   ],
   "source": [
    "# Code to test your function\n",
    "help(orderQuantity)\n",
    "print(orderQuantity())\n",
    "print(orderQuantity(25))\n",
    "print(orderQuantity(51,50))\n",
    "print(orderQuantity(basestock=200))\n",
    "print(orderQuantity(inventory=80))"
   ]
  },
  {
   "cell_type": "markdown",
   "metadata": {},
   "source": [
    "## Case 2. Blood Sugar Checker\n",
    "\n",
    "Write a program that asks the user how many hours they have fasted and their current blood sugar level. If they have fasted less than 2 hours, then output `You need to fast at least 2 hours to perform this test.` If they fasted at least 2 hours but less than 8 hours, then output `Your blood sugar level is high` if it is more than 140, and `Your blood sugar level is normal` otherwise. If they have fasted for at least 8 hours, then the threshold changes to 100 (instead of 140)."
   ]
  },
  {
   "cell_type": "code",
   "execution_count": 8,
   "metadata": {},
   "outputs": [
    {
     "name": "stdout",
     "output_type": "stream",
     "text": [
      "How many hours have you fasted: 3\n",
      "What is your blood sugar level: 50\n",
      "Your blood suguar level is normal.\n"
     ]
    }
   ],
   "source": []
  }
 ],
 "metadata": {
  "kernelspec": {
   "display_name": "Python 3",
   "language": "python",
   "name": "python3"
  },
  "language_info": {
   "codemirror_mode": {
    "name": "ipython",
    "version": 3
   },
   "file_extension": ".py",
   "mimetype": "text/x-python",
   "name": "python",
   "nbconvert_exporter": "python",
   "pygments_lexer": "ipython3",
   "version": "3.7.2"
  }
 },
 "nbformat": 4,
 "nbformat_minor": 2
}
