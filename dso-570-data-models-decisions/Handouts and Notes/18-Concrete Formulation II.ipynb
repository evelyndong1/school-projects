{
 "cells": [
  {
   "cell_type": "markdown",
   "metadata": {},
   "source": [
    "# Session 18: Concrete Formulation II\n",
    "\n",
    "## Steps for solving a practical optimization problem\n",
    "\n",
    "**1. English description** (for conceptual understanding).\n",
    "\n",
    "**2. Concrete formulation** (using concrete numbers in a toy example).\n",
    "\n",
    "**3. Abstract formulation** (using data variables and summation notation).\n",
    "\n",
    "**4. Reusable software** (that works with any input file of a certain format). \n",
    "\n",
    "\n",
    "## Q1 (Assortment Planning)\n",
    "\n",
    "Amazon.com is expanding its business by launching a physical store in West LA. As the manager, you need to select which bestsellers to carry at the store’s grand opening. The following table provides the list of Top 10 Bestsellers in Literature & Fiction, along with their genres. Note that some bestsellers belong to more than one genre. \n",
    "\n",
    "| Rank \\\\ Genre  | Literary | Sci-Fi | Romance | Thriller |\n",
    "|:--|--|--|--|--|\n",
    "| 1 | √ | ` ` | ` ` | ` ` |\n",
    "| 2 | ` ` | √ | ` ` | √ |\n",
    "| 3 | ` ` |` `  | √ | √ |\n",
    "| 4 | √ |` `  | √ | ` ` |\n",
    "| 5 | √ |` `  | ` ` | ` ` |\n",
    "| 6 |` `  | ` ` | √ | ` ` |\n",
    "| 7 | ` ` | √ |` `  | ` ` |\n",
    "| 8 | ` ` | ` ` | ` ` | √ |\n",
    "| 9 | √ | √ | ` ` |` `  |\n",
    "| 10 |` `  | ` ` | √ | ` ` |\n",
    "\n",
    "You wish to carry the minimum number of bestsellers, while ensuring that there are at least two bestsellers in each genre. Formulate this as an optimization problem.\n",
    "\n",
    "### Step 1. Identify the decision, objective, and constraints in English\n",
    "**Decision:** \n",
    "\n",
    "**Objective:** \n",
    "\n",
    "**Constraints:** \n",
    "\n",
    "\n",
    "\n",
    "### Step 2. Formulate the optimization as linear expressions of decision variables\n",
    "**Decision variables:**\n",
    "\n",
    "**Objective:**\n",
    "\n",
    "\n",
    "**Constraints:**\n"
   ]
  },
  {
   "cell_type": "markdown",
   "metadata": {},
   "source": [
    "## Q2 (Warehouse Planning)\n",
    "\n",
    "The following table provides the shipping cost for one-pound packages, from 7 of Amazon’s fulfillment centers (FC) to 4 regions. \n",
    "\n",
    "| Region  | 1 | 2 | 3 | 4 | 5 | 6 | 7 |\n",
    "|--|--|--|--|--|--|--|--|\n",
    "| A. Kings County, NY | 20.25 | 7.70 | 24.59 | 23.26 | 7.69 | 7.70 | 7.69 |\n",
    "| B. Los Angeles County, CA | 18.43 | 23.30 | 7.69 | 7.69 | 24.16 | 22.12 | 24.91 |\n",
    "| C. King County, WA | 21.28 | 24.18 | 7.70 | 17.67 | 23.91 | 22.98 | 24.57 |\n",
    "| D. Harris County, TX | 7.69 | 7.70 | 18.73 | 7.71 | 18.79 | 7.70 | 19.47 |\n",
    "\n",
    "A shipping cost of $10 or less indicates that the package will be transported via ground shipping; otherwise, it will be transported via air shipping. \n",
    "\n",
    "For a certain item that weights a pound, Amazon would like to stock it in as few FCs as possible, while guaranteeing that it can fulfill demand in all 4 regions via ground shipping. Moreover, \n",
    "\n",
    "- the item must be stocked in at least one of FCs 5 or 7;\n",
    "- the item cannot be stocked in FC 4 unless it is also stocked in FC 1; \n",
    "- if the item is stocked in FC 2, then it cannot also be stocked in FC 3. \n",
    "\n",
    "Formulate an optimization problem to find the minimum number of FCs needed. \n",
    "\n",
    "### Step 1. Identify the decision, objective, and constraints in English\n",
    "\n",
    "**Decision:** \n",
    "\n",
    "\n",
    "**Objective:**\n",
    "\n",
    "\n",
    "**Constraints:** \n",
    "\n",
    "\n",
    "### Step 2. Formulate the optimization as linear expressions of decision variables\n",
    "\n",
    "**Decision Variables:** \n",
    "\n",
    "**Objective and constraints:**\n"
   ]
  },
  {
   "cell_type": "markdown",
   "metadata": {},
   "source": [
    "## Q3 (Investment Planning)\n",
    "\n",
    "Finco Investment Corporation wishes to determine an investment strategy for the firm for the next 3 years. At present (Year 0), $100,000$ is available for investment. The goal is to maximize the cash on hand at the end of Year 3. \n",
    "\n",
    "There are five investment options, each of which allows you to put in an arbitrary amount of principal at a given time, and will payoff a certain percentage of the principal at a later time. (The payoff includes all of the money you will get back; you won't get back the principal at a later time.) The five options are summarized below:\n",
    "\n",
    "|Investment option | Time of investment | Payoff schedule |\n",
    "|--|--|--|\n",
    "|A | Year 0 | 50\\% in Year 1 and 100\\% in Year 2 |\n",
    "|B | Year 1 | 50\\% in Year 2 and 100\\% in Year 3 |\n",
    "|C|  Year 0 | 120\\% in Year 1  |\n",
    "|D| Year 0 | 190\\% in Year 3 |\n",
    "|E| Year 2 | 150\\% in Year 3 |\n",
    "\n",
    "To ensure that the company’s portfolio is diversified, Finco required that at most \\$75,000 be placed in any single investment option. Payoffs happen at the beginning of the year, so can be reinvested in the same year. For example, the positive cash flow received from Option C in Year 1 can be reinvested immediately in Option B. However, Finco cannot borrow funds, so net cash on hand must be non-negative in all years. Formulate this as an optimization problem.\n",
    "\n",
    "### Step 1. Identify the decision, objective, and constraints in English\n",
    "\n",
    "**Decision:** \n",
    "\n",
    "**Objective:**\n",
    "\n",
    "**Constraints:**\n",
    "\n",
    "\n",
    "### Step 2. Formulate the optimization as linear expressions of decision variables\n",
    "\n",
    "**Decision Variables:**\n",
    "\n",
    "**Objective and constraints:**\n"
   ]
  },
  {
   "cell_type": "markdown",
   "metadata": {},
   "source": [
    "## (Optional) Solve Numerically in Gurobi"
   ]
  },
  {
   "cell_type": "code",
   "execution_count": 12,
   "metadata": {},
   "outputs": [
    {
     "name": "stdout",
     "output_type": "stream",
     "text": [
      "Solution for Q1: carry book 2 3 4 9 "
     ]
    }
   ],
   "source": []
  },
  {
   "cell_type": "code",
   "execution_count": 11,
   "metadata": {},
   "outputs": [
    {
     "name": "stdout",
     "output_type": "stream",
     "text": [
      "Solution for Q2: use FC 1 3 7 "
     ]
    }
   ],
   "source": []
  },
  {
   "cell_type": "code",
   "execution_count": 22,
   "metadata": {},
   "outputs": [
    {
     "name": "stdout",
     "output_type": "stream",
     "text": [
      "Solution for Q3: final cash $218500.0\n",
      "\tInvest $60000.0 in Option A\n",
      "\tInvest $30000.0 in Option B\n",
      "\tInvest $0.0 in Option C\n",
      "\tInvest $40000.0 in Option D\n",
      "\tInvest $75000.0 in Option E\n"
     ]
    }
   ],
   "source": []
  }
 ],
 "metadata": {
  "kernelspec": {
   "display_name": "Python 3",
   "language": "python",
   "name": "python3"
  },
  "language_info": {
   "codemirror_mode": {
    "name": "ipython",
    "version": 3
   },
   "file_extension": ".py",
   "mimetype": "text/x-python",
   "name": "python",
   "nbconvert_exporter": "python",
   "pygments_lexer": "ipython3",
   "version": "3.6.8"
  }
 },
 "nbformat": 4,
 "nbformat_minor": 2
}
