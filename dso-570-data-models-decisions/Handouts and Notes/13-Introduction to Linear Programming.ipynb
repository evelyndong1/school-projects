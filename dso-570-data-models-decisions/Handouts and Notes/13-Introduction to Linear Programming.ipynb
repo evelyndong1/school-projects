{
 "cells": [
  {
   "cell_type": "markdown",
   "metadata": {},
   "source": [
    "# Session 13: Introduction to Linear Programming"
   ]
  },
  {
   "cell_type": "markdown",
   "metadata": {},
   "source": [
    "## Warm Up: Optimal Team Work\n",
    "\n",
    "Bob and Alice work together as a husband and wife team to make specialized crafts which they sell on Etsy.com. After months of experimentation, they figured out that there are two kinds of products they can make which have high demands. Alice can make an ornamental bracelet by herself in one hour, which makes a profit of 100 dollars per unit. They can also team up to make a wooden toy house, which makes a profit of 300 dollars per unit, but each requires two hours of work by Alice and three hours of work by Bob. Suppose that they can each work six hours per day. What is the maximum profit per day they can make together as a family and how would they achieve it?\n",
    "\n",
    "**a)** If $X$ is the number of units of the ornamental bracelet the family makes per day and $Y$ the number of units of the wooden toy house, what combinations of $(X,Y)$ are possible? Enumerate as many as you can by hand.\n",
    "\n",
    "**b)** Plot all the feasible $(X,Y)$ combinations in a two-dimensional graph (with $X$ being on the horizontal axis and $Y$ on the vertical axis). What is the optimal combination and the associated profit?\n",
    "\n",
    "**c)** How would the answer change if each unit of the ornamental bracelet makes a profit of 200 dollars (instead of 100)?\n",
    "\n",
    "**d)** How would the answer change if Alice works an additional hour per day? (Profit of ornamental bracelet is still 100 dollars.)"
   ]
  },
  {
   "cell_type": "markdown",
   "metadata": {},
   "source": [
    "## Q1. Graphical Analysis of Linear Program\n",
    "\n",
    "A small factory can make two products, X and Y. The following table summarizes the required inputs to produce each product and the profit of each.\n",
    "\n",
    "|` ` |Product X| Product Y |\n",
    "|--|--|--|\n",
    "|Steel| 4 kg | 1 kg | \n",
    "|Plastic | 0 kg| 2 kg |\n",
    "|Labor | 1 hour | 1 hour|\n",
    "\n",
    "Suppose that each unit of X makes a profit of 100 dollars and each unit of Y a profit of 200 dollars. Moreover, the daily supply of steel is 60kg, of plastic is 48 kg and of labor is 30 hours. \n",
    "\n",
    "**a)** Formulate a linear program to find the optimal profit and production plan for the factory and solve it graphically (without using a computer).\n",
    "\n",
    "**b)** Calculate the value of one additional unit of each of the three resources."
   ]
  },
  {
   "cell_type": "markdown",
   "metadata": {},
   "source": [
    "**Shadow price of a constraint:** The change in the optimal objective value of a LP if the right hand side (RHS) of this constraint increases by 1."
   ]
  },
  {
   "cell_type": "markdown",
   "metadata": {},
   "source": [
    "## Solving Linear Programs using Gurobi\n",
    "\n",
    "The following code illustrates how the warm up problem can be solved using Python and Gurobi."
   ]
  },
  {
   "cell_type": "code",
   "execution_count": 5,
   "metadata": {},
   "outputs": [
    {
     "name": "stdout",
     "output_type": "stream",
     "text": [
      "Using license file /home/pengshi/gurobi.lic\n",
      "Academic license - for non-commercial use only\n",
      "Optimal objective:  800.0\n",
      "Optimal plan: X=2.0 Y=2.0\n",
      "Shadow price of Alice constraint: 100.0\n",
      "  Valid range of shadow price: hours worked for Alice between 4.0 and inf\n"
     ]
    }
   ],
   "source": [
    "from gurobipy import Model, GRB\n",
    "mod=Model()\n",
    "X=mod.addVar(lb=0)\n",
    "Y=mod.addVar(lb=0)\n",
    "mod.setObjective(100*X+300*Y,sense=GRB.MAXIMIZE)\n",
    "alice=mod.addConstr(X+2*Y<=6)\n",
    "mod.addConstr(3*Y<=6)\n",
    "mod.setParam('OutputFlag',False)\n",
    "mod.optimize()\n",
    "print('Optimal objective: ',mod.objVal)\n",
    "print(f'Optimal plan: X={X.x} Y={Y.x}')\n",
    "print(f'Shadow price of Alice constraint: {alice.pi}')\n",
    "print(f'  Valid range of shadow price: hours worked for Alice between \\\n",
    "{alice.sarhslow} and {alice.sarhsup}')"
   ]
  },
  {
   "cell_type": "markdown",
   "metadata": {},
   "source": [
    "## Q2. Solve Q1 again using Python and Gurobi"
   ]
  },
  {
   "cell_type": "code",
   "execution_count": 6,
   "metadata": {},
   "outputs": [
    {
     "name": "stdout",
     "output_type": "stream",
     "text": [
      "Optimal objective:  5400.0\n",
      "Optimal plan: X=6.0 Y=24.0\n",
      "Value of additional unit of Steel: 0.0 (valid right hand side (RHS): 48.0 to inf)\n",
      "Value of additional unit of Plastic: 50.0  (valid RHS: 40.0 to 60.0)\n",
      "Value of additional unit of Labor: 100.0  (valid RHS: 24.0 to 33.0)\n"
     ]
    }
   ],
   "source": []
  },
  {
   "cell_type": "markdown",
   "metadata": {},
   "source": [
    "## Q3. Additional Practice\n",
    "\n",
    "**(DMD Ex. 7.2)** The Gemstone Tool Company (GTC) produces wrenches and pliers. Each product is made of steel, and requires using a Molding Machine and an Assembly Machine. The daily availability of each resource, as well as the resources required to produce one units of each tool, are shown below.\n",
    "\n",
    "| ` `| Wrench (1 unit) | Plier (1 unit) | Daily Availability |\n",
    "|--|--|--|--|\n",
    "|Steel | 1.5 lbs | 1.0 lbs | 27,000 lbs|\n",
    "|Molding Machine | 1.0 hours | 1.0 hours | 21,000 hours |\n",
    "|Assembly Machine| 0.3 hours | 0.5 hours | 9,000 hours |\n",
    "\n",
    "There is demand for 16,000 wrenches and 15,000 pliers per day. Each wrench earns a profit of .10 dollars and each plier earns a profit of .13 dollars. \n",
    "\n",
    "**a)** How much of each product should GTC produce each day and what is the maximum possible profit?\n",
    "\n",
    "**b)** How much additional profit can the company obtain if it had one additional unit of each of the three resources?"
   ]
  },
  {
   "cell_type": "code",
   "execution_count": 8,
   "metadata": {},
   "outputs": [
    {
     "name": "stdout",
     "output_type": "stream",
     "text": [
      "Optimal profit: 2505.0\n",
      "W: 7500.0\n",
      "P: 13500.0\n",
      "\n",
      "Value of additional unit of each resource:\n",
      "Steel 0.0 \t valid right hand side (RHS): 24750.0 to inf\n",
      "Molding 0.055 \t valid RHS: 20000.0 to 22000.0\n",
      "Assembly 0.150 \t valid RHS: 8100.0 to 9300.0\n"
     ]
    }
   ],
   "source": []
  }
 ],
 "metadata": {
  "kernelspec": {
   "display_name": "Python 3",
   "language": "python",
   "name": "python3"
  },
  "language_info": {
   "codemirror_mode": {
    "name": "ipython",
    "version": 3
   },
   "file_extension": ".py",
   "mimetype": "text/x-python",
   "name": "python",
   "nbconvert_exporter": "python",
   "pygments_lexer": "ipython3",
   "version": "3.7.6"
  }
 },
 "nbformat": 4,
 "nbformat_minor": 2
}
