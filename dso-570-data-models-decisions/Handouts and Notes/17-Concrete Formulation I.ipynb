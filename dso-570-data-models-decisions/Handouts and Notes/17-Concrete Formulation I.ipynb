{
 "cells": [
  {
   "cell_type": "markdown",
   "metadata": {},
   "source": [
    "# Session 17: Concrete Formulation I"
   ]
  },
  {
   "cell_type": "markdown",
   "metadata": {},
   "source": [
    "## Steps for solving a practical optimization problem\n",
    "\n",
    "**1. English description** (for conceptual understanding).\n",
    "\n",
    "**2. Concrete formulation** (using concrete numbers in a toy example).\n",
    "\n",
    "**3. Abstract formulation** (using data variables and summation notation).\n",
    "\n",
    "**4. Reusable software** (that works with any input file of a certain format). "
   ]
  },
  {
   "cell_type": "markdown",
   "metadata": {},
   "source": [
    "## Q1. Supply Chain Planning\n",
    "\n",
    "The following table provides the shipping cost for a certain item, from 3 of Amazon’s fulfillment centers (FC) to 4 regions (A, B, C and D). \n",
    "\n",
    "| Region \\ FC  | 1 | 2 | 3 |\n",
    "|--|--|--|--|\n",
    "| A. Kings County, NY | 20 | 8 | 25 | \n",
    "| B. Los Angeles County, CA | 18 | 23 | 8 | \n",
    "| C. King County, WA | 21 | 24 | 8 | \n",
    "| D. Harris County, TX | 8 | 8 | 19 |\n",
    "\n",
    "The following table summarizes the weekly demand for the item from each region.\n",
    "\n",
    " | Region A | Region B | Region C | Region D|\n",
    "|--|--|--|--|\n",
    "|30 | 50 | 10 | 20 |\n",
    "\n",
    "Suppose that each FC is able to ship up to 40 units to any region each week. Formulate a linear program to determine the minimum transportation cost needed to satisfy all demand while respecting FC capacities, as well as the optimal shipment plan. Moreover, interpret the meaning of the shadow price of each constraint and predict its sign (positive or negative).\n",
    "\n",
    "### Step 1. Identify the decision, objective, and constraints in English\n",
    "\n",
    "\n",
    "\n",
    "### Step 2. Formulate the optimization as linear expressions of decision variables\n",
    "\n",
    "\n",
    "### Interpretation of Shadow Prices\n",
    "\n"
   ]
  },
  {
   "cell_type": "markdown",
   "metadata": {},
   "source": [
    "## Q2. Gurobi Practice\n",
    "\n",
    "Solve Q1 using Gurobi and find the shadow prices of and valid ranges of all the capacity constraints. For your reference, here is the sample code from session 13. The code solves the LP\n",
    "\n",
    "$$\\begin{aligned} & \\text{Maximize:} & 100X+300Y \\\\\n",
    "& \\text{subject to:} \\\\\n",
    "& \\text{(Alice)} & X+2Y & \\le 6 \\\\\n",
    "& \\text{(Bob)} & 3Y & \\le 6 \\\\\n",
    "& \\text{(Non-negativity)} & X, Y & \\ge 0\n",
    "\\end{aligned}$$"
   ]
  },
  {
   "cell_type": "code",
   "execution_count": 4,
   "metadata": {},
   "outputs": [
    {
     "name": "stdout",
     "output_type": "stream",
     "text": [
      "Optimal objective:  800.0\n",
      "Optimal plan: X=2.0 Y=2.0\n",
      "Shadow price of Alice constraint: 100.0\n",
      "(Valid range for RHS of Alice constraint: 4.0 and inf)\n"
     ]
    }
   ],
   "source": [
    "from gurobipy import Model, GRB\n",
    "mod=Model()                   \n",
    "X=mod.addVar(lb=0)            # lb: lower bound of decision variable\n",
    "Y=mod.addVar(lb=0)\n",
    "mod.setObjective(100*X+300*Y,sense=GRB.MAXIMIZE)\n",
    "alice=mod.addConstr(X+2*Y<=6)   # constraint object is named only to find shadow prices later\n",
    "mod.addConstr(3*Y<=6)\n",
    "mod.setParam('OutputFlag',False) # Hides diagnostic ouputs during optimization (not necessary)\n",
    "mod.optimize()\n",
    "print('Optimal objective: ',mod.objVal)\n",
    "print(f'Optimal plan: X={X.x} Y={Y.x}')  # Always .x to find the optimal value of a decision variable\n",
    "print(f'Shadow price of Alice constraint: {alice.pi}')\n",
    "print(f'(Valid range for RHS of Alice constraint: {alice.sarhslow} and {alice.sarhsup})')"
   ]
  },
  {
   "cell_type": "code",
   "execution_count": 2,
   "metadata": {},
   "outputs": [
    {
     "name": "stdout",
     "output_type": "stream",
     "text": [
      "Minimum transportation cost: 1080.0\n",
      "Optimal shipment plan:\n",
      "\tx1A=0.0 x1B=20.0 x1C=0.0 x1D=20.0\n",
      "\tx2A=30.0 x2B=0.0 x2C=0.0 x2D=0.0\n",
      "\tx3A=0.0 x3B=30.0 x3C=10.0 x3D=0.0\n",
      "Capacity 1 constraint\n",
      "\tShadow Price=0.0  Valid when RHS is in [40.0,inf]\n",
      "Capacity 2 constraint\n",
      "\tShadow Price=0.0  Valid when RHS is in [30.0,inf]\n",
      "Capacity 3 constraint\n",
      "\tShadow Price=-10.0  Valid when RHS is in [40.0,60.0]\n"
     ]
    }
   ],
   "source": []
  },
  {
   "cell_type": "markdown",
   "metadata": {},
   "source": [
    "## (Optional) Q3. Optimal Assignment\n",
    "\n",
    "There are four consultants, Alice, Bob, Charles, and Daphne, who must be assigned to one of two projects. Each consultant can only be assigned to one project, and each project requires two consultants. As a manager, you evaluated the relative fitness of the four consultants for each project on a scale of 1 to 5, with 5 being the best fit and 1 being the worst.\n",
    "\n",
    "| ` `| Project 1 | Project 2 |\n",
    "|--|--|--|\n",
    "|Alice | 5 | 2 |\n",
    "|Bob | 3 | 2 |\n",
    "|Charles | 4 | 5 |\n",
    "|Daphne | 3 | 1 |\n",
    " \n",
    "Furthermore, Alice, Bob and Daphne are senior consultants and each project requires at least one senior on the team. \n",
    "\n",
    "**a)** Formulate an optimization problem to maximize the total fitness of the consultants to their assigned project, subject to all the business constraints.\n",
    "\n",
    "**b)** Numerically solve the optimization using Gurobi. (Only difference with binary or integer variables in Gurobi is that you need to do `mod.addVar(vtype=GRB.BINARY)` `mod.addVar(vtype=GRB.INTEGER)` or `mod.addVar(lb=0,vtype=GRB.INTEGER)`)"
   ]
  },
  {
   "cell_type": "markdown",
   "metadata": {},
   "source": [
    "### Step 1. Identify the decision, objective, and constraints in English\n",
    "\n",
    "\n",
    "\n",
    "### Step 2. Formulate the optimization as linear expressions of decision variables\n",
    "\n"
   ]
  },
  {
   "cell_type": "code",
   "execution_count": 3,
   "metadata": {},
   "outputs": [
    {
     "name": "stdout",
     "output_type": "stream",
     "text": [
      "Maximum total fitness: 15.0\n",
      "Optimal Assignment:\n",
      "\tAlice assigned to Project 1.\n",
      "\tBob assigned to Project 2.\n",
      "\tCharles assigned to Project 2.\n",
      "\tDaphne assigned to Project 1.\n"
     ]
    }
   ],
   "source": []
  }
 ],
 "metadata": {
  "kernelspec": {
   "display_name": "Python 3",
   "language": "python",
   "name": "python3"
  },
  "language_info": {
   "codemirror_mode": {
    "name": "ipython",
    "version": 3
   },
   "file_extension": ".py",
   "mimetype": "text/x-python",
   "name": "python",
   "nbconvert_exporter": "python",
   "pygments_lexer": "ipython3",
   "version": "3.7.6"
  }
 },
 "nbformat": 4,
 "nbformat_minor": 2
}
