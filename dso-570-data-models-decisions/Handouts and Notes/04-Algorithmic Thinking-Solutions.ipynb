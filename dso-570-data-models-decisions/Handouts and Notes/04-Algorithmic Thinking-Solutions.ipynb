{
 "cells": [
  {
   "cell_type": "markdown",
   "metadata": {},
   "source": [
    "# Session 4: Algorithmic Thinking (with Solutions)\n",
    "\n",
    "## 1. Steps for solving a complex programming problem\n",
    "\n",
    "**I.  Describe** in English the task in precise language.\n",
    "\n",
    "**II. Decompose** the description into well-defined components. For each component, give a step by step recipe of the logic, so that a computer can follow.\n",
    "\n",
    "**III. Translate** the description of each component into runnable code, and test each component.\n",
    "\n",
    "**IV. Combine** the code together into one coherent program and test the entire program.\n",
    "\n",
    "## Case 6: Optimal Pricing\n",
    "\n",
    "Write a function `optPrice` with two input arguments:\n",
    "\n",
    "- `priceList`: a list of proposed prices.\n",
    "- `valueList`: a list of numbers. Each number represents the willingness to pay for the product from a particular customer.\n",
    "\n",
    "For a given price, the demand is equal to the number of customers with willingness to pay greater than or equal to the price. The function should iterate through the list of prices, and compute the estimated profit for each price, which is equal to the price times the demand. \n",
    "\n",
    "The function should return two objects: the first is the best price found. The second object is a dictionary mapping each price to the estimated revenue for that price. See the following code for an example of how one would use the function."
   ]
  },
  {
   "cell_type": "code",
   "execution_count": 6,
   "metadata": {},
   "outputs": [
    {
     "data": {
      "image/png": "[encoded data removed]",
      "text/plain": [
       "<Figure size 432x288 with 1 Axes>"
      ]
     },
     "metadata": {
      "needs_background": "light"
     },
     "output_type": "display_data"
    }
   ],
   "source": [
    "priceList=list(range(0,40,5))\n",
    "valueList=[32,10,15,18,25,40,50,43]\n",
    "bestPrice,revenue=optPrice(priceList,valueList)\n",
    "\n",
    "import matplotlib.pyplot as plt\n",
    "revenueList=[revenue[price] for price in priceList]\n",
    "plt.plot(priceList,revenueList)\n",
    "plt.plot([bestPrice],[revenue[bestPrice]],'ro')\n",
    "plt.xlabel('Price')\n",
    "plt.ylabel('Revenue')\n",
    "plt.title(f'Optimal price is \\${bestPrice} with revenue \\${revenue[bestPrice]}')\n",
    "plt.show()"
   ]
  },
  {
   "cell_type": "markdown",
   "metadata": {},
   "source": [
    "### I. Describe\n",
    "\n",
    "Estimate the revenue for each given price and find the price with the highest profit."
   ]
  },
  {
   "cell_type": "markdown",
   "metadata": {},
   "source": [
    "### II. Decompose\n",
    "\n",
    "A. Iterate through the prices in the given priceList.\n",
    "\n",
    "B. Calculate the revenue for a given price: count the number of customer values greater than or equal to the price, and multiply this count with the price. \n",
    "\n",
    "C. Store the answer in a dictionary and find the key with the highest value: define a variable to keep track of the best price found so far and another variable for the best profit. When looping through the prices, update the variables appropriately.\n",
    "\n",
    "D. Package the code into a function called optPrice."
   ]
  },
  {
   "cell_type": "markdown",
   "metadata": {},
   "source": [
    "### III. Translate\n",
    "\n",
    "Write code to implement each component in a separate cell and test each separately. You may supply additional inputs as needed to make the code run."
   ]
  },
  {
   "cell_type": "code",
   "execution_count": 20,
   "metadata": {},
   "outputs": [
    {
     "name": "stdout",
     "output_type": "stream",
     "text": [
      "0 5 10 15 20 25 30 35 "
     ]
    }
   ],
   "source": [
    "# A. Iterate through the prices\n",
    "for price in priceList:\n",
    "    print(price,end=' ')"
   ]
  },
  {
   "cell_type": "code",
   "execution_count": 21,
   "metadata": {},
   "outputs": [
    {
     "data": {
      "text/plain": [
       "125"
      ]
     },
     "execution_count": 21,
     "metadata": {},
     "output_type": "execute_result"
    }
   ],
   "source": [
    "# B. Count the number of customer values greater than or equal to a given price. \n",
    "price=25\n",
    "count=0\n",
    "for value in valueList:\n",
    "    if value>=price:\n",
    "        count+=1\n",
    "revenue=count*price\n",
    "revenue"
   ]
  },
  {
   "cell_type": "code",
   "execution_count": 18,
   "metadata": {},
   "outputs": [
    {
     "data": {
      "text/plain": [
       "(125, 25)"
      ]
     },
     "execution_count": 18,
     "metadata": {},
     "output_type": "execute_result"
    }
   ],
   "source": [
    "# C. Store the answer in a dictionary and find the key with highest value\n",
    "results={5:10,10:25,25:125,30:100}\n",
    "bestRevenue=0\n",
    "bestPrice=0\n",
    "for price in results:\n",
    "    if results[price]>bestRevenue:\n",
    "        bestRevenue=results[price]\n",
    "        bestPrice=price\n",
    "bestRevenue,bestPrice"
   ]
  },
  {
   "cell_type": "code",
   "execution_count": 19,
   "metadata": {},
   "outputs": [
    {
     "data": {
      "text/plain": [
       "(0, {})"
      ]
     },
     "execution_count": 19,
     "metadata": {},
     "output_type": "execute_result"
    }
   ],
   "source": [
    "# D. Package the code in a function called optPrice\n",
    "def optPrice(priceList,valueList):\n",
    "    dic={}\n",
    "    bestPrice=0\n",
    "    return bestPrice,dic\n",
    "\n",
    "optPrice(priceList,valueList)"
   ]
  },
  {
   "cell_type": "markdown",
   "metadata": {},
   "source": [
    "### IV. Combine\n",
    "Combine your code from the above steps, but for ease of debugging, do not package the code in the optPrice function yet and print intermediate results."
   ]
  },
  {
   "cell_type": "code",
   "execution_count": 23,
   "metadata": {},
   "outputs": [
    {
     "name": "stdout",
     "output_type": "stream",
     "text": [
      "Price: 0 Revenue: 0 Dictionary {0: 0}\n",
      "Price: 5 Revenue: 40 Dictionary {0: 0, 5: 40}\n",
      "Updated bestPrice: 5 bestRevenue: 40\n",
      "Price: 10 Revenue: 80 Dictionary {0: 0, 5: 40, 10: 80}\n",
      "Updated bestPrice: 10 bestRevenue: 80\n",
      "Price: 15 Revenue: 105 Dictionary {0: 0, 5: 40, 10: 80, 15: 105}\n",
      "Updated bestPrice: 15 bestRevenue: 105\n",
      "Price: 20 Revenue: 100 Dictionary {0: 0, 5: 40, 10: 80, 15: 105, 20: 100}\n",
      "Price: 25 Revenue: 125 Dictionary {0: 0, 5: 40, 10: 80, 15: 105, 20: 100, 25: 125}\n",
      "Updated bestPrice: 25 bestRevenue: 125\n",
      "Price: 30 Revenue: 120 Dictionary {0: 0, 5: 40, 10: 80, 15: 105, 20: 100, 25: 125, 30: 120}\n",
      "Price: 35 Revenue: 105 Dictionary {0: 0, 5: 40, 10: 80, 15: 105, 20: 100, 25: 125, 30: 120, 35: 105}\n",
      "Final bestPrice: 25 bestRevenue 125\n"
     ]
    }
   ],
   "source": [
    "priceList=[0,5,10,15,20,25,30,35]\n",
    "valueList=[32,10,15,18,25,40,50,43]\n",
    "bestPrice=0\n",
    "bestRevenue=0\n",
    "results={}\n",
    "for price in priceList:\n",
    "    print('Price:',price,end=' ')\n",
    "    count=0\n",
    "    for value in valueList:\n",
    "        if value>=price:\n",
    "            count+=1\n",
    "    revenue=count*price\n",
    "    print('Revenue:', revenue,end=' ')\n",
    "    results[price]=revenue\n",
    "    print('Dictionary',results)\n",
    "    if results[price]>bestRevenue:\n",
    "        bestRevenue=results[price]\n",
    "        bestPrice=price\n",
    "        print('Updated bestPrice:',bestPrice,'bestRevenue:',bestRevenue)\n",
    "print('Final bestPrice:',bestPrice,'bestRevenue',bestRevenue)"
   ]
  },
  {
   "cell_type": "markdown",
   "metadata": {},
   "source": [
    "After you have checked that everything works, remove the intermediate print statements and reorganize the code if needed to make it more readable. Enclose the final code in the optPrice function according to the prompt. "
   ]
  },
  {
   "cell_type": "code",
   "execution_count": 2,
   "metadata": {},
   "outputs": [],
   "source": [
    "def demand(price,valueList):\n",
    "    count=0\n",
    "    for value in valueList:\n",
    "        if value>=price:\n",
    "            count+=1\n",
    "    return count\n",
    "def optPrice(priceList,valueList):\n",
    "    bestRevenue=0\n",
    "    bestPrice=0\n",
    "    results={}\n",
    "    for price in priceList:\n",
    "        results[price]=demand(price,valueList)*price\n",
    "        if results[price]>bestRevenue:\n",
    "            bestRevenue=results[price]\n",
    "            bestPrice=price\n",
    "    return bestPrice, results"
   ]
  },
  {
   "cell_type": "code",
   "execution_count": 26,
   "metadata": {},
   "outputs": [
    {
     "name": "stdout",
     "output_type": "stream",
     "text": [
      "Best price: 25\n",
      "Profit for each price: {0: 0, 5: 40, 10: 80, 15: 105, 20: 100, 25: 125, 30: 120, 35: 105}\n"
     ]
    }
   ],
   "source": [
    "priceList=[0,5,10,15,20,25,30,35]\n",
    "values=[32,10,15,18,25,40,50,43]\n",
    "bestPrice,result=optPrice(priceList,values)\n",
    "print('Best price:',bestPrice)\n",
    "print('Profit for each price:',result)"
   ]
  },
  {
   "cell_type": "markdown",
   "metadata": {},
   "source": [
    "## Case 7. Optimal Wage Contract\n",
    "\n",
    "Write a function `optimalContract` with two input arguments:\n",
    "\n",
    "- `hours`: the number of hours you would like to work.\n",
    "- `contracts`: a dictionary mapping the name of a contract to a list of two numbers. The first number is the hourly rate for the first 40 hours. The second number is the bonus for overtime hours, as a proportion of the hourly rate. \n",
    "\n",
    "The function should return two objects. The first is the best possible pay under the specified number of hours worked, and the second is a list of the names of all contracts resulting in the best pay. (If one contract is better than all the rest, then the list has one element. If two or more contracts are tied for the best pay, then the list contains all of the names of the optimal contracts.)\n",
    "\n",
    "```python\n",
    "    contracts={'A':[10,.8],'B':[12,0],'C':[12,.1]}\n",
    "    optimalContract(38,contracts)\n",
    "```\n",
    "\n",
    "```\n",
    "(456, ['B', 'C'])\n",
    "```\n",
    "\n",
    "```python\n",
    "    optimalContract(42,contracts)\n",
    "```\n",
    "\n",
    "```\n",
    "(506.4, ['C'])\n",
    "```\n",
    "\n",
    "```python\n",
    "    optimalContract(60,contracts)\n",
    "```\n",
    "\n",
    "```\n",
    "(760.0, ['A'])\n",
    "```"
   ]
  },
  {
   "cell_type": "markdown",
   "metadata": {},
   "source": [
    "### I. Describe \n",
    "\n",
    "Go through the given contracts, calculate the pay under each contract for the specified number of hours worked, and return the highest pay and the names of the contracts yielding the highest pay.\n",
    "\n",
    "### II. Decompose\n",
    "\n",
    "**A.** Loop through the given contracts.\n",
    "\n",
    "**B.** Calculate the pay under each contract. The same logic appears in a problem in homework 1.\n",
    "\n",
    "**C.** Keep track of the set of contracts with the best pay: define a variable to record the best pay found so far, and a list recording all of the contracts found so far with the best pay. When processing a new contract, if the contract has worse pay, then do nothing. If it has equal pay as the best so far, then add it to the list. If it has striclty better pay, then update the best pay so far and make this contract the only element in the list."
   ]
  },
  {
   "cell_type": "markdown",
   "metadata": {},
   "source": [
    "### III. Translate \n",
    "\n",
    "Translate the description of each component into runnable code, and test each component."
   ]
  },
  {
   "cell_type": "code",
   "execution_count": 9,
   "metadata": {},
   "outputs": [
    {
     "name": "stdout",
     "output_type": "stream",
     "text": [
      "A Base: 10 Bonus: 0.5\n",
      "B Base: 12 Bonus: 0\n",
      "C Base: 12 Bonus: 0.1\n"
     ]
    }
   ],
   "source": [
    "# A. Loop through...\n",
    "contracts={'A':[10,.5],'B':[12,0],'C':[12,.1]}\n",
    "\n",
    "for name in contracts:\n",
    "    base,bonus=contracts[name]\n",
    "    print(name,'Base:',base,'Bonus:',bonus)"
   ]
  },
  {
   "cell_type": "code",
   "execution_count": 28,
   "metadata": {},
   "outputs": [
    {
     "data": {
      "text/plain": [
       "445.0"
      ]
     },
     "execution_count": 28,
     "metadata": {},
     "output_type": "execute_result"
    }
   ],
   "source": [
    "# B. Calculate the pay ...\n",
    "hours=43\n",
    "base=10\n",
    "bonus=.5\n",
    "if hours<=40:\n",
    "    pay=hours*base\n",
    "else:\n",
    "    pay=hours*base+(hours-40)*base*bonus\n",
    "pay"
   ]
  },
  {
   "cell_type": "code",
   "execution_count": 11,
   "metadata": {},
   "outputs": [
    {
     "name": "stdout",
     "output_type": "stream",
     "text": [
      "445 ['A']\n"
     ]
    }
   ],
   "source": [
    "# C. Keep track ...\n",
    "bestPay=400\n",
    "bestContracts=['E','F']\n",
    "name='A'\n",
    "pay=445\n",
    "if pay>bestPay:\n",
    "    bestPay=pay\n",
    "    bestContracts=[name]\n",
    "elif pay==bestPay:\n",
    "    bestContracts.append(name)\n",
    "print(bestPay,bestContracts)"
   ]
  },
  {
   "cell_type": "markdown",
   "metadata": {},
   "source": [
    "### IV. Combine\n",
    "\n",
    "Combine the code together into one coherent program and test the entire program. (First code directly in a notebook cell and print intermediate results for ease of debugging.)"
   ]
  },
  {
   "cell_type": "code",
   "execution_count": 29,
   "metadata": {},
   "outputs": [
    {
     "name": "stdout",
     "output_type": "stream",
     "text": [
      "Processing contract A Base: 10 Bonus: 0.5 Pay: 380\n",
      "\tbestPay: 380 bestContracts: ['A']\n",
      "Processing contract B Base: 12 Bonus: 0 Pay: 456\n",
      "\tbestPay: 456 bestContracts: ['B']\n",
      "Processing contract C Base: 12 Bonus: 0.1 Pay: 456\n",
      "\tbestPay: 456 bestContracts: ['B', 'C']\n"
     ]
    }
   ],
   "source": [
    "hours=38\n",
    "contracts={'A':[10,.5],'B':[12,0],'C':[12,.1]}\n",
    "bestPay=0\n",
    "bestContracts=[]\n",
    "def calculateWage(hours,base,bonus):\n",
    "    if hours<=40:\n",
    "        pay=hours*base\n",
    "    else:\n",
    "        pay=hours*base+(hours-40)*base*bonus\n",
    "    return pay\n",
    "for name in contracts:\n",
    "    base,bonus=contracts[name]\n",
    "    print('Processing contract',name,'Base:',base,'Bonus:',bonus,end=' ')\n",
    "    pay=calculateWage(hours,base,bonus)\n",
    "    print('Pay:',pay)\n",
    "    if pay>bestPay:\n",
    "        bestPay=pay\n",
    "        bestContracts=[name]\n",
    "    elif pay==bestPay:\n",
    "        bestContracts.append(name)\n",
    "    print('\\tbestPay:',bestPay,'bestContracts:',bestContracts)"
   ]
  },
  {
   "cell_type": "markdown",
   "metadata": {},
   "source": [
    "**Final Solution:**"
   ]
  },
  {
   "cell_type": "code",
   "execution_count": 30,
   "metadata": {},
   "outputs": [],
   "source": [
    "def calculateWage(hours,base,bonus):\n",
    "    if hours<=40:\n",
    "        pay=hours*base\n",
    "    else:\n",
    "        pay=hours*base+(hours-40)*base*bonus\n",
    "    return pay\n",
    "\n",
    "def optimalContract(hours,contracts):\n",
    "    bestPay=0\n",
    "    bestContracts=[]\n",
    "    for name in contracts:\n",
    "        base,bonus=contracts[name]\n",
    "        pay=calculateWage(hours,base,bonus)\n",
    "        if pay>bestPay:\n",
    "            bestPay=pay\n",
    "            bestContracts=[name]\n",
    "        elif pay==bestPay:\n",
    "            bestContracts.append(name)\n",
    "    return bestPay,bestContracts"
   ]
  },
  {
   "cell_type": "code",
   "execution_count": 31,
   "metadata": {},
   "outputs": [
    {
     "data": {
      "text/plain": [
       "(456, ['B', 'C'])"
      ]
     },
     "execution_count": 31,
     "metadata": {},
     "output_type": "execute_result"
    }
   ],
   "source": [
    "contracts={'A':[10,.8],'B':[12,0],'C':[12,.1]}\n",
    "optimalContract(38,contracts)"
   ]
  },
  {
   "cell_type": "code",
   "execution_count": 34,
   "metadata": {},
   "outputs": [
    {
     "data": {
      "text/plain": [
       "(506.4, ['C'])"
      ]
     },
     "execution_count": 34,
     "metadata": {},
     "output_type": "execute_result"
    }
   ],
   "source": [
    "optimalContract(42,contracts)"
   ]
  },
  {
   "cell_type": "code",
   "execution_count": 33,
   "metadata": {},
   "outputs": [
    {
     "data": {
      "text/plain": [
       "(760.0, ['A'])"
      ]
     },
     "execution_count": 33,
     "metadata": {},
     "output_type": "execute_result"
    }
   ],
   "source": [
    "optimalContract(60,contracts)"
   ]
  }
 ],
 "metadata": {
  "kernelspec": {
   "display_name": "Python 3",
   "language": "python",
   "name": "python3"
  },
  "language_info": {
   "codemirror_mode": {
    "name": "ipython",
    "version": 3
   },
   "file_extension": ".py",
   "mimetype": "text/x-python",
   "name": "python",
   "nbconvert_exporter": "python",
   "pygments_lexer": "ipython3",
   "version": "3.7.2"
  }
 },
 "nbformat": 4,
 "nbformat_minor": 2
}
