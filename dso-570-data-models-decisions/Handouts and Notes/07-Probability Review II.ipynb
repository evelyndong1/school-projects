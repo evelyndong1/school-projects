{
 "cells": [
  {
   "cell_type": "markdown",
   "metadata": {},
   "source": [
    "# Session 7: Probability Review II"
   ]
  },
  {
   "cell_type": "markdown",
   "metadata": {},
   "source": [
    "Note: you can use Python to help crunch numbers in this Handout. However, the core learning point here is the math and not the coding.\n",
    "\n",
    "### Q1 (Investment Portfolio)\n",
    "\n",
    "An investment consultant believes that the probability distribution of the return on investment (in percent per year) on a certain portfolio is given in the below table.\n",
    "\n",
    "| Returns on investment | Probability | \n",
    "|--|--|\n",
    "|9|0.07|\n",
    "|10|0.15|\n",
    "|11|0.23|\n",
    "|12|0.25|\n",
    "|13|0.15|\n",
    "|14|0.12|\n",
    "|15|0.03|"
   ]
  },
  {
   "cell_type": "markdown",
   "metadata": {},
   "source": [
    "**a)** What is the probability that the porfolio's return will be at least 12%?"
   ]
  },
  {
   "cell_type": "markdown",
   "metadata": {},
   "source": [
    "**b)** What is the probability that the return will be between 10% and 13% (inclusive)?"
   ]
  },
  {
   "cell_type": "markdown",
   "metadata": {},
   "source": [
    "**c)** What is the expected return?"
   ]
  },
  {
   "cell_type": "markdown",
   "metadata": {},
   "source": [
    "**d)** What is the variance and standard deviation of the returns?"
   ]
  },
  {
   "cell_type": "markdown",
   "metadata": {},
   "source": [
    "### Q2 (Quality Control) \n",
    "A factory manufactures 200 units per hour. According to past data, each unit is of good quality with probability 0.95, independent of other units. Each shift is 4 hours.\n",
    "\n",
    "**a)** What is the expected number of bad quality units produced in a shift?"
   ]
  },
  {
   "cell_type": "markdown",
   "metadata": {},
   "source": [
    "**b)** What is the standard deviation of the number of bad quality units produced in a shift?"
   ]
  },
  {
   "cell_type": "markdown",
   "metadata": {},
   "source": [
    "**c)** What is the probability that there are (strictly) less than 30 bad units produced in a shift?"
   ]
  },
  {
   "cell_type": "markdown",
   "metadata": {},
   "source": [
    "**d)** What is the probability that there are between 30 and 50 bad units produced in a shift (inclusive)?"
   ]
  },
  {
   "cell_type": "markdown",
   "metadata": {},
   "source": [
    "**e)** What is the probabiltiy that (strictly) more than 55 bad units produced in a shift?"
   ]
  },
  {
   "cell_type": "markdown",
   "metadata": {},
   "source": [
    "### Q3 (Sports Analytics)\n",
    "The men's 100 meter sprint at the 1996 Olympic Games in Atlanta was a hotly contested event between Donovan Bailey of Canada, Frankie Fredericks of Namibia, and Ato Boldon of Trinidad. Assume that for all three runners, the probability distribution of the time to run the race a (continuous) uniform distribution between 9.75 and 9.95 seconds, and that the running times are independent.\n",
    "\n",
    "**a)** What is the probability that Donovan Bailey's time will beat the previous record of 9.86 seconds?"
   ]
  },
  {
   "cell_type": "markdown",
   "metadata": {},
   "source": [
    "**b)** What is the probability that the winning time will beat the previous record of 9.86 seconds?"
   ]
  },
  {
   "cell_type": "markdown",
   "metadata": {},
   "source": [
    "**Central Limit Theorem (Normal Approximation):** \n",
    "If $X_1, X_2, \\cdots X_n$ are independent random variables and $n$ is \"large,\" then the sum $Y=X_1+X_2+\\cdots+X_n$ is approximately normal distributed, with \n",
    "\n",
    "$$\\begin{align}\n",
    "\\mu &= E[X_1]+E[X_2]+\\cdots+E[X_n] \\\\\n",
    "\\sigma^2 &= Var(X_1)+Var(X_2)+\\cdots+Var(X_n)\n",
    "\\end{align}\n",
    "$$\n",
    "\n",
    "### Q4 (Demand Estimation)\n",
    "\n",
    "A marketing team would like to estimate the demand for a new product before its launch. They have segmented the market into 4 segments. The number of customers of each segment and the estimated purchase probabilties are as below. (Assume that each potential customer makes their purchase decision independently.)\n",
    "\n",
    "| Segment | # of Customers | Purchase Probability |\n",
    "|--|--|--|\n",
    "| A | 10000 | 0.1 |\n",
    "| B | 5000 | 0.3 |\n",
    "| C | 300 | 0.9 |\n",
    "\n",
    "**a)** What is the mean and standard deviation of the total demand for the product?"
   ]
  },
  {
   "cell_type": "markdown",
   "metadata": {},
   "source": [
    "**b)** Use the normal approximation to estimate the probability that demand is less than $2500$. "
   ]
  },
  {
   "cell_type": "markdown",
   "metadata": {},
   "source": [
    "**c)** Use the normal approximation to estimate the probability that the demand is more than $2800$. "
   ]
  }
 ],
 "metadata": {
  "kernelspec": {
   "display_name": "Python 3",
   "language": "python",
   "name": "python3"
  },
  "language_info": {
   "codemirror_mode": {
    "name": "ipython",
    "version": 3
   },
   "file_extension": ".py",
   "mimetype": "text/x-python",
   "name": "python",
   "nbconvert_exporter": "python",
   "pygments_lexer": "ipython3",
   "version": "3.7.2"
  }
 },
 "nbformat": 4,
 "nbformat_minor": 2
}
