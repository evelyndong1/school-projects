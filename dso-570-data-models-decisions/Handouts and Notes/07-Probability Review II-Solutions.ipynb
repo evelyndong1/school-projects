{
 "cells": [
  {
   "cell_type": "markdown",
   "metadata": {},
   "source": [
    "# Session 7: Probability Review II (with Solutions)"
   ]
  },
  {
   "cell_type": "markdown",
   "metadata": {},
   "source": [
    "Note: you can use Python to help crunch numbers in this Handout. However, the core learning point here is the math and not the coding.\n",
    "\n",
    "### Q1 (Investment Portfolio)\n",
    "\n",
    "An investment consultant believes that the probability distribution of the return on investment (in percent per year) on a certain portfolio is given in the below table.\n",
    "\n",
    "| Returns on investment | Probability | \n",
    "|--|--|\n",
    "|9|0.07|\n",
    "|10|0.15|\n",
    "|11|0.23|\n",
    "|12|0.25|\n",
    "|13|0.15|\n",
    "|14|0.12|\n",
    "|15|0.03|"
   ]
  },
  {
   "cell_type": "markdown",
   "metadata": {},
   "source": [
    "**a)** What is the probability that the porfolio's return will be at least 12\\%?"
   ]
  },
  {
   "cell_type": "markdown",
   "metadata": {},
   "source": [
    "Let $X$ be a random variable denoting the portfolio's return in percent.\n",
    "\n",
    "$$P(X \\ge 12) = 0.25+0.15+0.12+0.03 = 0.55$$"
   ]
  },
  {
   "cell_type": "markdown",
   "metadata": {},
   "source": [
    "**b)** What is the probability that the return will be between 10\\% and 13\\% (inclusive)?"
   ]
  },
  {
   "cell_type": "markdown",
   "metadata": {},
   "source": [
    "$$ P(10 \\le X \\le 15) = 0.15+0.23+0.25+0.15 = 0.78$$"
   ]
  },
  {
   "cell_type": "markdown",
   "metadata": {},
   "source": [
    "**c)** What is the expected return?"
   ]
  },
  {
   "cell_type": "markdown",
   "metadata": {},
   "source": [
    "$$E(X)=(9)(0.07)+(10)(0.15)+(11)(0.23)+(12)(0.25)+(13)(0.15)+(14)(0.12)+(15)(0.03)=11.74$$\n",
    "\n",
    "Here's the computation in Python"
   ]
  },
  {
   "cell_type": "code",
   "execution_count": 8,
   "metadata": {},
   "outputs": [
    {
     "data": {
      "text/plain": [
       "11.739999999999998"
      ]
     },
     "execution_count": 8,
     "metadata": {},
     "output_type": "execute_result"
    }
   ],
   "source": [
    "p=[0.07,0.15,0.23,0.25,0.15,0.12,0.03]\n",
    "x=[9,10,11,12,13,14,15]\n",
    "total=0\n",
    "for i in range(len(p)):\n",
    "    total+=p[i]*x[i]\n",
    "total"
   ]
  },
  {
   "cell_type": "markdown",
   "metadata": {},
   "source": [
    "**d)** What is the variance and standard deviation of the returns?"
   ]
  },
  {
   "cell_type": "markdown",
   "metadata": {},
   "source": [
    "$$Var(X) = (9-11.74)^2(0.07)+(10-11.74)^2(0.15)+\\cdots+(15-11.74)^2(0.03) \\approx 2.29 $$\n",
    "\n",
    "$$SD(X) = \\sqrt{Var(X)} \\approx 1.51 $$"
   ]
  },
  {
   "cell_type": "code",
   "execution_count": 10,
   "metadata": {},
   "outputs": [
    {
     "name": "stdout",
     "output_type": "stream",
     "text": [
      "Variance is 2.2923999999999998\n",
      "Standard deviation is 1.514067369703211\n"
     ]
    }
   ],
   "source": [
    "import numpy as np\n",
    "expectation=11.74\n",
    "total=0\n",
    "for i in range(len(p)):\n",
    "    total+=p[i]*(x[i]-expectation)**2\n",
    "print('Variance is', total)\n",
    "print('Standard deviation is',np.sqrt(total))"
   ]
  },
  {
   "cell_type": "markdown",
   "metadata": {},
   "source": [
    "### Q2 (Quality Control) \n",
    "A factory manufactures 200 units per hour. According to past data, each unit is of good quality with probability 0.95, independent of other units. Each shift is 4 hours.\n",
    "\n",
    "**a)** What is the expected number of bad quality units produced in a shift?"
   ]
  },
  {
   "cell_type": "markdown",
   "metadata": {},
   "source": [
    "Let $X$ be a random variable representing the number of bad quality units in a shift. Note that $X$ has a binomial distribution with parameters $n=200\\times 4=800$ and $p=1-0.95=0.05$.\n",
    "\n",
    "$$E[X] = np = (800)(0.05) = 40.$$"
   ]
  },
  {
   "cell_type": "markdown",
   "metadata": {},
   "source": [
    "**b)** What is the standard deviation of the number of bad quality units produced in a shift?"
   ]
  },
  {
   "cell_type": "markdown",
   "metadata": {},
   "source": [
    "$$SD(X)= \\sqrt{np(1-p)} = \\sqrt{(800)(0.05)(0.95)} \\approx 6.16. $$"
   ]
  },
  {
   "cell_type": "markdown",
   "metadata": {},
   "source": [
    "**c)** What is the probability that there are (strictly) less than 30 bad units produced in a shift?"
   ]
  },
  {
   "cell_type": "markdown",
   "metadata": {},
   "source": [
    "Let $F(t)$ be the CDF of $X$. The desired probability is \n",
    "\n",
    "$$P(X < 30) = P(X \\le 29) = F(29) \\approx 3.94\\%$$"
   ]
  },
  {
   "cell_type": "code",
   "execution_count": 16,
   "metadata": {},
   "outputs": [
    {
     "data": {
      "text/plain": [
       "0.0394300133504324"
      ]
     },
     "execution_count": 16,
     "metadata": {},
     "output_type": "execute_result"
    }
   ],
   "source": [
    "from scipy.stats import binom\n",
    "dist=binom(n=800,p=0.05)\n",
    "dist.cdf(29)"
   ]
  },
  {
   "cell_type": "markdown",
   "metadata": {},
   "source": [
    "**d)** What is the probability that there are between 30 and 50 bad units produced in a shift (inclusive)?"
   ]
  },
  {
   "cell_type": "markdown",
   "metadata": {},
   "source": [
    "$$P(30\\le X \\le 50) = P(X \\le 50) - P(X \\le 29) = F(50)-F(29) \\approx 91.2\\%.$$"
   ]
  },
  {
   "cell_type": "code",
   "execution_count": 17,
   "metadata": {},
   "outputs": [
    {
     "data": {
      "text/plain": [
       "0.9124035773633103"
      ]
     },
     "execution_count": 17,
     "metadata": {},
     "output_type": "execute_result"
    }
   ],
   "source": [
    "dist.cdf(50)-dist.cdf(29)"
   ]
  },
  {
   "cell_type": "markdown",
   "metadata": {},
   "source": [
    "**e)** What is the probabiltiy that (strictly) more than 55 bad units produced in a shift?"
   ]
  },
  {
   "cell_type": "markdown",
   "metadata": {},
   "source": [
    "$$ P(X > 55)= 1-P(X \\le 55)=1-F(55)\\approx 0.8\\% $$"
   ]
  },
  {
   "cell_type": "code",
   "execution_count": 18,
   "metadata": {},
   "outputs": [
    {
     "data": {
      "text/plain": [
       "0.008101837261600964"
      ]
     },
     "execution_count": 18,
     "metadata": {},
     "output_type": "execute_result"
    }
   ],
   "source": [
    "1-dist.cdf(55)"
   ]
  },
  {
   "cell_type": "markdown",
   "metadata": {},
   "source": [
    "### Q3 (Sports Analytics)\n",
    "The men's 100 meter sprint at the 1996 Olympic Games in Atlanta was a hotly contested event between Donovan Bailey of Canada, Frankie Fredericks of Namibia, and Ato Boldon of Trinidad. Assume that for all three runners, the probability distribution of the time to run the race a (continuous) uniform distribution between 9.75 and 9.95 seconds, and that the running times are independent.\n",
    "\n",
    "**a)** What is the probability that Donovan Bailey's time will beat the previous record of 9.86 seconds?"
   ]
  },
  {
   "cell_type": "markdown",
   "metadata": {},
   "source": [
    "Let $X$ be a uniformly distributed random variable between 9.75 and 9.95. Let $F(t)$ be the CDF of $X$. The desired probability is \n",
    "\n",
    "$$P(X \\le 9.86) = F(9.86) = \\frac{9.86-9.75}{9.95-9.75} = 0.55$$\n",
    "\n",
    "You can also use the CDF from scipy.stats."
   ]
  },
  {
   "cell_type": "code",
   "execution_count": 23,
   "metadata": {},
   "outputs": [
    {
     "data": {
      "text/plain": [
       "0.5499999999999992"
      ]
     },
     "execution_count": 23,
     "metadata": {},
     "output_type": "execute_result"
    }
   ],
   "source": [
    "from scipy.stats import uniform\n",
    "dist=uniform(loc=9.75,scale=9.95-9.75)\n",
    "dist.cdf(9.86)"
   ]
  },
  {
   "cell_type": "markdown",
   "metadata": {},
   "source": [
    "**b)** What is the probability that the winning time will beat the previous record of 9.86 seconds?"
   ]
  },
  {
   "cell_type": "markdown",
   "metadata": {},
   "source": [
    "We first calculate the probability that the winning time will not beat this record, which means that each of the runners exceeds this time. Because of independence, this probability is equal to \n",
    "\n",
    "$$P(X \\ge 9.86)^3 = (1-0.55)^3 \\approx 9.1\\%$$\n",
    "\n",
    "Therefore, the probability that someone will beat this record is \n",
    "\n",
    "$$ 1- 9.1\\% = 90.9\\%. $$\n"
   ]
  },
  {
   "cell_type": "markdown",
   "metadata": {},
   "source": [
    "**Central Limit Theorem (Normal Approximation):** \n",
    "If $X_1, X_2, \\cdots X_n$ are independent random variables and $n$ is \"large,\" then the sum $Y=X_1+X_2+\\cdots+X_n$ is approximately normal distributed, with \n",
    "\n",
    "$$\\begin{align}\n",
    "\\mu &= E[X_1]+E[X_2]+\\cdots+E[X_n] \\\\\n",
    "\\sigma^2 &= Var(X_1)+Var(X_2)+\\cdots+Var(X_n)\n",
    "\\end{align}\n",
    "$$\n",
    "\n",
    "### Q4 (Demand Estimation)\n",
    "\n",
    "A marketing team would like to estimate the demand for a new product before its launch. They have segmented the market into 4 segments. The number of customers of each segment and the estimated purchase probabilties are as below. (Assume that each potential customer makes their purchase decision independently.)\n",
    "\n",
    "| Segment | # of Customers | Purchase Probability |\n",
    "|--|--|--|\n",
    "| A | 10000 | 0.1 |\n",
    "| B | 5000 | 0.3 |\n",
    "| C | 300 | 0.9 |\n",
    "\n",
    "**a)** What is the mean and standard deviation of the total demand for the product?"
   ]
  },
  {
   "cell_type": "markdown",
   "metadata": {},
   "source": [
    "Let $X$ a random variable denoting the total demand, and let $Y_A$, $Y_B$ and $Y_C$ be Bernoulli random variables denoting whether a random customer of each type would purchase. By linearity of expecations\n",
    "\n",
    "$$E[X]=10000E[A]+5000E[B] + 300 E[C] = (10000)(0.1)+(5000)(0.3)+(300)(0.9) = 2770,$$\n",
    "$$Var(X)=10000Var(A)+5000Var(B) + 300 Var(C) = (10000)(0.1)(0.9)+(5000)(0.3)(0.7)+(300)(0.9)(0.1) = 1977,$$\n",
    "$$SD(X)=\\sqrt{Var(X)} \\approx 44.46.$$\n"
   ]
  },
  {
   "cell_type": "markdown",
   "metadata": {},
   "source": [
    "**b)** Use the normal approximation to estimate the probability that demand is less than $2500$. "
   ]
  },
  {
   "cell_type": "markdown",
   "metadata": {},
   "source": [
    "Let $F(t)$ be the CDF of a normally distributed random variable with $\\mu=2770$ and $\\sigma=44.46$. The desired probability is \n",
    "\n",
    "$$F(2500) \\approx 0$$\n"
   ]
  },
  {
   "cell_type": "code",
   "execution_count": 48,
   "metadata": {},
   "outputs": [
    {
     "data": {
      "text/plain": [
       "6.282032541388662e-10"
      ]
     },
     "execution_count": 48,
     "metadata": {},
     "output_type": "execute_result"
    }
   ],
   "source": [
    "from scipy.stats import norm\n",
    "norm(2770,44.46).cdf(2500)"
   ]
  },
  {
   "cell_type": "markdown",
   "metadata": {},
   "source": [
    "**c)** Use the normal approximation to estimate the probability that the demand is more than $2800$. "
   ]
  },
  {
   "cell_type": "markdown",
   "metadata": {},
   "source": [
    "Let $F(t)$ be as above, the desired probability is \n",
    "\n",
    "$$1-F(2800) \\approx 25\\%.$$\n"
   ]
  },
  {
   "cell_type": "code",
   "execution_count": 49,
   "metadata": {},
   "outputs": [
    {
     "data": {
      "text/plain": [
       "0.2499129110656595"
      ]
     },
     "execution_count": 49,
     "metadata": {},
     "output_type": "execute_result"
    }
   ],
   "source": [
    "1-norm(2770,44.46).cdf(2800)"
   ]
  }
 ],
 "metadata": {
  "kernelspec": {
   "display_name": "Python 3",
   "language": "python",
   "name": "python3"
  },
  "language_info": {
   "codemirror_mode": {
    "name": "ipython",
    "version": 3
   },
   "file_extension": ".py",
   "mimetype": "text/x-python",
   "name": "python",
   "nbconvert_exporter": "python",
   "pygments_lexer": "ipython3",
   "version": "3.7.2"
  }
 },
 "nbformat": 4,
 "nbformat_minor": 2
}
