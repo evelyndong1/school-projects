{
 "cells": [
  {
   "cell_type": "markdown",
   "metadata": {},
   "source": [
    "# Session 8: Problem Solving with Probability\n",
    "\n",
    "### Four steps of math problem solving:\n",
    "**1. Describe** what is desired and what is given in succinct and precise language.\n",
    "\n",
    "**2. Identify** all relevant concepts and formula that you know about. (This is a brainstorming exercise so you should try to draw as many connections as you can.)\n",
    "\n",
    "**3. Plan** a pathway from what is given to what is desired. (You can either start backward from what is desired or go forward from what is given.)\n",
    "\n",
    "**4. Execute** the plan above to solve the problem and compute the final answer.\n",
    "\n",
    "## Q1 (Weather Prediction)\n",
    "In Oblako County, any day can be either sunny or cloudy. If a day is sunny, the following day will be sunny with probability $0.6$. If a day is cloudy, the following day will be cloudy with probability $0.7$. Suppose it is cloudy on Monday, what is the probability that it will be sunny on Wednesday?"
   ]
  },
  {
   "cell_type": "markdown",
   "metadata": {},
   "source": [
    "## Q2 (Television Marketing)\n",
    "An athletic footwear company is attempting to estimate the sales that will result from a television advertisement campaign of its new athletic shoe. The contribution to earnings from each pair of shoes sold is $40$ dollars. For simplicity, assume that the exact \\# of viewers are as given below. Suppose that the probability that a television viewer will watch the advertisement (as opposed to turn his/her attention elsewhere) is $0.40$, independent of the others. Furthermore, suppose that $1\\%$ of viewers who watch the advertisement on a local television channel will buy a pair of shoes, independent of the others. The advertisement will take one minute of airtime, and the company can buy advertising time in one of the slots as shown below. \n",
    "\n",
    "| Time Slot | Cost of Advertisement (per minute) | # of Viewers |\n",
    "|--|--|--|\n",
    "|Morning| 120,000 | 1,000,000 |\n",
    "|Afternoon| 200,000 | 1,300,000  |\n",
    "|Prime Time| 400,000 | 3,200,000 |\n",
    "|Late Evening|  150,000 | 800,000 |\n",
    "\n",
    "**(a)** Which time slot would maximize the company's expected profit? (Profit is total earnings from advertisement minus cost of advertisement.) "
   ]
  },
  {
   "cell_type": "markdown",
   "metadata": {},
   "source": [
    "**(b)** For the best slot, what is the estimated expected value and standard deviation in profit?"
   ]
  },
  {
   "cell_type": "markdown",
   "metadata": {},
   "source": [
    "## Q3 (Pricing with Market Segmentation)\n",
    "Blaise owns a store selling a certain product. His market research team categorizes potential customers into two segments, A and B. They estimate that on average, 30% of customers are of segment A, and 70% customers are of segment B. (However, the actual proportion of your customers each day who are of segment A may vary from day to day, as there are random fluctuations.) They further estimate that the maximum willingness to pay of a segment A customer is normally distriuted with mean 150 and standard deviation 30, while the maximum willingness to pay of a segment B customer is normally distributed with mean 120 and standard deviation 40. Suppose Blaise prices his product at 160 dollars and that he has more than enough inventory. \n",
    "\n",
    "**(a)** Calculate the probability that a customer from each of the two segment purchases the product."
   ]
  },
  {
   "cell_type": "markdown",
   "metadata": {},
   "source": [
    "**(b)** Calculate the probability that a randomly chosen customer who purchases the product is from segment A."
   ]
  },
  {
   "cell_type": "markdown",
   "metadata": {},
   "source": [
    "**(c)** The market research team estimates that each segment A customer who purchase the product would later return it with $20\\%$ probability, and each segment B customer would return it with $1\\%$ probability, independent of the others. Calculate the probability that out of $1000$ customers who purchased the product, at least 100 would later return it."
   ]
  },
  {
   "cell_type": "markdown",
   "metadata": {},
   "source": [
    "**(d)** Suppose that there is 100,000 customers in total. Moreover, a returned product yields zero revenue. What is the expected value and standard deviation of revenue from each segment, after accounting for returns?"
   ]
  }
 ],
 "metadata": {
  "kernelspec": {
   "display_name": "Python 3",
   "language": "python",
   "name": "python3"
  },
  "language_info": {
   "codemirror_mode": {
    "name": "ipython",
    "version": 3
   },
   "file_extension": ".py",
   "mimetype": "text/x-python",
   "name": "python",
   "nbconvert_exporter": "python",
   "pygments_lexer": "ipython3",
   "version": "3.7.2"
  }
 },
 "nbformat": 4,
 "nbformat_minor": 2
}
