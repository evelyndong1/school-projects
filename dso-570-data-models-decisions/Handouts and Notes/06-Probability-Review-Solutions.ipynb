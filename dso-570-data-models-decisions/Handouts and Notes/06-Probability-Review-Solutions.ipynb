{
 "cells": [
  {
   "cell_type": "markdown",
   "metadata": {},
   "source": [
    "# Session 6: Probability Review I Solutions\n",
    "\n",
    "**Q1:** We toss a coin three times. Each time a coin is tossed, the outcome is H (heads) with probability 1/2 and T (tails) with probability 1/2. The tosses are independent of one another.\n",
    "\n",
    "**a)** What is the probability of the outcome \"HHT\"?\n",
    "\n",
    "**b)** What is the probability of the event \"The first two tosses resulted in heads\"?\n",
    "\n",
    "**c)** What is the probability of the event \"There were two heads in a row among the three tosses\"?\n",
    "\n",
    "**d)** What is the probability of the event \"The first and the third toss have equal outcome\"?\n",
    "\n",
    "**e)** What is the expected number of total heads?\n",
    "\n",
    "**f)** What is the expected number of total occurrences of \"HH\"?"
   ]
  },
  {
   "cell_type": "markdown",
   "metadata": {},
   "source": [
    "**Answer:** \n",
    "The key is to recognize that the following 8 outcomes are equally likely: HHH, HHT, HTH, HTT, THH, THT, TTH, and TTT.\n",
    "\n",
    "**a)** $P(HHT) = 1/8$.\n",
    "\n",
    "**b)** $P(HHH) + P(HHT) = 2/8$.\n",
    "\n",
    "**c)** $P(HHH) + P(HHT) + P(THH) = 3/8$.\n",
    "\n",
    "**d)** $P(HHH)+P(HTH)+P(THT)+P(TTT) = 4/8 = 1/2$.\n",
    "\n",
    "Another way to see is that since the third toss is independent of the first, for any realization of the first toss, the chance that the third toss obtains the same outcome must be 1/2.\n",
    "\n",
    "**e)** Let $X_1$ be 1 if the first toss is heads and 0 otherwise. Note that $E[X_1]=1\\cdot P(\\text{first toss heads})=1/2$. Similarly define $X_2$ and $X_3$. Let $X$ be the number of total heads.\n",
    "\n",
    "$$E[X] = E[X_1+X_2+X_3]=E[X_1]+E[X_2]+E[X_3] = 3/2.$$\n",
    "\n",
    "**f)** Let $X$ be the number of total occurrences of \"HH.\" \n",
    "\n",
    "$$X = \\begin{cases} 2 & \\text{if HHH,} \\\\\n",
    "1 & \\text{if HHT or THH,} \\\\\n",
    "0 & \\text{otherwise.}\n",
    "\\end{cases}$$\n",
    "\n",
    "Thus $E[X] = 2(1/8)+1(1/4) = 1/2$. "
   ]
  },
  {
   "cell_type": "markdown",
   "metadata": {},
   "source": [
    "**Q2:** Suppose that there are 80 students in a class, with demographic information given below.\n",
    "\n",
    "| # | Work experience | No work experience |\n",
    "|--|--|--|\n",
    "|Domestic | 10 | 20 |\n",
    "|International | 10 | 40 | \n",
    "\n",
    "Denote the events:\n",
    "\n",
    "- $W$: a student has work experience. ($W'$ denotes no work experience.)\n",
    "- $D$: a student is domestic. ($D'$ denotes international.)\n",
    "\n",
    "\n",
    "**a)** What is the probability $P(W)$ that a randomly chosen student has work experience?\n",
    "\n",
    "**b)** What is the probability $P(W|D)$ that a randomly chosen domestic student has work experience?\n",
    "\n",
    "**c)** Interpret and compute the following probabilities: $P(D)$, $P(W')$, $P(D')$.\n",
    "\n",
    "**d)** Interpret and compute the following probabilities: $P(W|D')$, $P(W'|D)$, $P(W'|D')$. \n",
    "\n",
    "**e)** Interpret and compute the following probabilities: $P(D|W)$, $P(D'|W)$, $P(D|W')$, $P(D'|W')$."
   ]
  },
  {
   "cell_type": "markdown",
   "metadata": {},
   "source": [
    "**Answer:**\n",
    "\n",
    "**a)** $P(W)=\\frac{20}{80}=\\frac{1}{4}$.\n",
    "\n",
    "**b)** $P(W|D) = \\frac{10}{10+20} = \\frac{1}{3}$.\n",
    "\n",
    "**c)** $P(D)$ is the probability that a randomly chosen student is domestic. $P(D) = \\frac{30}{80}=\\frac{3}{8}$.\n",
    "\n",
    "$P(W')$ is the probability that a randomly chosen student does not have work experience. $P(W') = \\frac{60}{80} = \\frac{3}{4}$.\n",
    "\n",
    "$P(D')$ is the probability that a randomly chosen student is international. $P(D') = 1-P(D)=\\frac{5}{8}$.\n",
    "\n",
    "**d)** $P(W|D')$ is the probability that a randomly chosen international student has work experience. $P(W|D')=\\frac{10}{10+40}=\\frac{1}{5}$. \n",
    "\n",
    "$P(W'|D)$ is the probability that a randomly chosen domestic student does not have work experience. $P(W'|D) = 1-P(W|D) = \\frac{2}{3}$.\n",
    "\n",
    "$P(W'|D')$ is the probability that a randomly chosen international student does not have work experience. $P(W'|D')=1-P(W|D')=\\frac{4}{5}$. \n",
    "\n",
    "**e)** $P(D|W)$ is the probability that a randomly chosen student with work experience is domestic. $P(D|W)=\\frac{1}{2}$. $P(D'|W)=1-P(D|W)=\\frac{1}{2}$ is the reverse (a randomly chosen student with work experience is international).\n",
    "\n",
    "$P(D|W')$ is the probability that a randomly chosen student with no work experience is domestic. $P(D|W')=\\frac{1}{3}$. $P(D'|W')$ is the probability that this student is international, $P(D'|W')=\\frac{2}{3}$.\n",
    "\n"
   ]
  },
  {
   "cell_type": "markdown",
   "metadata": {},
   "source": [
    "**Q3:** Suppose that the baseline probability of a certain cancer in the population is 0.1\\%. There is a test for this cancer, which yields a positive result with 99\\% probability if you have the cancer. However, the test would yield a (erroneous) positive result with 1\\% probability even if you do not have the cancer. Suppose you test positive on the test, what is the chance that you have cancer?"
   ]
  },
  {
   "cell_type": "markdown",
   "metadata": {},
   "source": [
    "**Answer:**\n",
    "Denote the event that you have cancer by $C$, and the opposite event by $C'$. Denote the event that you test positive for the test be $T$, and that you test negative be $T'$. We have\n",
    "\n",
    "$$P(C)=0.001$$\n",
    "$$P(T|C)=0.99$$\n",
    "$$P(T|C') = 0.01$$\n",
    "\n",
    "We have thus \n",
    "$$P(C \\text{ and } T)=P(C)P(T|C)=(0.001)(0.99)$$\n",
    "$$P(C' \\text{ and } T)=P(C')P(T|C')=(1-P(C))P(T|C')= (0.999)(0.01)$$\n",
    "\n",
    "Thus, \n",
    "$$P(C|T) = \\frac{P(C \\text{ and } T)}{P(T)} = \\frac{P(C \\text{ and } T)}{P(C \\text{ and } T)+P(C' \\text{ and } T)}=\\frac{(0.001)(0.99)}{(0.001)(0.99)+(0.999)(0.01)}=9.02\\%.$$\n",
    "\n",
    "The above calculations can also be understood through the following table\n",
    "\n",
    "| Joint Probability | Cancer | No Cancer | \n",
    "|--|--|--|\n",
    "| Test Positive | (0.001)(0.99) | (0.999)(0.01) |  \n",
    "| Test Negative | (0.001)(0.01) | (0.999)(0.99) |\n",
    "\n"
   ]
  },
  {
   "cell_type": "markdown",
   "metadata": {},
   "source": [
    "**Q4:** An entrepreneur would like to decide whether to conduct a market survey. Without performing the survey, she estimates that there is a 40\\% chance that the market is strong and a 60\\% chance that the market is weak. If the market is strong, then her product would earn a profit of 18 million dollars. But if the market is weak, she would not earn a profit but will incur a loss of 8 million dollars. \n",
    "\n",
    "Past results indicate that if the market is weak, then there is a 90\\% chance that the survey would yield a negative result (meaning that with 10\\% chance, the survey result would be misleading). If the market is strong, there is a 80\\% chance that the survey would yield a positive result (meaning that with 20\\% chance, the survey would be wrong). \n",
    "\n",
    "**a)** Without completing the survey, what's her expected profit with the product?\n",
    "\n",
    "**b)** Suppose the survey result is positive, what's her expected profit?\n",
    "\n",
    "**c)** Suppose the survey result is negative, what's her expected profit for going ahead with the product? What should she do in this case?\n",
    "\n",
    "**d)** How much should she be willing to pay for the market survey?"
   ]
  },
  {
   "cell_type": "markdown",
   "metadata": {},
   "source": [
    "**Answer:** \n",
    "\n",
    "**a)** Her expected earnings (without the survey) is \n",
    "$$(0.7)(18)+(0.3)(-8) = 2.4$$\n",
    "million dollars.\n",
    "\n",
    "**b)** We first compute the probability that the market is strong conditional on a positive survey result. This can be done by filling in the following joint probability table.\n",
    "\n",
    "|Joint probability | Strong Market | Weak Market | Total |\n",
    "|-- | -- | -- | -- |\n",
    "| Positive Test | (0.8)(0.4)=0.32 | (0.1)(0.6)=0.06 | 0.38 |\n",
    "| Negative Test | (0.2)(0.4)=0.08 | (0.9)(0.6)=0.54 | 0.62 |\n",
    "| Total | 0.4 | 0.6 | 1 |\n",
    "\n",
    "Thus, conditional on a positive test result, the market is strong with probability $\\frac{0.32}{0.32+0.06}=\\frac{16}{19}=84.2\\%$. Her expected earnings conditional on a positive test is then\n",
    "\n",
    "$$(\\frac{16}{19})(18)+(\\frac{3}{19})(-8) \\approx 13.89$$\n",
    "million dollars.\n",
    "\n",
    "**c)** From the above table, we get that conditional on a negative result, the market is strong with probability $\\frac{0.08}{0.62}=\\frac{4}{31}=12.9\\%$. Her earnings with the product is then\n",
    "\n",
    "$$(\\frac{4}{31})(18)+(\\frac{27}{31})(-8) \\approx -4.65$$\n",
    "million dollars. In this case she should not launch the product. \n",
    "\n",
    "**d)** The probability that the test is positive is $0.38$. Her earnings using the test is approximately\n",
    "\n",
    "$$(0.38)(13.89)+(0.62)(0) = 5.28$$ \n",
    "\n",
    "millon dollars. Note that the second term is zero because she should not launch the product when the test is negative.\n",
    "\n",
    "Hence, if she only cares about her expected earnings, she should be willing to pay up to $5.28-2.4=2.88$ million dollars for the test."
   ]
  },
  {
   "cell_type": "markdown",
   "metadata": {},
   "source": [
    "**(Bonus 1)** A lady has exactly two children, at least one of whom is a boy. What's the chance she has two boys? (Assume that boys and girls are equally likely and the gender of each child is independent of the other.)"
   ]
  },
  {
   "cell_type": "markdown",
   "metadata": {},
   "source": [
    "**Answer:** Without knowing any information, there are four possible outcomes, each with equal probability: BB, BG, GB, GG.\n",
    "\n",
    "However, when we know that at least one of whom is a boy, we elimiate the last option, so the following three options have equal probability: BB, BG, GB. (Note that conditioning on information is essentially filtering for those options, while maintaining the relative probability of each combination.)\n",
    "\n",
    "The probability that she has two boys is thus $1/3$. "
   ]
  },
  {
   "cell_type": "markdown",
   "metadata": {},
   "source": [
    "**(Bonus 2)** On a game show, there are three identical looking doors, one of which leads to a prize, and the other two lead to nothing. Every time this show is played, the host would ask you, the participant, to choose a door. After you have indicated your choice, the host would always open one of the three doors you have not chosen and show that it leads to nothing. After seeing this new information, you have the opportunity to change your choice to the other unopened door. Should you change or not?"
   ]
  },
  {
   "cell_type": "markdown",
   "metadata": {},
   "source": [
    "**Answer:** You should always switch. This is because the chance that your first door leads to a prize is 1/3. However, since the host has already revealed which of the other doors would lead to a prize (if your first door was wrong), then switching would result in the correct door with probability 2/3.\n",
    "\n",
    "The above answer can also be derived by analyzing each case. Without loss of generality, say that the door you chose first is labeled door 1. There are three equally likely possibilities at the beginning: PNN, NPN, NNP. (P denotes a prize and N denotes nothing.)\n",
    "\n",
    "In the case PNN, the host may open either door 2 or 3, and you lose by switching. \n",
    "\n",
    "In the case NPN, the host would open door 3, and you win by switching. \n",
    "\n",
    "Similarly, in the case NNP, the host would open door 2, and you win by switching.\n",
    "\n",
    "Hence, the overall chance of winning by switching is $P(NPN)+P(NNP)=2/3$."
   ]
  }
 ],
 "metadata": {
  "kernelspec": {
   "display_name": "Python 3",
   "language": "python",
   "name": "python3"
  },
  "language_info": {
   "codemirror_mode": {
    "name": "ipython",
    "version": 3
   },
   "file_extension": ".py",
   "mimetype": "text/x-python",
   "name": "python",
   "nbconvert_exporter": "python",
   "pygments_lexer": "ipython3",
   "version": "3.7.2"
  }
 },
 "nbformat": 4,
 "nbformat_minor": 2
}
