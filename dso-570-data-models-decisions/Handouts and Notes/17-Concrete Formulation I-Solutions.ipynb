{
 "cells": [
  {
   "cell_type": "markdown",
   "metadata": {},
   "source": [
    "# Session 17: Concrete Formulation I (with Solutions)"
   ]
  },
  {
   "cell_type": "markdown",
   "metadata": {},
   "source": [
    "## Steps for solving a practical optimization problem\n",
    "\n",
    "**1. English description** (for conceptual understanding).\n",
    "\n",
    "**2. Concrete formulation** (using concrete numbers in a toy example).\n",
    "\n",
    "**3. Abstract formulation** (using data variables and summation notation).\n",
    "\n",
    "**4. Reusable software** (that works with any input file of a certain format). "
   ]
  },
  {
   "cell_type": "markdown",
   "metadata": {},
   "source": [
    "## Q1. Supply Chain Planning\n",
    "\n",
    "The following table provides the shipping cost for a certain item, from 3 of Amazon’s fulfillment centers (FC) to 4 regions (A, B, C and D). \n",
    "\n",
    "| Region \\ FC  | 1 | 2 | 3 |\n",
    "|--|--|--|--|\n",
    "| A. Kings County, NY | 20 | 8 | 25 | \n",
    "| B. Los Angeles County, CA | 18 | 23 | 8 | \n",
    "| C. King County, WA | 21 | 24 | 8 | \n",
    "| D. Harris County, TX | 8 | 8 | 19 |\n",
    "\n",
    "The following table summarizes the weekly demand for the item from each region.\n",
    "\n",
    " | Region A | Region B | Region C | Region D|\n",
    "|--|--|--|--|\n",
    "|30 | 50 | 10 | 20 |\n",
    "\n",
    "Suppose that each FC is able to ship up to 40 units to any region each week. Formulate a linear program to determine the minimum transportation cost needed to satisfy all demand while respecting FC capacities, as well as the optimal shipment plan. Moreover, interpret the meaning of the shadow price of each constraint and predict its sign (positive or negative).\n",
    "\n",
    "### Step 1. Identify the decision, objective, and constraints in English\n",
    "\n",
    "**Decision:** How many units to transport from each FC to each region.\n",
    "\n",
    "**Objective:** Minimize transportation cost.\n",
    "\n",
    "**Constraints:**\n",
    "\n",
    "- Not transporting more out of a FC than its capacity.\n",
    "- Transporting enough to each region to meet its demand. \n",
    "\n",
    "### Step 2. Formulate the optimization as linear expressions of decision variables\n",
    "\n",
    "**Decision variables:** Let $x_{ij}$ denote the amount to transport from FC $i$ to region $j$. (Continuous)\n",
    "\n",
    "\n",
    "**Objective and Constraints:** \n",
    "\n",
    "$$\n",
    "\\begin{aligned}\n",
    "\\text{Minimize: } && 20x_{1A}+18x_{1B}+21x_{1C}+8x_{1D} +\\\\ && 8x_{2A}+23x_{2B}+24x_{2C}+8x_{2D}+\\\\\n",
    "&& 25x_{3A}+8x_{3B}+8x_{3C}+19x_{3D} \\\\\n",
    "\\text{Subject to:}\\\\\n",
    "\\text{(Capacity 1)} && x_{1A}+x_{1B}+x_{1C}+x_{1D} & \\le 40 \\\\\n",
    "\\text{(Capacity 2)} && x_{2A}+x_{2B}+x_{2C}+x_{2D} & \\le 40 \\\\\n",
    "\\text{(Capacity 3)} && x_{3A}+x_{3B}+x_{3C}+x_{3D} & \\le 40 \\\\\n",
    "\\text{(Demand A)} && x_{1A}+x_{2A}+x_{3A} & \\ge 30 \\\\\n",
    "\\text{(Demand B)} && x_{1B}+x_{2B}+x_{3B} & \\ge 50 \\\\\n",
    "\\text{(Demand C)} && x_{1C}+x_{2C}+x_{3C} & \\ge 10 \\\\\n",
    "\\text{(Demand D)} && x_{1D}+x_{2D}+x_{3D} & \\ge 20 \\\\\n",
    "\\text{(Non-negativity}) && x_{ij} & \\ge 0 \\quad \\text{for all $i$ and $j$.}\n",
    "\\end{aligned}$$\n",
    "\n",
    "### Interpretation of Shadow Prices\n",
    "\n",
    "The shadow price of each capacity constraint is how would the optimal objective value change if the capacity of each fulfillment center is increased by 1. We would expect possible additional cost savings from increasing capacity, so the shadow price should be negative (or zero).\n",
    "\n",
    "The shadow price of each demand constraint is how would the optimal cost change if each region increases their requirement by 1 unit. This would impose additional stress on the supply chain and we would expect the total transportation cost to increase as a result. Hence, the shadow price should be positive.\n"
   ]
  },
  {
   "cell_type": "markdown",
   "metadata": {},
   "source": [
    "## Q2. Gurobi Practice\n",
    "\n",
    "Solve Q1 using Gurobi and find the shadow prices of and valid ranges of all the capacity constraints. For your reference, here is the sample code from session 13. The code solves the LP\n",
    "\n",
    "$$\\begin{aligned} & \\text{Maximize:} & 100X+300Y \\\\\n",
    "& \\text{subject to:} \\\\\n",
    "& \\text{(Alice)} & X+2Y & \\le 6 \\\\\n",
    "& \\text{(Bob)} & 3Y & \\le 6 \\\\\n",
    "& \\text{(Non-negativity)} & X, Y & \\ge 0\n",
    "\\end{aligned}$$"
   ]
  },
  {
   "cell_type": "code",
   "execution_count": 4,
   "metadata": {},
   "outputs": [
    {
     "name": "stdout",
     "output_type": "stream",
     "text": [
      "Optimal objective:  800.0\n",
      "Optimal plan: X=2.0 Y=2.0\n",
      "Shadow price of Alice constraint: 100.0\n",
      "(Valid range for RHS of Alice constraint: 4.0 and inf)\n"
     ]
    }
   ],
   "source": [
    "from gurobipy import Model, GRB\n",
    "mod=Model()                   \n",
    "X=mod.addVar(lb=0)            # lb: lower bound of decision variable\n",
    "Y=mod.addVar(lb=0)\n",
    "mod.setObjective(100*X+300*Y,sense=GRB.MAXIMIZE)\n",
    "alice=mod.addConstr(X+2*Y<=6)   # constraint object is named only to find shadow prices later\n",
    "mod.addConstr(3*Y<=6)\n",
    "mod.setParam('OutputFlag',False) # Hides diagnostic ouputs during optimization (not necessary)\n",
    "mod.optimize()\n",
    "print('Optimal objective: ',mod.objVal)\n",
    "print(f'Optimal plan: X={X.x} Y={Y.x}')  # Always .x to find the optimal value of a decision variable\n",
    "print(f'Shadow price of Alice constraint: {alice.pi}')\n",
    "print(f'(Valid range for RHS of Alice constraint: {alice.sarhslow} and {alice.sarhsup})')"
   ]
  },
  {
   "cell_type": "code",
   "execution_count": 2,
   "metadata": {},
   "outputs": [
    {
     "name": "stdout",
     "output_type": "stream",
     "text": [
      "Minimum transportation cost: 1080.0\n",
      "Optimal shipment plan:\n",
      "\tx1A=0.0 x1B=20.0 x1C=0.0 x1D=20.0\n",
      "\tx2A=30.0 x2B=0.0 x2C=0.0 x2D=0.0\n",
      "\tx3A=0.0 x3B=30.0 x3C=10.0 x3D=0.0\n",
      "Capacity 1 constraint\n",
      "\tShadow Price=0.0  Valid when RHS is in [40.0,inf]\n",
      "Capacity 2 constraint\n",
      "\tShadow Price=0.0  Valid when RHS is in [30.0,inf]\n",
      "Capacity 3 constraint\n",
      "\tShadow Price=-10.0  Valid when RHS is in [40.0,60.0]\n"
     ]
    }
   ],
   "source": [
    "from gurobipy import Model, GRB\n",
    "mod=Model()\n",
    "x1A=mod.addVar(lb=0)\n",
    "x1B=mod.addVar(lb=0)\n",
    "x1C=mod.addVar(lb=0)\n",
    "x1D=mod.addVar(lb=0)\n",
    "x2A=mod.addVar(lb=0)\n",
    "x2B=mod.addVar(lb=0)\n",
    "x2C=mod.addVar(lb=0)\n",
    "x2D=mod.addVar(lb=0)\n",
    "x3A=mod.addVar(lb=0)\n",
    "x3B=mod.addVar(lb=0)\n",
    "x3C=mod.addVar(lb=0)\n",
    "x3D=mod.addVar(lb=0)\n",
    "mod.setObjective(20*x1A+18*x1B+21*x1C+8*x1D+8*x2A+23*x2B+24*x2C+8*x2D+25*x3A+8*x3B+8*x3C+19*x3D)\n",
    "cap1=mod.addConstr(x1A+x1B+x1C+x1D<=40)\n",
    "cap2=mod.addConstr(x2A+x2B+x2C+x2D<=40)\n",
    "cap3=mod.addConstr(x3A+x3B+x3C+x3D<=40)\n",
    "mod.addConstr(x1A+x2A+x3A>=30)\n",
    "mod.addConstr(x1B+x2B+x3B>=50)\n",
    "mod.addConstr(x1C+x2C+x3C>=10)\n",
    "mod.addConstr(x1D+x2D+x3D>=20)\n",
    "mod.setParam('OutputFlag',False)\n",
    "mod.optimize()\n",
    "print('Minimum transportation cost:',mod.objval)\n",
    "print('Optimal shipment plan:')\n",
    "print(f'\\tx1A={x1A.x} x1B={x1B.x} x1C={x1C.x} x1D={x1D.x}')\n",
    "print(f'\\tx2A={x2A.x} x2B={x2B.x} x2C={x2C.x} x2D={x2D.x}')\n",
    "print(f'\\tx3A={x3A.x} x3B={x3B.x} x3C={x3C.x} x3D={x3D.x}')\n",
    "print('Capacity 1 constraint')\n",
    "print(f'\\tShadow Price={cap1.pi}  Valid when RHS is in [{cap1.sarhslow},{cap1.sarhsup}]')\n",
    "print('Capacity 2 constraint')\n",
    "print(f'\\tShadow Price={cap2.pi}  Valid when RHS is in [{cap2.sarhslow},{cap2.sarhsup}]')\n",
    "print('Capacity 3 constraint')\n",
    "print(f'\\tShadow Price={cap3.pi}  Valid when RHS is in [{cap3.sarhslow},{cap3.sarhsup}]')"
   ]
  },
  {
   "cell_type": "markdown",
   "metadata": {},
   "source": [
    "## (Optional) Q3. Optimal Assignment\n",
    "\n",
    "There are four consultants, Alice, Bob, Charles, and Daphne, who must be assigned to one of two projects. Each consultant can only be assigned to one project, and each project requires two consultants. As a manager, you evaluated the relative fitness of the four consultants for each project on a scale of 1 to 5, with 5 being the best fit and 1 being the worst.\n",
    "\n",
    "| ` `| Project 1 | Project 2 |\n",
    "|--|--|--|\n",
    "|Alice | 5 | 2 |\n",
    "|Bob | 3 | 2 |\n",
    "|Charles | 4 | 5 |\n",
    "|Daphne | 3 | 1 |\n",
    " \n",
    "Furthermore, Alice, Bob and Daphne are senior consultants and each project requires at least one senior on the team. \n",
    "\n",
    "**a)** Formulate an optimization problem to maximize the total fitness of the consultants to their assigned project, subject to all the business constraints.\n",
    "\n",
    "**b)** Numerically solve the optimization using Gurobi. (Only difference with binary or integer variables in Gurobi is that you need to do `mod.addVar(vtype=GRB.BINARY)` `mod.addVar(vtype=GRB.INTEGER)` or `mod.addVar(lb=0,vtype=GRB.INTEGER)`)"
   ]
  },
  {
   "cell_type": "markdown",
   "metadata": {},
   "source": [
    "### Step 1. Identify the decision, objective, and constraints in English\n",
    "\n",
    "**Decision:** Which project to assign to each consultant.\n",
    "\n",
    "**Objective:** Maximize total fitness.\n",
    "\n",
    "**Constraints:**\n",
    "\n",
    "- Each consultant can be assigned to at most one project.\n",
    "- Each project requires at least two consultants assigned.\n",
    "- Each project requires at least one senior consultant assigned.\n",
    "\n",
    "### Step 2. Formulate the optimization as linear expressions of decision variables\n",
    "\n",
    "**Decision variables:** Let $x_{ij}$ denote whether to assign consultant $i$ to project $j$. (Binary)\n",
    "\n",
    "**Objective and Constraints:** \n",
    "$$\n",
    "\\begin{aligned}\n",
    "\\text{Maximize: } && 5x_{A1}+2x_{A2}+3x_{B1}+2x_{B2} +\\\\ \n",
    "&& 4x_{C1}+5x_{C2}+3x_{D1}+x_{D2} \\\\\n",
    "\\text{Subject to:}\\\\\n",
    "\\text{(Alice)} && x_{A1}+x_{A2} & \\le 1 \\\\\n",
    "\\text{(Bob)} && x_{B1}+x_{B2} & \\le 1 \\\\\n",
    "\\text{(Charles)} && x_{C1}+x_{C2} & \\le 1 \\\\\n",
    "\\text{(Daphne)} && x_{D1}+x_{D2} & \\le 1 \\\\\n",
    "\\text{(Project 1 Total)} && x_{A1}+x_{B1}+x_{C1}+x_{D1} & \\ge 2 \\\\\n",
    "\\text{(Project 2 Total)} && x_{A2}+x_{B2}+x_{C2}+x_{D2} & \\ge 2 \\\\\n",
    "\\text{(Project 1 Senior)} && x_{A1}+x_{B1}+x_{D1} & \\ge 1 \\\\\n",
    "\\text{(Project 2 Senior)} && x_{A2}+x_{B2}+x_{D2} & \\ge 1 \\\\\n",
    "\\end{aligned}$$"
   ]
  },
  {
   "cell_type": "code",
   "execution_count": 3,
   "metadata": {},
   "outputs": [
    {
     "name": "stdout",
     "output_type": "stream",
     "text": [
      "Maximum total fitness: 15.0\n",
      "Optimal Assignment:\n",
      "\tAlice assigned to Project 1.\n",
      "\tBob assigned to Project 2.\n",
      "\tCharles assigned to Project 2.\n",
      "\tDaphne assigned to Project 1.\n"
     ]
    }
   ],
   "source": [
    "# Numerical solution\n",
    "from gurobipy import Model, GRB\n",
    "mod=Model()\n",
    "A1=mod.addVar(vtype=GRB.BINARY)\n",
    "A2=mod.addVar(vtype=GRB.BINARY)\n",
    "B1=mod.addVar(vtype=GRB.BINARY)\n",
    "B2=mod.addVar(vtype=GRB.BINARY)\n",
    "C1=mod.addVar(vtype=GRB.BINARY)\n",
    "C2=mod.addVar(vtype=GRB.BINARY)\n",
    "D1=mod.addVar(vtype=GRB.BINARY)\n",
    "D2=mod.addVar(vtype=GRB.BINARY)\n",
    "mod.setObjective(5*A1+2*A2+3*B1+2*B2+4*C1+5*C2+3*D1+D2, sense=GRB.MAXIMIZE)\n",
    "mod.addConstr(A1+A2<=1)\n",
    "mod.addConstr(B1+B2<=1)\n",
    "mod.addConstr(C1+C2<=1)\n",
    "mod.addConstr(D1+D2<=1)\n",
    "mod.addConstr(A1+B1+C1+D1>=2)\n",
    "mod.addConstr(A2+B2+C2+D2>=2)\n",
    "mod.addConstr(A1+B1+D1>=1)\n",
    "mod.addConstr(A2+B2+D2>=1)\n",
    "mod.setParam('OutputFlag',False)\n",
    "mod.optimize()\n",
    "print('Maximum total fitness:',mod.objval)\n",
    "print('Optimal Assignment:')\n",
    "print(f'\\tAlice assigned to Project {1 if A1.x else 2}.')\n",
    "print(f'\\tBob assigned to Project {1 if B1.x else 2}.')\n",
    "print(f'\\tCharles assigned to Project {1 if C1.x else 2}.')\n",
    "print(f'\\tDaphne assigned to Project {1 if D1.x else 2}.')"
   ]
  }
 ],
 "metadata": {
  "kernelspec": {
   "display_name": "Python 3",
   "language": "python",
   "name": "python3"
  },
  "language_info": {
   "codemirror_mode": {
    "name": "ipython",
    "version": 3
   },
   "file_extension": ".py",
   "mimetype": "text/x-python",
   "name": "python",
   "nbconvert_exporter": "python",
   "pygments_lexer": "ipython3",
   "version": "3.7.6"
  }
 },
 "nbformat": 4,
 "nbformat_minor": 2
}
