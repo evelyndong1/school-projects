{
 "cells": [
  {
   "cell_type": "markdown",
   "metadata": {},
   "source": [
    "# Pre-Requisites for DSO 570\n",
    "\n",
    "Please complete the following before the first class sessions. Otherwise, you will not be able to follow the session on your own computer.\n",
    "\n",
    "# 1. Installing Anaconda or Miniconda for Python 3\n",
    "\n",
    "Follow the instructions at https://docs.anaconda.com/anaconda/install/ to install Anaconda or Miniconda for Python 3. Miniconda is a lite version of Anaconda that uses less disk space, so I personally prefer Miniconda. However, if you have plenty of space and want to have more packages pre-installed, feel free to use Anaconda. \n",
    "\n",
    "To avoid potentially difficult IT challenges later, it is highly recommended that you use Anaconda/Miniconda for this class, instead of alternative ways of installing Python.\n",
    "\n",
    "# 2. Installing Packages\n",
    "\n",
    "A package is a set of files or resources that are packed together to provide a related set of functionalities. To install the necessary Python packages for this class, launch the **Anaconda Prompt** if you are using Windows, or open a new terminal if you are using Mac or linux, and type the following:\n",
    "\n",
    "```\n",
    "conda install numpy scipy matplotlib pandas jupyter ipython spyder seaborn xlrd xlsxwriter\n",
    "```\n",
    "\n",
    "Then type \"y\" for yes to install. (If you installed Anaconda instead of Miniconda, it is possible these packages are already installed.)\n",
    "\n",
    "If you encounter an error message, check that you typed the above exactly (or copy and paste the above command into the terminal). If you still get the error message, then copy and paste the error message into Google to find the solution. (One important skill this class encourages you to build is to be able to debug IT issues on your own, because you are bound to face similar challenges in the work place as technology often has hiccups.)\n",
    "\n",
    "# 3. Launching Jupyter Notebook\n",
    "\n",
    "To check if installation was successful, type the following command (into the Anaconda Prompt if you are using Windows, or into a terminal if you are using Mac or Linux) to launch Jupyter notebook.\n",
    "\n",
    "```\n",
    "jupyter notebook\n",
    "```\n",
    "\n",
    "This should start a web browser with a directory structure, where the base directory is the one where you typed the above command. \n",
    "\n",
    "Jupyter notebook is a web-based interface built on top of Python that makes performing analysis using Python and sharing the result easy. We will be using this tool extensively in this class, so it is a good idea to familarize yourself by following this short tutorial: https://medium.com/codingthesmartway-com-blog/getting-started-with-jupyter-notebook-for-python-4e7082bd5d46\n",
    "\n"
   ]
  }
 ],
 "metadata": {
  "kernelspec": {
   "display_name": "Python 3",
   "language": "python",
   "name": "python3"
  },
  "language_info": {
   "codemirror_mode": {
    "name": "ipython",
    "version": 3
   },
   "file_extension": ".py",
   "mimetype": "text/x-python",
   "name": "python",
   "nbconvert_exporter": "python",
   "pygments_lexer": "ipython3",
   "version": "3.7.2"
  }
 },
 "nbformat": 4,
 "nbformat_minor": 2
}
