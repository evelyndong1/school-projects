{
 "cells": [
  {
   "cell_type": "markdown",
   "metadata": {},
   "source": [
    "# Session 8: Problem Solving with Probability (with Solutions)\n",
    "\n",
    "### Four steps of math problem solving:\n",
    "**1. Describe** what is desired and what is given in succinct and precise language.\n",
    "\n",
    "**2. Identify** all relevant concepts and formula that you know about. (This is a brainstorming exercise so you should try to draw as many connections as you can.)\n",
    "\n",
    "**3. Plan** a pathway from what is given to what is desired. (You can either start backward from what is desired or go forward from what is given.)\n",
    "\n",
    "**4. Execute** the plan above to solve the problem and compute the final answer.\n",
    "\n",
    "## Q1 (Weather Prediction)\n",
    "In Oblako County, any day can be either sunny or cloudy. If a day is sunny, the following day will be sunny with probability $0.6$. If a day is cloudy, the following day will be cloudy with probability $0.7$. Suppose it is cloudy on Monday, what is the probability that it will be sunny on Wednesday?"
   ]
  },
  {
   "cell_type": "markdown",
   "metadata": {},
   "source": [
    "**Describe what is desired and what is given:**\n",
    "\n",
    "Desired: Probability of sunny on wednesday\n",
    "\n",
    "Given: Cloudy on Monday, conditional probability of tomorrow's weather given today's weather.\n",
    "\n",
    "**Identify all relevant concepts and formula:**\n",
    "\n",
    "Conditional probability. \n",
    "\n",
    "$P(A|B)=P(A\\text{ and }B)/P(B)$\n",
    "\n",
    "If $A$ and $B$ are mutually exclusive, $P(A\\text{ or }B)=P(A)+P(B)$.\n",
    "\n",
    "**Plan a pathway to solving the problem:** Use the given conditional probabilities to compute probability that Tuesday's weather is sunny. Then do the same thing to compute probability that Wednesday's weather is sunny. The key is \n",
    "\n",
    "$$P(\\text{Wed. Sunny}) = P(\\text{Wed. Sunny and Tue. Sunny})+P(\\text{Wed. Sunny and Tue. Cloudy}),$$\n",
    "\n",
    "and\n",
    "\n",
    "$$P(\\text{Wed. Sunny and Tue. Sunny}) = 0.6P(\\text{Tue. Sunny}),$$\n",
    "$$P(\\text{Wed. Sunny and Tue. Cloudy}) = (1-0.7)P(\\text{Tue. Cloudy}),$$\n",
    "\n",
    "**Execute the plan to solve the problem:**\n",
    "\n",
    "Let $T_{sunny},T_{cloudy}$ be the event that Tuesday is sunny and cloudy respectively. Similarly define $W_{sunny}$ for Wednesday. We have\n",
    "\n",
    "$$P(T_{sunny}) = 1-0.7=0.3,$$\n",
    "$$P(T_{cloudy}) = 0.7,$$\n",
    "$$P(T_{sunny}\\text{ and }W_{sunny}) = P(W_{sunny}|T_{sunny})P(T_{sunny})=(0.6)(0.3)=0.18,$$\n",
    "$$P(T_{cloudy}\\text{ and }W_{sunny}) = P(W_{sunny}|T_{cloudy})P(T_{cloudy})=(0.3)(0.7)=0.21,$$\n",
    "$$P(W_{sunny}) = 0.18+0.21= 0.39.$$"
   ]
  },
  {
   "cell_type": "markdown",
   "metadata": {},
   "source": [
    "## Q2 (Television Marketing)\n",
    "An athletic footwear company is attempting to estimate the sales that will result from a television advertisement campaign of its new athletic shoe. The contribution to earnings from each pair of shoes sold is $40$ dollars. For simplicity, assume that the exact \\# of viewers are as given below. Suppose that the probability that a television viewer will watch the advertisement (as opposed to turn his/her attention elsewhere) is $0.40$, independent of the others. Furthermore, suppose that $1\\%$ of viewers who watch the advertisement on a local television channel will buy a pair of shoes, independent of the others. The advertisement will take one minute of airtime, and the company can buy advertising time in one of the slots as shown below. \n",
    "\n",
    "| Time Slot | Cost of Advertisement (per minute) | # of Viewers |\n",
    "|--|--|--|\n",
    "|Morning| 120,000 | 1,000,000 |\n",
    "|Afternoon| 200,000 | 1,300,000  |\n",
    "|Prime Time| 400,000 | 3,200,000 |\n",
    "|Late Evening|  150,000 | 800,000 |\n",
    "\n",
    "**(a)** Which time slot would maximize the company's expected profit? (Profit is total earnings from advertisement minus cost of advertisement.) "
   ]
  },
  {
   "cell_type": "markdown",
   "metadata": {},
   "source": [
    "**Describe:** \n",
    "\n",
    "Desired: the slot that maximizes expected profit.\n",
    "\n",
    "Given: the cost of each slot, the # of viewers of each slot, the probability that each viewer watches the ad, the probability that a viewer who watches the ad purchases, the earning from selling each pair of shoes.\n",
    "\n",
    "**Identify:**\n",
    "\n",
    "Profit of slot = expected earnings - cost of slot\n",
    "\n",
    "Expected earnings is equal to price multiplied by expected number of sales.\n",
    "\n",
    "The probability each viewer purchases = probability of watching the ad $\\times$ probability of one who sees the ad purchases = $(0.40)(0.01) = 0.004$.\n",
    "\n",
    "The total number of people who purchases is related to the binomial distribution, $n$ is the # of viewers and $p$ is the probability of purchasing above. The expected value of this is $np$.\n",
    "\n",
    "**Plan:**\n",
    "\n",
    "First compute the expected number of people who purchase based on the binomial distribution formula for expected values, then compute the profit by multiplying the price and subtracting the cost.\n",
    "\n",
    "**Execute:**\n",
    "\n",
    "Since each viewer purchases with probability $0.4 \\times 0.01=0.004$, the expected # of purchases is equal to this times the # of viewers.\n",
    "\n",
    "We complete the above table below:\n",
    "\n",
    "| Time Slot | Cost | # of Viewers | Expected # of purchases | Expected Profit |\n",
    "|--|--|--|--|--|\n",
    "|Morning| 120,000 | 1,000,000 | 4,000 | $(4000)(40)-120000=40000$ |\n",
    "|Afternoon| 200,000 | 1,300,000  | 5,200 | $(5200)(40)-200000=8000$| \n",
    "|Prime Time| 400,000 | 3,200,000 | 12,800 | $(12800)(40)-400000=112000$ |\n",
    "|Late Evening|  150,000 | 800,000 | 3,200 |  $(3200)(40)-150000=-22000$|\n",
    "\n",
    "Hence, the best slot is the prime time, with expected profit of 112,000."
   ]
  },
  {
   "cell_type": "markdown",
   "metadata": {},
   "source": [
    "**(b)** For the best slot, what is the estimated expected value and standard deviation in profit, assuming that the \\# of viewers for each time slot is deterministically known as in the table?\n",
    "\n",
    "**Describe:**\n",
    "\n",
    "Desired: standard deviation of profit (expected value is already obtained above)\n",
    "\n",
    "Given: a binomial distribution for the # of purchases ($n=3200000$, $p=0.004$), price of each product, cost.\n",
    "\n",
    "**Identify:**\n",
    "\n",
    "The standard deviation of a random variable $X$ satisfies the formula $SD(aX)=aSD(X)$, and $SD(X-a)=SD(X)$ for any constant $a$.\n",
    "\n",
    "The standard deviation of a binomial random variable with parameters $n$ and $p$ is $\\sqrt{np(1-p)}$.\n",
    "\n",
    "**Plan:**\n",
    "\n",
    "First compute the standard deviation of the # of purchases using the above formula, then multiply the result by 40 to obtain the standard deviation in the earnings. The standard deviation in profit is the same because cost is constant.\n",
    "\n",
    "**Execute:**\n",
    "\n",
    "The standard deviation in purchases is \n",
    "\n",
    "$$ 40 \\sqrt{(3200000)(0.004)(0.996)}=4516.42$$"
   ]
  },
  {
   "cell_type": "code",
   "execution_count": 2,
   "metadata": {},
   "outputs": [
    {
     "data": {
      "text/plain": [
       "4516.423363680602"
      ]
     },
     "execution_count": 2,
     "metadata": {},
     "output_type": "execute_result"
    }
   ],
   "source": [
    "import math\n",
    "40*math.sqrt(3.2*1e6*0.004*0.996)"
   ]
  },
  {
   "cell_type": "markdown",
   "metadata": {},
   "source": [
    "## Q3 (Pricing with Market Segmentation)\n",
    "Blaise owns a store selling a certain product. His market research team categorizes potential customers into two segments, A and B. They estimate that on average, 30% of customers are of segment A, and 70% customers are of segment B. (However, the actual proportion of your customers each day who are of segment A may vary from day to day, as there are random fluctuations.) They further estimate that the maximum willingness to pay of a segment A customer is normally distriuted with mean 150 and standard deviation 30, while the maximum willingness to pay of a segment B customer is normally distributed with mean 120 and standard deviation 40. Suppose Blaise prices his product at 160 dollars and that he has more than enough inventory. \n",
    "\n",
    "**(a)** Calculate the probability that a customer from each of the two segment purchases the product."
   ]
  },
  {
   "cell_type": "markdown",
   "metadata": {},
   "source": [
    "**Describe:**\n",
    "\n",
    "Desired: 1) probability a segment A customer purchases; 2) probability a segment B customer purchases.\n",
    "\n",
    "Given: the relative proportion of segment A and segment B customers, the price, the distribution of willingness to pay for each segment.\n",
    "\n",
    "**Identify:**\n",
    "\n",
    "Purchase probability is the probability that the willingness to pay is at least equal to the price. This is related to the CDF of the willingness to pay. For example, if $X$ is the amount a segment A customer is willing to pay, then the purchase probability is $P(X \\ge 160) = 1-P(X \\le 160)=1-F(160)$, where $F$ is the Normally CDF with $\\mu=150$ and $\\sigma=30$.\n",
    "\n",
    "**Plan:**\n",
    "Use Python to obtain the CDF $F$ of valuation for each segment, and probability of purchasing is $1-F(160)$. \n",
    "\n",
    "**Execute:**\n",
    "Let $X$ and $Y$ be random variables representing the willingness to pay of a segment A and segment B customer respectively. $X \\sim Normal(150,30)$ and $Y \\sim Normal(120,40)$. Let the CDFs be $F_A$ and $F_B$ respectively. Let $b_A$ and $b_B$ be the purchasing probability of each segment. Then \n",
    "\n",
    "$$b_A = 1-F_A(160) = .369,$$\n",
    "$$b_B = 1-F_B(160) = .159.$$"
   ]
  },
  {
   "cell_type": "code",
   "execution_count": 3,
   "metadata": {},
   "outputs": [
    {
     "data": {
      "text/plain": [
       "(0.36944134018176367, 0.15865525393145707)"
      ]
     },
     "execution_count": 3,
     "metadata": {},
     "output_type": "execute_result"
    }
   ],
   "source": [
    "from scipy.stats import norm\n",
    "b_A=1-norm(150,30).cdf(160)\n",
    "b_B=1-norm(120,40).cdf(160)\n",
    "b_A,b_B"
   ]
  },
  {
   "cell_type": "markdown",
   "metadata": {},
   "source": [
    "**(b)** Calculate the probability that a randomly chosen customer who purchases the product is from segment A."
   ]
  },
  {
   "cell_type": "markdown",
   "metadata": {},
   "source": [
    "**Describe:**\n",
    "\n",
    "Desired: probability that a customer is from segment A, conditional on having purchased.\n",
    "\n",
    "Given: the overall proportion of segment A customers, and the probability of purchasing conditional on the segment.\n",
    "\n",
    "**Identify:**\n",
    "\n",
    "This is a conditional probability question which one can solve using the joint probability table or Bayes' rule (see DMD readings). \n",
    "\n",
    "$$P(A)=0.3$$\n",
    "$$P(B)=0.7$$\n",
    "$$P(buy|A)=.369$$\n",
    "$$P(buy|B)=.159$$\n",
    "$$P(A|buy)=?$$\n",
    "\n",
    "**Plan:**\n",
    "\n",
    "Use Bayes' rule to solve.\n",
    "\n",
    "**Execute:**\n",
    "Let $A$ and $B$ denote the event that a chosen customer is from segment $A$ and segment $B$ respectively. Let $buy$ denote the event of purchasing. By Bayes' rule\n",
    "\n",
    "$$P(A|buy) = \\frac{P(buy|A)P(A)}{P(buy|A)P(A)+P(buy|B)P(B)} = 0.499.$$"
   ]
  },
  {
   "cell_type": "code",
   "execution_count": 4,
   "metadata": {},
   "outputs": [
    {
     "data": {
      "text/plain": [
       "0.49949011988745085"
      ]
     },
     "execution_count": 4,
     "metadata": {},
     "output_type": "execute_result"
    }
   ],
   "source": [
    "p_a_buy=(b_A*0.3)/(b_A*0.3+b_B*0.7)\n",
    "p_a_buy"
   ]
  },
  {
   "cell_type": "markdown",
   "metadata": {},
   "source": [
    "**(c)** The market research team estimates that each segment A customer who purchase the product would later return it with $20\\%$ probability, and each segment B customer would return it with $1\\%$ probability, independent of the others. Calculate the probability that out of $1000$ customers who purchased the product, at least 100 would later return it."
   ]
  },
  {
   "cell_type": "markdown",
   "metadata": {},
   "source": [
    "**Describe:** \n",
    "\n",
    "Desired: $P(X \\ge 100)$ where $X$ is the number of people who return the product out of 1000 customers.\n",
    "\n",
    "Given: $P(A | buy)$, $P(B|buy)$, $P(Return | A \\text{ and } buy)$, and $P(Return | B \\text{ and } buy)$.\n",
    "\n",
    "**Identify:**\n",
    "\n",
    "$X$ is binomial distributed with $n=1000$ and $p = P(return | buy)$. \n",
    "\n",
    "$$P(return | buy) = P(return \\text{ and } A | buy)+P(return \\text{ and } B | buy).$$\n",
    "\n",
    "$$P(return \\text{ and } A | buy) = P(return | A \\text{ and }buy)P(A | buy).$$\n",
    "\n",
    "**Plan:**\n",
    "\n",
    "Use the above formula to compute $p = P(return |buy)$, then use the CDF of the binomial distribution. Noting that if $F$ is the CDF of $X$,\n",
    "$$P(X \\ge 100) = 1- P(X \\le 99) = 1-F(99).$$\n",
    "\n",
    "**Execute:**\n",
    "\n",
    "Let $p$ be the probability that a customer who purchases the product returns it, we have\n",
    "\n",
    "$$ p = 0.2 P(A|buy) * 0.01 P(B|buy) = (0.2)(0.499) + (0.01)(0.501) \\approx 0.105. $$\n",
    "\n",
    "Let $X$ be the number of customers who return the product out of the 1000 given customers. $X \\sim Binomial(n=1000,p)$. Let $F$ be its CDF. The desired probability is \n",
    "\n",
    "$$P(X \\ge 100) = 1- F(99) \\approx 0.708.$$"
   ]
  },
  {
   "cell_type": "code",
   "execution_count": 5,
   "metadata": {},
   "outputs": [
    {
     "data": {
      "text/plain": [
       "0.7082061756245909"
      ]
     },
     "execution_count": 5,
     "metadata": {},
     "output_type": "execute_result"
    }
   ],
   "source": [
    "from scipy.stats import binom\n",
    "return_prob=p_a_buy*0.2+(1-p_a_buy)*0.01\n",
    "dist=binom(1000,return_prob)\n",
    "1-dist.cdf(99)"
   ]
  },
  {
   "cell_type": "markdown",
   "metadata": {},
   "source": [
    "**(d)** Suppose that there is 100,000 customers in total. Moreover, a returned product yields zero revenue. What is the expected value and standard deviation of revenue from each segment, after accounting for returns?"
   ]
  },
  {
   "cell_type": "markdown",
   "metadata": {},
   "source": [
    "**Describe:**\n",
    "\n",
    "Desired: expected value and standard deviation of revenue from each segment.\n",
    "\n",
    "Given: each (unreturned) purchase yields revenue of 160, the size of each segment, the purchase probability of each segment, and the return probability of each segment.\n",
    "\n",
    "**Identify:**\n",
    "\n",
    "Let $revenue_A$ and $purchases_A$ be the revenue from segment A and the number of (unreturned) purchases from this segment respectively. We have\n",
    "\n",
    "$$E[revenue_A] = 160 E[purchases_A].$$\n",
    "$$SD(revenue_A) = 160 SD(purchases_A).$$\n",
    "\n",
    "The random variable $purchases_A$ is binomial distributed with $n=30000$ and $p$ being the probability of buying and not returning. The probability of buying and not returning is equal to the probability of buying (0.369) multiplied by the probability of not returning (0.8).\n",
    "\n",
    "**Plan:**\n",
    "\n",
    "Calculate the probability of purchasing and not returning for each segment. Then use the binomial distribution formula to compute the mean and standard deviation of the total number of (unreturned) purchases from each segment. Finally, multiplying each by the price to find the mean and standard deviation of profit.\n",
    "\n",
    "**Execution:**\n",
    "Let $p_A$ and $p_B$ be the probability of buying and not returning from a randomly chosen individual of segment A and B respectively, we have\n",
    "\n",
    "$$ p_A = (1-0.2)P(buy|A) = (1-0.2)(0.369) \\approx 0.296,$$\n",
    "$$ p_B = (1-0.01)P(buy|B) = (1-0.01)(0.159) \\approx 0.157. $$\n",
    "\n",
    "Let $X_A$ and $X_B$ be the number of unreturned purchases from each segment. These are distributed $X_A \\sim Binomial(n=30000,p_A)$ and $X_B \\sim Binomial(n=70000,p_B)$. \n",
    "\n",
    "Let $R_A$ and $R_B$ be the revenue from each segment, we have $R_A=160X_A$ and $R_B=160X_B$. Therefore,\n",
    "\n",
    "$$E[R_A]=160E[X_A]=160(30000)p_A \\approx 1.42 \\times 10^6,$$\n",
    "$$SD[R_A]=160SD[X_A]=160\\sqrt{(30000)p_A(1-p_A)} \\approx 1.26 \\times 10^4.$$\n",
    "\n",
    "Similarly, $E[R_B] \\approx 1.76 \\times 10^6$ and $SD(R_B) \\approx 1.54 \\times 10^4$.\n"
   ]
  },
  {
   "cell_type": "code",
   "execution_count": 6,
   "metadata": {},
   "outputs": [
    {
     "name": "stdout",
     "output_type": "stream",
     "text": [
      "Segment A: expected revenue, 1418654.7462979725 standard deviation 12645.1064224288\n",
      "Segment B: expected revenue, 1759169.4555919957 standard deviation 15403.163278617487\n"
     ]
    }
   ],
   "source": [
    "import numpy as np\n",
    "p_A=b_A*(1-0.2)\n",
    "p_B=b_B*(1-0.01)\n",
    "n_A=30000\n",
    "n_B=70000\n",
    "mu_A=n_A*p_A*160\n",
    "sigma_A=np.sqrt(n_A*p_A*(1-p_A))*160\n",
    "mu_B=n_B*p_B*160\n",
    "sigma_B=np.sqrt(n_B*p_B*(1-p_B))*160\n",
    "print('Segment A: expected revenue,',mu_A,'standard deviation',sigma_A)\n",
    "print('Segment B: expected revenue,',mu_B,'standard deviation',sigma_B)"
   ]
  }
 ],
 "metadata": {
  "kernelspec": {
   "display_name": "Python 3",
   "language": "python",
   "name": "python3"
  },
  "language_info": {
   "codemirror_mode": {
    "name": "ipython",
    "version": 3
   },
   "file_extension": ".py",
   "mimetype": "text/x-python",
   "name": "python",
   "nbconvert_exporter": "python",
   "pygments_lexer": "ipython3",
   "version": "3.7.2"
  }
 },
 "nbformat": 4,
 "nbformat_minor": 2
}
