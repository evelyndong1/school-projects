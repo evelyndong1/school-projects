{
 "cells": [
  {
   "cell_type": "markdown",
   "metadata": {},
   "source": [
    "# Session 21: Making a Reusable Software Tool\n",
    "\n",
    "## Example (Abstract formulation from session 19)\n",
    "\n",
    "**Data:** \n",
    "\n",
    "- $I$: the set of books. \n",
    "- $J$: the set of genres.\n",
    "- $a_{ij}$: a binary variable denoting whether book $i$ is of genre $j$. (These corresponds to the checkmarks in the original question.)\n",
    "- $q_j$: how many books do we need of genre $j$.\n",
    "\n",
    "**Decision Variables:** For each book $i \\in I$, let $x_i$ denote whether to carry book $i$. (Binary)\n",
    "\n",
    "**Objective and constraints:**\n",
    "\n",
    "$$\\begin{aligned}\n",
    "\\text{Minimize:} && \\sum_{i \\in I} x_i \\\\\n",
    "\\text{subject to:} \\\\\n",
    "\\text{(Enough books in genre)} && \\sum_{i \\in I} a_{ij}x_i & \\ge q_j & \\text{ for each genre $j \\in J$.}\n",
    "\\end{aligned}$$\n",
    "\n",
    "### Step 4a. Plan how to store all required data in an input spreadsheet.\n",
    "\n",
    "Download the `21-data.zip` file on Github and extract out all contents into this directory. See `21-data1.xlsx` and `21-data1b.xlsx`.\n",
    "\n",
    "### Step 4b. Implement the abstract formulation using Python and Gurobi.\n",
    "\n",
    "#### Loading data"
   ]
  },
  {
   "cell_type": "code",
   "execution_count": 2,
   "metadata": {
    "scrolled": true
   },
   "outputs": [
    {
     "data": {
      "text/html": [
       "<div>\n",
       "<style scoped>\n",
       "    .dataframe tbody tr th:only-of-type {\n",
       "        vertical-align: middle;\n",
       "    }\n",
       "\n",
       "    .dataframe tbody tr th {\n",
       "        vertical-align: top;\n",
       "    }\n",
       "\n",
       "    .dataframe thead th {\n",
       "        text-align: right;\n",
       "    }\n",
       "</style>\n",
       "<table border=\"1\" class=\"dataframe\">\n",
       "  <thead>\n",
       "    <tr style=\"text-align: right;\">\n",
       "      <th></th>\n",
       "      <th>Literary</th>\n",
       "      <th>Sci-Fi</th>\n",
       "      <th>Romance</th>\n",
       "      <th>Thriller</th>\n",
       "    </tr>\n",
       "    <tr>\n",
       "      <th>book</th>\n",
       "      <th></th>\n",
       "      <th></th>\n",
       "      <th></th>\n",
       "      <th></th>\n",
       "    </tr>\n",
       "  </thead>\n",
       "  <tbody>\n",
       "    <tr>\n",
       "      <th>1</th>\n",
       "      <td>1</td>\n",
       "      <td>0</td>\n",
       "      <td>0</td>\n",
       "      <td>0</td>\n",
       "    </tr>\n",
       "    <tr>\n",
       "      <th>2</th>\n",
       "      <td>0</td>\n",
       "      <td>1</td>\n",
       "      <td>0</td>\n",
       "      <td>1</td>\n",
       "    </tr>\n",
       "    <tr>\n",
       "      <th>3</th>\n",
       "      <td>0</td>\n",
       "      <td>0</td>\n",
       "      <td>1</td>\n",
       "      <td>1</td>\n",
       "    </tr>\n",
       "    <tr>\n",
       "      <th>4</th>\n",
       "      <td>1</td>\n",
       "      <td>0</td>\n",
       "      <td>1</td>\n",
       "      <td>0</td>\n",
       "    </tr>\n",
       "    <tr>\n",
       "      <th>5</th>\n",
       "      <td>1</td>\n",
       "      <td>0</td>\n",
       "      <td>0</td>\n",
       "      <td>0</td>\n",
       "    </tr>\n",
       "    <tr>\n",
       "      <th>6</th>\n",
       "      <td>0</td>\n",
       "      <td>0</td>\n",
       "      <td>1</td>\n",
       "      <td>0</td>\n",
       "    </tr>\n",
       "    <tr>\n",
       "      <th>7</th>\n",
       "      <td>0</td>\n",
       "      <td>1</td>\n",
       "      <td>0</td>\n",
       "      <td>0</td>\n",
       "    </tr>\n",
       "    <tr>\n",
       "      <th>8</th>\n",
       "      <td>0</td>\n",
       "      <td>0</td>\n",
       "      <td>0</td>\n",
       "      <td>1</td>\n",
       "    </tr>\n",
       "    <tr>\n",
       "      <th>9</th>\n",
       "      <td>1</td>\n",
       "      <td>1</td>\n",
       "      <td>0</td>\n",
       "      <td>0</td>\n",
       "    </tr>\n",
       "    <tr>\n",
       "      <th>10</th>\n",
       "      <td>0</td>\n",
       "      <td>0</td>\n",
       "      <td>1</td>\n",
       "      <td>0</td>\n",
       "    </tr>\n",
       "  </tbody>\n",
       "</table>\n",
       "</div>"
      ],
      "text/plain": [
       "      Literary  Sci-Fi  Romance  Thriller\n",
       "book                                     \n",
       "1            1       0        0         0\n",
       "2            0       1        0         1\n",
       "3            0       0        1         1\n",
       "4            1       0        1         0\n",
       "5            1       0        0         0\n",
       "6            0       0        1         0\n",
       "7            0       1        0         0\n",
       "8            0       0        0         1\n",
       "9            1       1        0         0\n",
       "10           0       0        1         0"
      ]
     },
     "execution_count": 2,
     "metadata": {},
     "output_type": "execute_result"
    }
   ],
   "source": [
    "import pandas as pd\n",
    "genres=pd.read_excel('21-data1.xlsx',sheet_name='genres',index_col=0)\\\n",
    "                                            .fillna(0).astype(int)\n",
    "genres"
   ]
  },
  {
   "cell_type": "code",
   "execution_count": 4,
   "metadata": {},
   "outputs": [
    {
     "data": {
      "text/plain": [
       "genre\n",
       "Literary    2\n",
       "Sci-Fi      2\n",
       "Romance     2\n",
       "Thriller    2\n",
       "Name: required, dtype: int64"
      ]
     },
     "execution_count": 4,
     "metadata": {},
     "output_type": "execute_result"
    }
   ],
   "source": [
    "requirements=pd.read_excel('21-data1.xlsx',sheet_name='requirements',index_col=0)['required']\n",
    "requirements"
   ]
  },
  {
   "cell_type": "markdown",
   "metadata": {},
   "source": [
    "#### Gurobi Optimization"
   ]
  },
  {
   "cell_type": "code",
   "execution_count": 5,
   "metadata": {},
   "outputs": [
    {
     "data": {
      "text/plain": [
       "[2, 3, 4, 9]"
      ]
     },
     "execution_count": 5,
     "metadata": {},
     "output_type": "execute_result"
    }
   ],
   "source": [
    "from gurobipy import Model, GRB\n",
    "mod=Model()\n",
    "I=genres.index\n",
    "J=genres.columns\n",
    "\n",
    "x=mod.addVars(I,vtype=GRB.BINARY)\n",
    "mod.setObjective(sum(x[i] for i in I))\n",
    "for j in J:\n",
    "    mod.addConstr(sum(genres.loc[i,j]*x[i] for i in I)>=requirements.loc[j])\n",
    "mod.setParam('outputflag',False)\n",
    "mod.optimize()\n",
    "\n",
    "carry=[]\n",
    "for i in I:\n",
    "    if x[i].x:\n",
    "        carry.append(i)\n",
    "carry"
   ]
  },
  {
   "cell_type": "markdown",
   "metadata": {},
   "source": [
    "### Step 4c. Make the code runnable as a function"
   ]
  },
  {
   "cell_type": "code",
   "execution_count": 30,
   "metadata": {},
   "outputs": [],
   "source": [
    "import pandas as pd\n",
    "from gurobipy import Model, GRB\n",
    "\n",
    "def optimize(inputFile,outputFile):\n",
    "    genres=pd.read_excel(inputFile,sheet_name='genres',index_col=0).fillna(0)\n",
    "    requirements=pd.read_excel(inputFile,sheet_name='requirements',index_col=0)['required']\n",
    "    \n",
    "    mod=Model()\n",
    "    I=genres.index\n",
    "    J=genres.columns\n",
    "    x=mod.addVars(I,vtype=GRB.BINARY)\n",
    "    mod.setObjective(sum(x[i] for i in I))\n",
    "    for j in J:\n",
    "        mod.addConstr(sum(genres.loc[i,j]*x[i] for i in I)>=requirements.loc[j])\n",
    "    mod.setParam('outputflag',False)\n",
    "    mod.optimize()\n",
    "    carry=[]\n",
    "    for i in I:\n",
    "        if x[i].x:\n",
    "            carry.append(i)\n",
    "            \n",
    "    writer=pd.ExcelWriter(outputFile)\n",
    "    pd.DataFrame(carry,columns=['books'])\\\n",
    "        .to_excel(writer,sheet_name='optimal_decision')\n",
    "    pd.DataFrame([mod.objVal],columns=['books_needed'])\\\n",
    "        .to_excel(writer,sheet_name='objective',index=False)\n",
    "    writer.save()\n",
    "    \n",
    "optimize('21-data1.xlsx','21-data1-output.xlsx') \n",
    "optimize('21-data1b.xlsx','21-data1b-output.xlsx')  "
   ]
  },
  {
   "cell_type": "markdown",
   "metadata": {},
   "source": [
    "### Step 4d. Make the code runnable as a standalone module"
   ]
  },
  {
   "cell_type": "markdown",
   "metadata": {},
   "source": [
    "The `books.py` file (included in the `21-data.zip` file) contains the above code as well as the following addendum at the end. "
   ]
  },
  {
   "cell_type": "code",
   "execution_count": null,
   "metadata": {},
   "outputs": [],
   "source": [
    "if __name__=='__main__':\n",
    "    import sys, os\n",
    "    if len(sys.argv)!=3:\n",
    "        print('Correct syntax: python books.py inputFile outputFile')\n",
    "    else:\n",
    "        inputFile=sys.argv[1]\n",
    "        outputFile=sys.argv[2]\n",
    "        if os.path.exists(inputFile):\n",
    "            optimize(inputFile,outputFile)\n",
    "            print(f'Successfully optimized. Results in \"{outputFile}\"')\n",
    "        else:\n",
    "            print(f'File \"{inputFile}\" not found!')"
   ]
  },
  {
   "cell_type": "markdown",
   "metadata": {},
   "source": [
    "This allows the code to be run using the command line (in Anaconda Prompt in Windows or in a Terminal in Mac) using the command\n",
    "\n",
    "```\n",
    "python books.py inputFile outputFile\n",
    "```\n",
    "\n",
    "For example, one can process the first input file by navigating in command line to the directory containing `books.py`, `21-data1.xlsx` and `21-data1-output.xlsx` and typing the following command:\n",
    "```\n",
    "python books.py 21-data1.xlsx 21-data1-output.xlsx\n",
    "```\n",
    "\n",
    "\n",
    "\n",
    "### Digression: Command line basics \n",
    "\n",
    "Open Anaconda Prompt (in Windows) or a Terminal (in Mac).\n",
    "\n",
    "**Obtain current directory (Windows):**\n",
    "```\n",
    "cd\n",
    "```\n",
    "\n",
    "**Obtain current directory (Mac):**\n",
    "\n",
    "```\n",
    "pwd\n",
    "```\n",
    "\n",
    "**Changing directory:**\n",
    "\n",
    "```\n",
    "cd directoryName\n",
    "```\n",
    "\n",
    "**Changing drive (Windows):**\n",
    "```\n",
    "D:\\\n",
    "```\n",
    "\n",
    "**Moving up one level:**\n",
    "\n",
    "```\n",
    "cd ..\n",
    "```\n",
    "\n",
    "**Creating new directory:**\n",
    "```\n",
    "mkdir directoryName\n",
    "```\n",
    "\n",
    "**Listing content of current directory (Windows):**\n",
    "\n",
    "```\n",
    "dir\n",
    "```\n",
    "\n",
    "**Listing content of current directory (Mac):**\n",
    "\n",
    "```\n",
    "ls\n",
    "```"
   ]
  },
  {
   "cell_type": "markdown",
   "metadata": {},
   "source": [
    "## Exercise (Transportation Planning)\n",
    "\n",
    "### Abstract formulation from session 20 Q2\n",
    "\n",
    "**Data:**\n",
    "\n",
    "- $I$: the set of office branches.\n",
    "- $J$: the set of conventions.\n",
    "- $s_i$: the number of available representatives at office branch $i \\in I$. \n",
    "- $d_j$: the number of representatives needed at convention $j \\in J$.\n",
    "- $c_{ij}$: the roundtrip airfare from branch $i$ to convention $j$.\n",
    "\n",
    "**Decision variables:** Let $X_{ij}$ denote how many representatives to send from branch $i \\in I$ to convention $j \\in J$. (Integer)\n",
    "\n",
    "**Objective and constraints:**\n",
    "\n",
    "$$\\begin{aligned}\n",
    "\\text{Minimize} && \\sum_{i\\in I}\\sum_{j\\in J} c_{ij}x_{ij} \\\\\n",
    "\\text{s.t.} \\\\\n",
    "\\text{(Supply)} && \\sum_{j \\in J}x_{ij} & \\le s_i && \\text{ for each branch $i \\in I$} \\\\\n",
    "\\text{(Demand)} && \\sum_{i \\in I}x_{ij} & \\ge d_j  && \\text{ for each convention $j \\in J$}\\\\\n",
    "\\text{(Non-negativity)} && x_{ij} & \\ge 0  && \\text{ for each $i \\in I$, $j \\in J$}\n",
    "\\end{aligned}$$\n",
    "\n",
    "### Step 4a. Plan how to store all required data in an input spreadsheet.\n",
    "\n",
    "See `21-data2.xlsx` and `21-data2b.xlsx`, where are in the `21-data.zip` file after extraction.\n",
    "\n",
    "### Step 4b. Implement the abstract formulation using Python and Gurobi.\n",
    "\n",
    "Load the data and implement the optimization in Jupyter notebook. Don't worry about outputing format, writing a function or copying into a Python module for now."
   ]
  },
  {
   "cell_type": "code",
   "execution_count": 1,
   "metadata": {},
   "outputs": [
    {
     "data": {
      "text/html": [
       "<div>\n",
       "<style scoped>\n",
       "    .dataframe tbody tr th:only-of-type {\n",
       "        vertical-align: middle;\n",
       "    }\n",
       "\n",
       "    .dataframe tbody tr th {\n",
       "        vertical-align: top;\n",
       "    }\n",
       "\n",
       "    .dataframe thead th {\n",
       "        text-align: right;\n",
       "    }\n",
       "</style>\n",
       "<table border=\"1\" class=\"dataframe\">\n",
       "  <thead>\n",
       "    <tr style=\"text-align: right;\">\n",
       "      <th></th>\n",
       "      <th>Los Angeles</th>\n",
       "      <th>St. Louis</th>\n",
       "      <th>Detroit</th>\n",
       "    </tr>\n",
       "  </thead>\n",
       "  <tbody>\n",
       "    <tr>\n",
       "      <th>Little Rock</th>\n",
       "      <td>250</td>\n",
       "      <td>150</td>\n",
       "      <td>200</td>\n",
       "    </tr>\n",
       "    <tr>\n",
       "      <th>Urbana</th>\n",
       "      <td>300</td>\n",
       "      <td>200</td>\n",
       "      <td>150</td>\n",
       "    </tr>\n",
       "  </tbody>\n",
       "</table>\n",
       "</div>"
      ],
      "text/plain": [
       "             Los Angeles  St. Louis  Detroit\n",
       "Little Rock          250        150      200\n",
       "Urbana               300        200      150"
      ]
     },
     "execution_count": 1,
     "metadata": {},
     "output_type": "execute_result"
    }
   ],
   "source": [
    "import pandas as pd\n",
    "cost=pd.read_excel('21-data2.xlsx',sheet_name='costs',index_col=0)\\\n",
    "                                            .fillna(0).astype(int)\n",
    "cost"
   ]
  },
  {
   "cell_type": "code",
   "execution_count": 2,
   "metadata": {},
   "outputs": [
    {
     "data": {
      "text/plain": [
       "branch\n",
       "Little Rock    6\n",
       "Urbana         6\n",
       "Name: available, dtype: int64"
      ]
     },
     "execution_count": 2,
     "metadata": {},
     "output_type": "execute_result"
    }
   ],
   "source": [
    "supply=pd.read_excel('21-data2.xlsx',sheet_name='supply',index_col=0)\\\n",
    "                                            .fillna(0).astype(int)['available']\n",
    "supply"
   ]
  },
  {
   "cell_type": "code",
   "execution_count": 3,
   "metadata": {},
   "outputs": [
    {
     "data": {
      "text/plain": [
       "convention\n",
       "Los Angeles    2\n",
       "St. Louis      5\n",
       "Detroit        4\n",
       "Name: needed, dtype: int64"
      ]
     },
     "execution_count": 3,
     "metadata": {},
     "output_type": "execute_result"
    }
   ],
   "source": [
    "demand=pd.read_excel('21-data2.xlsx',sheet_name='demand',index_col=0)\\\n",
    "                                            .fillna(0).astype(int)['needed']\n",
    "demand"
   ]
  },
  {
   "cell_type": "code",
   "execution_count": 4,
   "metadata": {},
   "outputs": [
    {
     "name": "stdout",
     "output_type": "stream",
     "text": [
      "Using license file /Users/apple/gurobi.lic\n",
      "Academic license - for non-commercial use only\n"
     ]
    },
    {
     "data": {
      "text/html": [
       "<div>\n",
       "<style scoped>\n",
       "    .dataframe tbody tr th:only-of-type {\n",
       "        vertical-align: middle;\n",
       "    }\n",
       "\n",
       "    .dataframe tbody tr th {\n",
       "        vertical-align: top;\n",
       "    }\n",
       "\n",
       "    .dataframe thead th {\n",
       "        text-align: right;\n",
       "    }\n",
       "</style>\n",
       "<table border=\"1\" class=\"dataframe\">\n",
       "  <thead>\n",
       "    <tr style=\"text-align: right;\">\n",
       "      <th></th>\n",
       "      <th>Los Angeles</th>\n",
       "      <th>St. Louis</th>\n",
       "      <th>Detroit</th>\n",
       "    </tr>\n",
       "  </thead>\n",
       "  <tbody>\n",
       "    <tr>\n",
       "      <th>Little Rock</th>\n",
       "      <td>2</td>\n",
       "      <td>4</td>\n",
       "      <td>-0</td>\n",
       "    </tr>\n",
       "    <tr>\n",
       "      <th>Urbana</th>\n",
       "      <td>-0</td>\n",
       "      <td>1</td>\n",
       "      <td>4</td>\n",
       "    </tr>\n",
       "  </tbody>\n",
       "</table>\n",
       "</div>"
      ],
      "text/plain": [
       "            Los Angeles St. Louis Detroit\n",
       "Little Rock           2         4      -0\n",
       "Urbana               -0         1       4"
      ]
     },
     "execution_count": 4,
     "metadata": {},
     "output_type": "execute_result"
    }
   ],
   "source": [
    "from gurobipy import Model, GRB\n",
    "mod=Model()\n",
    "I=cost.index\n",
    "J=cost.columns\n",
    "\n",
    "x=mod.addVars(I, J, vtype=GRB.INTEGER, lb=0)\n",
    "mod.setObjective(sum(x[i, j]*cost.loc[i, j] for i in I for j in J))\n",
    "\n",
    "for j in J:\n",
    "    mod.addConstr(sum(x[i,j] for i in I)>=demand.loc[j])\n",
    "for i in I:\n",
    "    mod.addConstr(sum(x[i,j] for j in J)<=supply.loc[i])\n",
    "    \n",
    "mod.setParam('outputflag',False)\n",
    "mod.optimize()\n",
    "\n",
    "df = pd.DataFrame(index=I, columns=J)\n",
    "for i in I:\n",
    "    for j in J:\n",
    "        df.loc[i,j]=x[i,j].x\n",
    "df"
   ]
  },
  {
   "cell_type": "markdown",
   "metadata": {},
   "source": [
    "### Step 4c. Make the code runnable as a function\n",
    "\n",
    "After verifying that the code in step 4b works, store the output in pandas DataFrames (so that you can export into excel easily). Then write the optimal objective and the optimal plan for sending representatives into an excel workbook (in different sheets). Finally, indent everything and put it in a function."
   ]
  },
  {
   "cell_type": "code",
   "execution_count": 48,
   "metadata": {},
   "outputs": [],
   "source": [
    "import pandas as pd\n",
    "from gurobipy import Model, GRB\n",
    "\n",
    "def optimize(inputFile,outputFile):\n",
    "    cost=pd.read_excel('21-data2.xlsx',sheet_name='costs',index_col=0)\\\n",
    "                                            .fillna(0).astype(int)\n",
    "    supply=pd.read_excel('21-data2.xlsx',sheet_name='supply',index_col=0)\\\n",
    "                                            .fillna(0).astype(int)['available']\n",
    "    demand=pd.read_excel('21-data2.xlsx',sheet_name='demand',index_col=0)\\\n",
    "                                            .fillna(0).astype(int)['needed']\n",
    "\n",
    "    mod=Model()\n",
    "    I=cost.index\n",
    "    J=cost.columns\n",
    "\n",
    "    x=mod.addVars(I, J, vtype=GRB.INTEGER, lb=0)\n",
    "    mod.setObjective(sum(x[i, j]*cost.loc[i, j] for i in I for j in J))\n",
    "\n",
    "    for j in J:\n",
    "        mod.addConstr(sum(x[i,j] for i in I)>=demand.loc[j])\n",
    "    for i in I:\n",
    "        mod.addConstr(sum(x[i,j] for j in J)<=supply.loc[i])\n",
    "\n",
    "    mod.setParam('outputflag',False)\n",
    "    mod.optimize()\n",
    "                \n",
    "    writer=pd.ExcelWriter(outputFile)\n",
    "    pd.DataFrame([mod.objVal],columns=['Minimal cost'])\\\n",
    "        .to_excel(writer,sheet_name='Objective',index=False)\n",
    "    \n",
    "    df = pd.DataFrame(index=I, columns=J)\n",
    "    for i in I:\n",
    "        for j in J:\n",
    "            df.loc[i,j]=x[i,j].x\n",
    "    df.to_excel(writer,sheet_name='plan')\n",
    "    writer.save()\n",
    "\n",
    "optimize('21-data2.xlsx','21-data2-output.xlsx') \n",
    "optimize('21-data2b.xlsx','21-data2b-output.xlsx')  "
   ]
  },
  {
   "cell_type": "markdown",
   "metadata": {},
   "source": [
    "### Step 4d. Make the code runnable as a standalone module\n",
    "\n",
    "Copy the working code from step 4c into a Python module `transportation.py` using any code editor (such as Spyder), and add the corresponding code as in the example to make it runnable from the command line. Verify by running\n",
    "\n",
    "```\n",
    "python transportation.py 21-data2.xlsx 21-data2-output2.xlsx\n",
    "python transportation.py 21-data2b.xlsx 21-data2b-output2.xlsx\n",
    "```\n"
   ]
  }
 ],
 "metadata": {
  "kernelspec": {
   "display_name": "Python 3",
   "language": "python",
   "name": "python3"
  },
  "language_info": {
   "codemirror_mode": {
    "name": "ipython",
    "version": 3
   },
   "file_extension": ".py",
   "mimetype": "text/x-python",
   "name": "python",
   "nbconvert_exporter": "python",
   "pygments_lexer": "ipython3",
   "version": "3.7.6"
  },
  "toc": {
   "base_numbering": 1,
   "nav_menu": {},
   "number_sections": true,
   "sideBar": true,
   "skip_h1_title": false,
   "title_cell": "Table of Contents",
   "title_sidebar": "Contents",
   "toc_cell": false,
   "toc_position": {},
   "toc_section_display": true,
   "toc_window_display": false
  }
 },
 "nbformat": 4,
 "nbformat_minor": 2
}
